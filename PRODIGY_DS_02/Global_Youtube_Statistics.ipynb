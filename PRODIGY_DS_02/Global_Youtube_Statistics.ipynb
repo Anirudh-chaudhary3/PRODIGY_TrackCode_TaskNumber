{
 "cells": [
  {
   "cell_type": "markdown",
   "metadata": {},
   "source": [
    "<b>IMPORTING RELEVANT LIBRARIES<B>"
   ]
  },
  {
   "cell_type": "code",
   "execution_count": 1,
   "metadata": {},
   "outputs": [],
   "source": [
    "import pandas as pd\n",
    "import matplotlib.pyplot as plt\n",
    "import plotly.graph_objects as go\n",
    "import plotly.express as px\n",
    "import numpy as np\n",
    "import seaborn as sns\n",
    "%matplotlib inline\n",
    "import warnings\n",
    "warnings.filterwarnings('ignore')"
   ]
  },
  {
   "cell_type": "markdown",
   "metadata": {},
   "source": [
    "<B> IMPORTING DATASET <B>"
   ]
  },
  {
   "cell_type": "code",
   "execution_count": 2,
   "metadata": {},
   "outputs": [],
   "source": [
    "df = pd.read_csv('Global YouTube Statistics.csv',encoding='latin-1')"
   ]
  },
  {
   "cell_type": "code",
   "execution_count": 3,
   "metadata": {},
   "outputs": [
    {
     "data": {
      "text/html": [
       "<div>\n",
       "<style scoped>\n",
       "    .dataframe tbody tr th:only-of-type {\n",
       "        vertical-align: middle;\n",
       "    }\n",
       "\n",
       "    .dataframe tbody tr th {\n",
       "        vertical-align: top;\n",
       "    }\n",
       "\n",
       "    .dataframe thead th {\n",
       "        text-align: right;\n",
       "    }\n",
       "</style>\n",
       "<table border=\"1\" class=\"dataframe\">\n",
       "  <thead>\n",
       "    <tr style=\"text-align: right;\">\n",
       "      <th></th>\n",
       "      <th>rank</th>\n",
       "      <th>Youtuber</th>\n",
       "      <th>subscribers</th>\n",
       "      <th>video views</th>\n",
       "      <th>category</th>\n",
       "      <th>Title</th>\n",
       "      <th>uploads</th>\n",
       "      <th>Country</th>\n",
       "      <th>Abbreviation</th>\n",
       "      <th>channel_type</th>\n",
       "      <th>...</th>\n",
       "      <th>subscribers_for_last_30_days</th>\n",
       "      <th>created_year</th>\n",
       "      <th>created_month</th>\n",
       "      <th>created_date</th>\n",
       "      <th>Gross tertiary education enrollment (%)</th>\n",
       "      <th>Population</th>\n",
       "      <th>Unemployment rate</th>\n",
       "      <th>Urban_population</th>\n",
       "      <th>Latitude</th>\n",
       "      <th>Longitude</th>\n",
       "    </tr>\n",
       "  </thead>\n",
       "  <tbody>\n",
       "    <tr>\n",
       "      <th>0</th>\n",
       "      <td>1</td>\n",
       "      <td>T-Series</td>\n",
       "      <td>245000000</td>\n",
       "      <td>2.280000e+11</td>\n",
       "      <td>Music</td>\n",
       "      <td>T-Series</td>\n",
       "      <td>20082</td>\n",
       "      <td>India</td>\n",
       "      <td>IN</td>\n",
       "      <td>Music</td>\n",
       "      <td>...</td>\n",
       "      <td>2000000.0</td>\n",
       "      <td>2006.0</td>\n",
       "      <td>Mar</td>\n",
       "      <td>13.0</td>\n",
       "      <td>28.1</td>\n",
       "      <td>1.366418e+09</td>\n",
       "      <td>5.36</td>\n",
       "      <td>471031528.0</td>\n",
       "      <td>20.593684</td>\n",
       "      <td>78.962880</td>\n",
       "    </tr>\n",
       "    <tr>\n",
       "      <th>1</th>\n",
       "      <td>2</td>\n",
       "      <td>YouTube Movies</td>\n",
       "      <td>170000000</td>\n",
       "      <td>0.000000e+00</td>\n",
       "      <td>Film &amp; Animation</td>\n",
       "      <td>youtubemovies</td>\n",
       "      <td>1</td>\n",
       "      <td>United States</td>\n",
       "      <td>US</td>\n",
       "      <td>Games</td>\n",
       "      <td>...</td>\n",
       "      <td>NaN</td>\n",
       "      <td>2006.0</td>\n",
       "      <td>Mar</td>\n",
       "      <td>5.0</td>\n",
       "      <td>88.2</td>\n",
       "      <td>3.282395e+08</td>\n",
       "      <td>14.70</td>\n",
       "      <td>270663028.0</td>\n",
       "      <td>37.090240</td>\n",
       "      <td>-95.712891</td>\n",
       "    </tr>\n",
       "    <tr>\n",
       "      <th>2</th>\n",
       "      <td>3</td>\n",
       "      <td>MrBeast</td>\n",
       "      <td>166000000</td>\n",
       "      <td>2.836884e+10</td>\n",
       "      <td>Entertainment</td>\n",
       "      <td>MrBeast</td>\n",
       "      <td>741</td>\n",
       "      <td>United States</td>\n",
       "      <td>US</td>\n",
       "      <td>Entertainment</td>\n",
       "      <td>...</td>\n",
       "      <td>8000000.0</td>\n",
       "      <td>2012.0</td>\n",
       "      <td>Feb</td>\n",
       "      <td>20.0</td>\n",
       "      <td>88.2</td>\n",
       "      <td>3.282395e+08</td>\n",
       "      <td>14.70</td>\n",
       "      <td>270663028.0</td>\n",
       "      <td>37.090240</td>\n",
       "      <td>-95.712891</td>\n",
       "    </tr>\n",
       "    <tr>\n",
       "      <th>3</th>\n",
       "      <td>4</td>\n",
       "      <td>Cocomelon - Nursery Rhymes</td>\n",
       "      <td>162000000</td>\n",
       "      <td>1.640000e+11</td>\n",
       "      <td>Education</td>\n",
       "      <td>Cocomelon - Nursery Rhymes</td>\n",
       "      <td>966</td>\n",
       "      <td>United States</td>\n",
       "      <td>US</td>\n",
       "      <td>Education</td>\n",
       "      <td>...</td>\n",
       "      <td>1000000.0</td>\n",
       "      <td>2006.0</td>\n",
       "      <td>Sep</td>\n",
       "      <td>1.0</td>\n",
       "      <td>88.2</td>\n",
       "      <td>3.282395e+08</td>\n",
       "      <td>14.70</td>\n",
       "      <td>270663028.0</td>\n",
       "      <td>37.090240</td>\n",
       "      <td>-95.712891</td>\n",
       "    </tr>\n",
       "    <tr>\n",
       "      <th>4</th>\n",
       "      <td>5</td>\n",
       "      <td>SET India</td>\n",
       "      <td>159000000</td>\n",
       "      <td>1.480000e+11</td>\n",
       "      <td>Shows</td>\n",
       "      <td>SET India</td>\n",
       "      <td>116536</td>\n",
       "      <td>India</td>\n",
       "      <td>IN</td>\n",
       "      <td>Entertainment</td>\n",
       "      <td>...</td>\n",
       "      <td>1000000.0</td>\n",
       "      <td>2006.0</td>\n",
       "      <td>Sep</td>\n",
       "      <td>20.0</td>\n",
       "      <td>28.1</td>\n",
       "      <td>1.366418e+09</td>\n",
       "      <td>5.36</td>\n",
       "      <td>471031528.0</td>\n",
       "      <td>20.593684</td>\n",
       "      <td>78.962880</td>\n",
       "    </tr>\n",
       "  </tbody>\n",
       "</table>\n",
       "<p>5 rows × 28 columns</p>\n",
       "</div>"
      ],
      "text/plain": [
       "   rank                    Youtuber  subscribers   video views  \\\n",
       "0     1                    T-Series    245000000  2.280000e+11   \n",
       "1     2              YouTube Movies    170000000  0.000000e+00   \n",
       "2     3                     MrBeast    166000000  2.836884e+10   \n",
       "3     4  Cocomelon - Nursery Rhymes    162000000  1.640000e+11   \n",
       "4     5                   SET India    159000000  1.480000e+11   \n",
       "\n",
       "           category                       Title  uploads        Country  \\\n",
       "0             Music                    T-Series    20082          India   \n",
       "1  Film & Animation               youtubemovies        1  United States   \n",
       "2     Entertainment                     MrBeast      741  United States   \n",
       "3         Education  Cocomelon - Nursery Rhymes      966  United States   \n",
       "4             Shows                   SET India   116536          India   \n",
       "\n",
       "  Abbreviation   channel_type  ...  subscribers_for_last_30_days  \\\n",
       "0           IN          Music  ...                     2000000.0   \n",
       "1           US          Games  ...                           NaN   \n",
       "2           US  Entertainment  ...                     8000000.0   \n",
       "3           US      Education  ...                     1000000.0   \n",
       "4           IN  Entertainment  ...                     1000000.0   \n",
       "\n",
       "   created_year  created_month  created_date  \\\n",
       "0        2006.0            Mar          13.0   \n",
       "1        2006.0            Mar           5.0   \n",
       "2        2012.0            Feb          20.0   \n",
       "3        2006.0            Sep           1.0   \n",
       "4        2006.0            Sep          20.0   \n",
       "\n",
       "   Gross tertiary education enrollment (%)    Population  Unemployment rate  \\\n",
       "0                                     28.1  1.366418e+09               5.36   \n",
       "1                                     88.2  3.282395e+08              14.70   \n",
       "2                                     88.2  3.282395e+08              14.70   \n",
       "3                                     88.2  3.282395e+08              14.70   \n",
       "4                                     28.1  1.366418e+09               5.36   \n",
       "\n",
       "   Urban_population   Latitude  Longitude  \n",
       "0       471031528.0  20.593684  78.962880  \n",
       "1       270663028.0  37.090240 -95.712891  \n",
       "2       270663028.0  37.090240 -95.712891  \n",
       "3       270663028.0  37.090240 -95.712891  \n",
       "4       471031528.0  20.593684  78.962880  \n",
       "\n",
       "[5 rows x 28 columns]"
      ]
     },
     "execution_count": 3,
     "metadata": {},
     "output_type": "execute_result"
    }
   ],
   "source": [
    "df.head()"
   ]
  },
  {
   "cell_type": "code",
   "execution_count": 4,
   "metadata": {},
   "outputs": [],
   "source": [
    "df = df.replace('Nan',np.nan)"
   ]
  },
  {
   "cell_type": "code",
   "execution_count": 5,
   "metadata": {},
   "outputs": [
    {
     "data": {
      "text/plain": [
       "rank                                         int64\n",
       "Youtuber                                    object\n",
       "subscribers                                  int64\n",
       "video views                                float64\n",
       "category                                    object\n",
       "Title                                       object\n",
       "uploads                                      int64\n",
       "Country                                     object\n",
       "Abbreviation                                object\n",
       "channel_type                                object\n",
       "video_views_rank                           float64\n",
       "country_rank                               float64\n",
       "channel_type_rank                          float64\n",
       "video_views_for_the_last_30_days           float64\n",
       "lowest_monthly_earnings                    float64\n",
       "highest_monthly_earnings                   float64\n",
       "lowest_yearly_earnings                     float64\n",
       "highest_yearly_earnings                    float64\n",
       "subscribers_for_last_30_days               float64\n",
       "created_year                               float64\n",
       "created_month                               object\n",
       "created_date                               float64\n",
       "Gross tertiary education enrollment (%)    float64\n",
       "Population                                 float64\n",
       "Unemployment rate                          float64\n",
       "Urban_population                           float64\n",
       "Latitude                                   float64\n",
       "Longitude                                  float64\n",
       "dtype: object"
      ]
     },
     "execution_count": 5,
     "metadata": {},
     "output_type": "execute_result"
    }
   ],
   "source": [
    "df.dtypes"
   ]
  },
  {
   "cell_type": "markdown",
   "metadata": {},
   "source": [
    "<b>HANDLING MISSING VALUES</b>"
   ]
  },
  {
   "cell_type": "code",
   "execution_count": 6,
   "metadata": {},
   "outputs": [
    {
     "data": {
      "text/plain": [
       "Index(['category', 'Country', 'Abbreviation', 'channel_type',\n",
       "       'video_views_rank', 'country_rank', 'channel_type_rank',\n",
       "       'video_views_for_the_last_30_days', 'subscribers_for_last_30_days',\n",
       "       'created_year', 'created_month', 'created_date',\n",
       "       'Gross tertiary education enrollment (%)', 'Population',\n",
       "       'Unemployment rate', 'Urban_population', 'Latitude', 'Longitude'],\n",
       "      dtype='object')"
      ]
     },
     "execution_count": 6,
     "metadata": {},
     "output_type": "execute_result"
    }
   ],
   "source": [
    "columns_with_missing_values = df.columns[df.isnull().any()]\n",
    "columns_with_missing_values"
   ]
  },
  {
   "cell_type": "code",
   "execution_count": 7,
   "metadata": {},
   "outputs": [
    {
     "name": "stdout",
     "output_type": "stream",
     "text": [
      "rank                                       False\n",
      "Youtuber                                   False\n",
      "subscribers                                False\n",
      "video views                                False\n",
      "category                                   False\n",
      "Title                                      False\n",
      "uploads                                    False\n",
      "Country                                    False\n",
      "Abbreviation                               False\n",
      "channel_type                               False\n",
      "video_views_rank                           False\n",
      "country_rank                               False\n",
      "channel_type_rank                          False\n",
      "video_views_for_the_last_30_days           False\n",
      "lowest_monthly_earnings                    False\n",
      "highest_monthly_earnings                   False\n",
      "lowest_yearly_earnings                     False\n",
      "highest_yearly_earnings                    False\n",
      "subscribers_for_last_30_days               False\n",
      "created_year                               False\n",
      "created_month                              False\n",
      "created_date                               False\n",
      "Gross tertiary education enrollment (%)    False\n",
      "Population                                 False\n",
      "Unemployment rate                          False\n",
      "Urban_population                           False\n",
      "Latitude                                   False\n",
      "Longitude                                  False\n",
      "dtype: bool\n"
     ]
    }
   ],
   "source": [
    "numerical_columns = df.select_dtypes(include='float64')\n",
    "numerical_columns = numerical_columns.columns[numerical_columns.isnull().any()]\n",
    "df[numerical_columns] = df[numerical_columns].fillna(df[numerical_columns].mean())\n",
    "\n",
    "categorial_columns = df.select_dtypes(include='object')\n",
    "categorial_columns = categorial_columns.columns[categorial_columns.isnull().any()]\n",
    "df[categorial_columns] = df[categorial_columns].fillna(df[categorial_columns].mode().iloc[0])\n",
    "\n",
    "missing_values_checked = df.isnull().any()\n",
    "print(missing_values_checked)"
   ]
  },
  {
   "cell_type": "code",
   "execution_count": 8,
   "metadata": {},
   "outputs": [
    {
     "data": {
      "text/plain": [
       "array(['Music', 'Games', 'Entertainment', 'Education', 'People', 'Sports',\n",
       "       'Film', 'News', 'Comedy', 'Howto', 'Nonprofit', 'Autos', 'Tech',\n",
       "       'Animals'], dtype=object)"
      ]
     },
     "execution_count": 8,
     "metadata": {},
     "output_type": "execute_result"
    }
   ],
   "source": [
    "df['channel_type'].unique()"
   ]
  },
  {
   "cell_type": "code",
   "execution_count": 9,
   "metadata": {},
   "outputs": [
    {
     "data": {
      "text/plain": [
       "0      2006\n",
       "1      2006\n",
       "2      2012\n",
       "3      2006\n",
       "4      2006\n",
       "       ... \n",
       "990    2017\n",
       "991    2018\n",
       "992    2006\n",
       "993    2012\n",
       "994    2017\n",
       "Name: created_year, Length: 995, dtype: int32"
      ]
     },
     "execution_count": 9,
     "metadata": {},
     "output_type": "execute_result"
    }
   ],
   "source": [
    "df['created_year'] = df['created_year'].astype(int)\n",
    "df['created_year']"
   ]
  },
  {
   "cell_type": "markdown",
   "metadata": {},
   "source": [
    "<b>DATA VISUALIZATION <b>"
   ]
  },
  {
   "cell_type": "markdown",
   "metadata": {},
   "source": [
    "TOP 10 YOUTUBE CHANNELS BY SUBSCRIPTION"
   ]
  },
  {
   "cell_type": "code",
   "execution_count": 10,
   "metadata": {},
   "outputs": [
    {
     "data": {
      "application/vnd.plotly.v1+json": {
       "config": {
        "plotlyServerURL": "https://plot.ly"
       },
       "data": [
        {
         "alignmentgroup": "True",
         "hovertemplate": "Channel=%{x}<br>Number of Subscribers=%{y}<br>text=%{text}<extra></extra>",
         "legendgroup": "",
         "marker": {
          "color": "#636efa",
          "pattern": {
           "shape": ""
          }
         },
         "name": "",
         "offsetgroup": "",
         "orientation": "v",
         "showlegend": false,
         "text": [
          245,
          170,
          166,
          162,
          159,
          119,
          112,
          111,
          106,
          98.9
         ],
         "textposition": "auto",
         "type": "bar",
         "x": [
          "T-Series",
          "YouTube Movies",
          "MrBeast",
          "Cocomelon - Nursery Rhymes",
          "SET India",
          "Music",
          "ýýý Kids Diana Show",
          "PewDiePie",
          "Like Nastya",
          "Vlad and Niki"
         ],
         "xaxis": "x",
         "y": [
          245000000,
          170000000,
          166000000,
          162000000,
          159000000,
          119000000,
          112000000,
          111000000,
          106000000,
          98900000
         ],
         "yaxis": "y"
        }
       ],
       "layout": {
        "barmode": "relative",
        "legend": {
         "tracegroupgap": 0
        },
        "template": {
         "data": {
          "bar": [
           {
            "error_x": {
             "color": "#2a3f5f"
            },
            "error_y": {
             "color": "#2a3f5f"
            },
            "marker": {
             "line": {
              "color": "#E5ECF6",
              "width": 0.5
             },
             "pattern": {
              "fillmode": "overlay",
              "size": 10,
              "solidity": 0.2
             }
            },
            "type": "bar"
           }
          ],
          "barpolar": [
           {
            "marker": {
             "line": {
              "color": "#E5ECF6",
              "width": 0.5
             },
             "pattern": {
              "fillmode": "overlay",
              "size": 10,
              "solidity": 0.2
             }
            },
            "type": "barpolar"
           }
          ],
          "carpet": [
           {
            "aaxis": {
             "endlinecolor": "#2a3f5f",
             "gridcolor": "white",
             "linecolor": "white",
             "minorgridcolor": "white",
             "startlinecolor": "#2a3f5f"
            },
            "baxis": {
             "endlinecolor": "#2a3f5f",
             "gridcolor": "white",
             "linecolor": "white",
             "minorgridcolor": "white",
             "startlinecolor": "#2a3f5f"
            },
            "type": "carpet"
           }
          ],
          "choropleth": [
           {
            "colorbar": {
             "outlinewidth": 0,
             "ticks": ""
            },
            "type": "choropleth"
           }
          ],
          "contour": [
           {
            "colorbar": {
             "outlinewidth": 0,
             "ticks": ""
            },
            "colorscale": [
             [
              0,
              "#0d0887"
             ],
             [
              0.1111111111111111,
              "#46039f"
             ],
             [
              0.2222222222222222,
              "#7201a8"
             ],
             [
              0.3333333333333333,
              "#9c179e"
             ],
             [
              0.4444444444444444,
              "#bd3786"
             ],
             [
              0.5555555555555556,
              "#d8576b"
             ],
             [
              0.6666666666666666,
              "#ed7953"
             ],
             [
              0.7777777777777778,
              "#fb9f3a"
             ],
             [
              0.8888888888888888,
              "#fdca26"
             ],
             [
              1,
              "#f0f921"
             ]
            ],
            "type": "contour"
           }
          ],
          "contourcarpet": [
           {
            "colorbar": {
             "outlinewidth": 0,
             "ticks": ""
            },
            "type": "contourcarpet"
           }
          ],
          "heatmap": [
           {
            "colorbar": {
             "outlinewidth": 0,
             "ticks": ""
            },
            "colorscale": [
             [
              0,
              "#0d0887"
             ],
             [
              0.1111111111111111,
              "#46039f"
             ],
             [
              0.2222222222222222,
              "#7201a8"
             ],
             [
              0.3333333333333333,
              "#9c179e"
             ],
             [
              0.4444444444444444,
              "#bd3786"
             ],
             [
              0.5555555555555556,
              "#d8576b"
             ],
             [
              0.6666666666666666,
              "#ed7953"
             ],
             [
              0.7777777777777778,
              "#fb9f3a"
             ],
             [
              0.8888888888888888,
              "#fdca26"
             ],
             [
              1,
              "#f0f921"
             ]
            ],
            "type": "heatmap"
           }
          ],
          "heatmapgl": [
           {
            "colorbar": {
             "outlinewidth": 0,
             "ticks": ""
            },
            "colorscale": [
             [
              0,
              "#0d0887"
             ],
             [
              0.1111111111111111,
              "#46039f"
             ],
             [
              0.2222222222222222,
              "#7201a8"
             ],
             [
              0.3333333333333333,
              "#9c179e"
             ],
             [
              0.4444444444444444,
              "#bd3786"
             ],
             [
              0.5555555555555556,
              "#d8576b"
             ],
             [
              0.6666666666666666,
              "#ed7953"
             ],
             [
              0.7777777777777778,
              "#fb9f3a"
             ],
             [
              0.8888888888888888,
              "#fdca26"
             ],
             [
              1,
              "#f0f921"
             ]
            ],
            "type": "heatmapgl"
           }
          ],
          "histogram": [
           {
            "marker": {
             "pattern": {
              "fillmode": "overlay",
              "size": 10,
              "solidity": 0.2
             }
            },
            "type": "histogram"
           }
          ],
          "histogram2d": [
           {
            "colorbar": {
             "outlinewidth": 0,
             "ticks": ""
            },
            "colorscale": [
             [
              0,
              "#0d0887"
             ],
             [
              0.1111111111111111,
              "#46039f"
             ],
             [
              0.2222222222222222,
              "#7201a8"
             ],
             [
              0.3333333333333333,
              "#9c179e"
             ],
             [
              0.4444444444444444,
              "#bd3786"
             ],
             [
              0.5555555555555556,
              "#d8576b"
             ],
             [
              0.6666666666666666,
              "#ed7953"
             ],
             [
              0.7777777777777778,
              "#fb9f3a"
             ],
             [
              0.8888888888888888,
              "#fdca26"
             ],
             [
              1,
              "#f0f921"
             ]
            ],
            "type": "histogram2d"
           }
          ],
          "histogram2dcontour": [
           {
            "colorbar": {
             "outlinewidth": 0,
             "ticks": ""
            },
            "colorscale": [
             [
              0,
              "#0d0887"
             ],
             [
              0.1111111111111111,
              "#46039f"
             ],
             [
              0.2222222222222222,
              "#7201a8"
             ],
             [
              0.3333333333333333,
              "#9c179e"
             ],
             [
              0.4444444444444444,
              "#bd3786"
             ],
             [
              0.5555555555555556,
              "#d8576b"
             ],
             [
              0.6666666666666666,
              "#ed7953"
             ],
             [
              0.7777777777777778,
              "#fb9f3a"
             ],
             [
              0.8888888888888888,
              "#fdca26"
             ],
             [
              1,
              "#f0f921"
             ]
            ],
            "type": "histogram2dcontour"
           }
          ],
          "mesh3d": [
           {
            "colorbar": {
             "outlinewidth": 0,
             "ticks": ""
            },
            "type": "mesh3d"
           }
          ],
          "parcoords": [
           {
            "line": {
             "colorbar": {
              "outlinewidth": 0,
              "ticks": ""
             }
            },
            "type": "parcoords"
           }
          ],
          "pie": [
           {
            "automargin": true,
            "type": "pie"
           }
          ],
          "scatter": [
           {
            "fillpattern": {
             "fillmode": "overlay",
             "size": 10,
             "solidity": 0.2
            },
            "type": "scatter"
           }
          ],
          "scatter3d": [
           {
            "line": {
             "colorbar": {
              "outlinewidth": 0,
              "ticks": ""
             }
            },
            "marker": {
             "colorbar": {
              "outlinewidth": 0,
              "ticks": ""
             }
            },
            "type": "scatter3d"
           }
          ],
          "scattercarpet": [
           {
            "marker": {
             "colorbar": {
              "outlinewidth": 0,
              "ticks": ""
             }
            },
            "type": "scattercarpet"
           }
          ],
          "scattergeo": [
           {
            "marker": {
             "colorbar": {
              "outlinewidth": 0,
              "ticks": ""
             }
            },
            "type": "scattergeo"
           }
          ],
          "scattergl": [
           {
            "marker": {
             "colorbar": {
              "outlinewidth": 0,
              "ticks": ""
             }
            },
            "type": "scattergl"
           }
          ],
          "scattermapbox": [
           {
            "marker": {
             "colorbar": {
              "outlinewidth": 0,
              "ticks": ""
             }
            },
            "type": "scattermapbox"
           }
          ],
          "scatterpolar": [
           {
            "marker": {
             "colorbar": {
              "outlinewidth": 0,
              "ticks": ""
             }
            },
            "type": "scatterpolar"
           }
          ],
          "scatterpolargl": [
           {
            "marker": {
             "colorbar": {
              "outlinewidth": 0,
              "ticks": ""
             }
            },
            "type": "scatterpolargl"
           }
          ],
          "scatterternary": [
           {
            "marker": {
             "colorbar": {
              "outlinewidth": 0,
              "ticks": ""
             }
            },
            "type": "scatterternary"
           }
          ],
          "surface": [
           {
            "colorbar": {
             "outlinewidth": 0,
             "ticks": ""
            },
            "colorscale": [
             [
              0,
              "#0d0887"
             ],
             [
              0.1111111111111111,
              "#46039f"
             ],
             [
              0.2222222222222222,
              "#7201a8"
             ],
             [
              0.3333333333333333,
              "#9c179e"
             ],
             [
              0.4444444444444444,
              "#bd3786"
             ],
             [
              0.5555555555555556,
              "#d8576b"
             ],
             [
              0.6666666666666666,
              "#ed7953"
             ],
             [
              0.7777777777777778,
              "#fb9f3a"
             ],
             [
              0.8888888888888888,
              "#fdca26"
             ],
             [
              1,
              "#f0f921"
             ]
            ],
            "type": "surface"
           }
          ],
          "table": [
           {
            "cells": {
             "fill": {
              "color": "#EBF0F8"
             },
             "line": {
              "color": "white"
             }
            },
            "header": {
             "fill": {
              "color": "#C8D4E3"
             },
             "line": {
              "color": "white"
             }
            },
            "type": "table"
           }
          ]
         },
         "layout": {
          "annotationdefaults": {
           "arrowcolor": "#2a3f5f",
           "arrowhead": 0,
           "arrowwidth": 1
          },
          "autotypenumbers": "strict",
          "coloraxis": {
           "colorbar": {
            "outlinewidth": 0,
            "ticks": ""
           }
          },
          "colorscale": {
           "diverging": [
            [
             0,
             "#8e0152"
            ],
            [
             0.1,
             "#c51b7d"
            ],
            [
             0.2,
             "#de77ae"
            ],
            [
             0.3,
             "#f1b6da"
            ],
            [
             0.4,
             "#fde0ef"
            ],
            [
             0.5,
             "#f7f7f7"
            ],
            [
             0.6,
             "#e6f5d0"
            ],
            [
             0.7,
             "#b8e186"
            ],
            [
             0.8,
             "#7fbc41"
            ],
            [
             0.9,
             "#4d9221"
            ],
            [
             1,
             "#276419"
            ]
           ],
           "sequential": [
            [
             0,
             "#0d0887"
            ],
            [
             0.1111111111111111,
             "#46039f"
            ],
            [
             0.2222222222222222,
             "#7201a8"
            ],
            [
             0.3333333333333333,
             "#9c179e"
            ],
            [
             0.4444444444444444,
             "#bd3786"
            ],
            [
             0.5555555555555556,
             "#d8576b"
            ],
            [
             0.6666666666666666,
             "#ed7953"
            ],
            [
             0.7777777777777778,
             "#fb9f3a"
            ],
            [
             0.8888888888888888,
             "#fdca26"
            ],
            [
             1,
             "#f0f921"
            ]
           ],
           "sequentialminus": [
            [
             0,
             "#0d0887"
            ],
            [
             0.1111111111111111,
             "#46039f"
            ],
            [
             0.2222222222222222,
             "#7201a8"
            ],
            [
             0.3333333333333333,
             "#9c179e"
            ],
            [
             0.4444444444444444,
             "#bd3786"
            ],
            [
             0.5555555555555556,
             "#d8576b"
            ],
            [
             0.6666666666666666,
             "#ed7953"
            ],
            [
             0.7777777777777778,
             "#fb9f3a"
            ],
            [
             0.8888888888888888,
             "#fdca26"
            ],
            [
             1,
             "#f0f921"
            ]
           ]
          },
          "colorway": [
           "#636efa",
           "#EF553B",
           "#00cc96",
           "#ab63fa",
           "#FFA15A",
           "#19d3f3",
           "#FF6692",
           "#B6E880",
           "#FF97FF",
           "#FECB52"
          ],
          "font": {
           "color": "#2a3f5f"
          },
          "geo": {
           "bgcolor": "white",
           "lakecolor": "white",
           "landcolor": "#E5ECF6",
           "showlakes": true,
           "showland": true,
           "subunitcolor": "white"
          },
          "hoverlabel": {
           "align": "left"
          },
          "hovermode": "closest",
          "mapbox": {
           "style": "light"
          },
          "paper_bgcolor": "white",
          "plot_bgcolor": "#E5ECF6",
          "polar": {
           "angularaxis": {
            "gridcolor": "white",
            "linecolor": "white",
            "ticks": ""
           },
           "bgcolor": "#E5ECF6",
           "radialaxis": {
            "gridcolor": "white",
            "linecolor": "white",
            "ticks": ""
           }
          },
          "scene": {
           "xaxis": {
            "backgroundcolor": "#E5ECF6",
            "gridcolor": "white",
            "gridwidth": 2,
            "linecolor": "white",
            "showbackground": true,
            "ticks": "",
            "zerolinecolor": "white"
           },
           "yaxis": {
            "backgroundcolor": "#E5ECF6",
            "gridcolor": "white",
            "gridwidth": 2,
            "linecolor": "white",
            "showbackground": true,
            "ticks": "",
            "zerolinecolor": "white"
           },
           "zaxis": {
            "backgroundcolor": "#E5ECF6",
            "gridcolor": "white",
            "gridwidth": 2,
            "linecolor": "white",
            "showbackground": true,
            "ticks": "",
            "zerolinecolor": "white"
           }
          },
          "shapedefaults": {
           "line": {
            "color": "#2a3f5f"
           }
          },
          "ternary": {
           "aaxis": {
            "gridcolor": "white",
            "linecolor": "white",
            "ticks": ""
           },
           "baxis": {
            "gridcolor": "white",
            "linecolor": "white",
            "ticks": ""
           },
           "bgcolor": "#E5ECF6",
           "caxis": {
            "gridcolor": "white",
            "linecolor": "white",
            "ticks": ""
           }
          },
          "title": {
           "x": 0.05
          },
          "xaxis": {
           "automargin": true,
           "gridcolor": "white",
           "linecolor": "white",
           "ticks": "",
           "title": {
            "standoff": 15
           },
           "zerolinecolor": "white",
           "zerolinewidth": 2
          },
          "yaxis": {
           "automargin": true,
           "gridcolor": "white",
           "linecolor": "white",
           "ticks": "",
           "title": {
            "standoff": 15
           },
           "zerolinecolor": "white",
           "zerolinewidth": 2
          }
         }
        },
        "title": {
         "text": "Top 10 Youtube Channels by Subscribers"
        },
        "xaxis": {
         "anchor": "y",
         "domain": [
          0,
          1
         ],
         "title": {
          "text": "Channel"
         }
        },
        "yaxis": {
         "anchor": "x",
         "domain": [
          0,
          1
         ],
         "title": {
          "text": "Number of Subscribers"
         }
        }
       }
      }
     },
     "metadata": {},
     "output_type": "display_data"
    }
   ],
   "source": [
    "sorted_df = df.sort_values(by ='subscribers' , ascending = False)\n",
    "\n",
    "top_10_youtube_channels = sorted_df.head(10)\n",
    "\n",
    "fig = go.Figure()\n",
    "\n",
    "fig = px.bar(x = top_10_youtube_channels['Youtuber'] , y = top_10_youtube_channels['subscribers'] , title ='Top 10 Youtube Channels by Subscribers' , labels = dict(x = 'Channel' , y = 'Number of Subscribers') , text = top_10_youtube_channels['subscribers']/1000000)\n",
    "\n",
    "fig.show()"
   ]
  },
  {
   "cell_type": "markdown",
   "metadata": {},
   "source": [
    "DISTRIBUTION OF YOUTUBE CHANNEL TYPES"
   ]
  },
  {
   "cell_type": "code",
   "execution_count": 11,
   "metadata": {},
   "outputs": [
    {
     "data": {
      "application/vnd.plotly.v1+json": {
       "config": {
        "plotlyServerURL": "https://plot.ly"
       },
       "data": [
        {
         "branchvalues": "total",
         "domain": {
          "x": [
           0,
           1
          ],
          "y": [
           0,
           1
          ]
         },
         "hovertemplate": "labels=%{label}<br>count=%{value}<br>parent=%{parent}<br>id=%{id}<extra></extra>",
         "ids": [
          "Animals",
          "Autos",
          "Comedy",
          "Education",
          "Entertainment",
          "Film",
          "Games",
          "Howto",
          "Music",
          "News",
          "Nonprofit",
          "People",
          "Sports",
          "Tech"
         ],
         "labels": [
          "Animals",
          "Autos",
          "Comedy",
          "Education",
          "Entertainment",
          "Film",
          "Games",
          "Howto",
          "Music",
          "News",
          "Nonprofit",
          "People",
          "Sports",
          "Tech"
         ],
         "name": "",
         "parents": [
          "",
          "",
          "",
          "",
          "",
          "",
          "",
          "",
          "",
          "",
          "",
          "",
          "",
          ""
         ],
         "type": "sunburst",
         "values": [
          3,
          3,
          51,
          49,
          334,
          42,
          98,
          36,
          216,
          30,
          2,
          101,
          13,
          17
         ]
        }
       ],
       "layout": {
        "height": 900,
        "legend": {
         "tracegroupgap": 0
        },
        "margin": {
         "t": 60
        },
        "sunburstcolorway": [
         "rgb(102,194,165)",
         "rgb(252,141,98)",
         "rgb(141,160,203)",
         "rgb(231,138,195)",
         "rgb(166,216,84)",
         "rgb(255,217,47)",
         "rgb(229,196,148)",
         "rgb(179,179,179)"
        ],
        "template": {
         "data": {
          "bar": [
           {
            "error_x": {
             "color": "#2a3f5f"
            },
            "error_y": {
             "color": "#2a3f5f"
            },
            "marker": {
             "line": {
              "color": "#E5ECF6",
              "width": 0.5
             },
             "pattern": {
              "fillmode": "overlay",
              "size": 10,
              "solidity": 0.2
             }
            },
            "type": "bar"
           }
          ],
          "barpolar": [
           {
            "marker": {
             "line": {
              "color": "#E5ECF6",
              "width": 0.5
             },
             "pattern": {
              "fillmode": "overlay",
              "size": 10,
              "solidity": 0.2
             }
            },
            "type": "barpolar"
           }
          ],
          "carpet": [
           {
            "aaxis": {
             "endlinecolor": "#2a3f5f",
             "gridcolor": "white",
             "linecolor": "white",
             "minorgridcolor": "white",
             "startlinecolor": "#2a3f5f"
            },
            "baxis": {
             "endlinecolor": "#2a3f5f",
             "gridcolor": "white",
             "linecolor": "white",
             "minorgridcolor": "white",
             "startlinecolor": "#2a3f5f"
            },
            "type": "carpet"
           }
          ],
          "choropleth": [
           {
            "colorbar": {
             "outlinewidth": 0,
             "ticks": ""
            },
            "type": "choropleth"
           }
          ],
          "contour": [
           {
            "colorbar": {
             "outlinewidth": 0,
             "ticks": ""
            },
            "colorscale": [
             [
              0,
              "#0d0887"
             ],
             [
              0.1111111111111111,
              "#46039f"
             ],
             [
              0.2222222222222222,
              "#7201a8"
             ],
             [
              0.3333333333333333,
              "#9c179e"
             ],
             [
              0.4444444444444444,
              "#bd3786"
             ],
             [
              0.5555555555555556,
              "#d8576b"
             ],
             [
              0.6666666666666666,
              "#ed7953"
             ],
             [
              0.7777777777777778,
              "#fb9f3a"
             ],
             [
              0.8888888888888888,
              "#fdca26"
             ],
             [
              1,
              "#f0f921"
             ]
            ],
            "type": "contour"
           }
          ],
          "contourcarpet": [
           {
            "colorbar": {
             "outlinewidth": 0,
             "ticks": ""
            },
            "type": "contourcarpet"
           }
          ],
          "heatmap": [
           {
            "colorbar": {
             "outlinewidth": 0,
             "ticks": ""
            },
            "colorscale": [
             [
              0,
              "#0d0887"
             ],
             [
              0.1111111111111111,
              "#46039f"
             ],
             [
              0.2222222222222222,
              "#7201a8"
             ],
             [
              0.3333333333333333,
              "#9c179e"
             ],
             [
              0.4444444444444444,
              "#bd3786"
             ],
             [
              0.5555555555555556,
              "#d8576b"
             ],
             [
              0.6666666666666666,
              "#ed7953"
             ],
             [
              0.7777777777777778,
              "#fb9f3a"
             ],
             [
              0.8888888888888888,
              "#fdca26"
             ],
             [
              1,
              "#f0f921"
             ]
            ],
            "type": "heatmap"
           }
          ],
          "heatmapgl": [
           {
            "colorbar": {
             "outlinewidth": 0,
             "ticks": ""
            },
            "colorscale": [
             [
              0,
              "#0d0887"
             ],
             [
              0.1111111111111111,
              "#46039f"
             ],
             [
              0.2222222222222222,
              "#7201a8"
             ],
             [
              0.3333333333333333,
              "#9c179e"
             ],
             [
              0.4444444444444444,
              "#bd3786"
             ],
             [
              0.5555555555555556,
              "#d8576b"
             ],
             [
              0.6666666666666666,
              "#ed7953"
             ],
             [
              0.7777777777777778,
              "#fb9f3a"
             ],
             [
              0.8888888888888888,
              "#fdca26"
             ],
             [
              1,
              "#f0f921"
             ]
            ],
            "type": "heatmapgl"
           }
          ],
          "histogram": [
           {
            "marker": {
             "pattern": {
              "fillmode": "overlay",
              "size": 10,
              "solidity": 0.2
             }
            },
            "type": "histogram"
           }
          ],
          "histogram2d": [
           {
            "colorbar": {
             "outlinewidth": 0,
             "ticks": ""
            },
            "colorscale": [
             [
              0,
              "#0d0887"
             ],
             [
              0.1111111111111111,
              "#46039f"
             ],
             [
              0.2222222222222222,
              "#7201a8"
             ],
             [
              0.3333333333333333,
              "#9c179e"
             ],
             [
              0.4444444444444444,
              "#bd3786"
             ],
             [
              0.5555555555555556,
              "#d8576b"
             ],
             [
              0.6666666666666666,
              "#ed7953"
             ],
             [
              0.7777777777777778,
              "#fb9f3a"
             ],
             [
              0.8888888888888888,
              "#fdca26"
             ],
             [
              1,
              "#f0f921"
             ]
            ],
            "type": "histogram2d"
           }
          ],
          "histogram2dcontour": [
           {
            "colorbar": {
             "outlinewidth": 0,
             "ticks": ""
            },
            "colorscale": [
             [
              0,
              "#0d0887"
             ],
             [
              0.1111111111111111,
              "#46039f"
             ],
             [
              0.2222222222222222,
              "#7201a8"
             ],
             [
              0.3333333333333333,
              "#9c179e"
             ],
             [
              0.4444444444444444,
              "#bd3786"
             ],
             [
              0.5555555555555556,
              "#d8576b"
             ],
             [
              0.6666666666666666,
              "#ed7953"
             ],
             [
              0.7777777777777778,
              "#fb9f3a"
             ],
             [
              0.8888888888888888,
              "#fdca26"
             ],
             [
              1,
              "#f0f921"
             ]
            ],
            "type": "histogram2dcontour"
           }
          ],
          "mesh3d": [
           {
            "colorbar": {
             "outlinewidth": 0,
             "ticks": ""
            },
            "type": "mesh3d"
           }
          ],
          "parcoords": [
           {
            "line": {
             "colorbar": {
              "outlinewidth": 0,
              "ticks": ""
             }
            },
            "type": "parcoords"
           }
          ],
          "pie": [
           {
            "automargin": true,
            "type": "pie"
           }
          ],
          "scatter": [
           {
            "fillpattern": {
             "fillmode": "overlay",
             "size": 10,
             "solidity": 0.2
            },
            "type": "scatter"
           }
          ],
          "scatter3d": [
           {
            "line": {
             "colorbar": {
              "outlinewidth": 0,
              "ticks": ""
             }
            },
            "marker": {
             "colorbar": {
              "outlinewidth": 0,
              "ticks": ""
             }
            },
            "type": "scatter3d"
           }
          ],
          "scattercarpet": [
           {
            "marker": {
             "colorbar": {
              "outlinewidth": 0,
              "ticks": ""
             }
            },
            "type": "scattercarpet"
           }
          ],
          "scattergeo": [
           {
            "marker": {
             "colorbar": {
              "outlinewidth": 0,
              "ticks": ""
             }
            },
            "type": "scattergeo"
           }
          ],
          "scattergl": [
           {
            "marker": {
             "colorbar": {
              "outlinewidth": 0,
              "ticks": ""
             }
            },
            "type": "scattergl"
           }
          ],
          "scattermapbox": [
           {
            "marker": {
             "colorbar": {
              "outlinewidth": 0,
              "ticks": ""
             }
            },
            "type": "scattermapbox"
           }
          ],
          "scatterpolar": [
           {
            "marker": {
             "colorbar": {
              "outlinewidth": 0,
              "ticks": ""
             }
            },
            "type": "scatterpolar"
           }
          ],
          "scatterpolargl": [
           {
            "marker": {
             "colorbar": {
              "outlinewidth": 0,
              "ticks": ""
             }
            },
            "type": "scatterpolargl"
           }
          ],
          "scatterternary": [
           {
            "marker": {
             "colorbar": {
              "outlinewidth": 0,
              "ticks": ""
             }
            },
            "type": "scatterternary"
           }
          ],
          "surface": [
           {
            "colorbar": {
             "outlinewidth": 0,
             "ticks": ""
            },
            "colorscale": [
             [
              0,
              "#0d0887"
             ],
             [
              0.1111111111111111,
              "#46039f"
             ],
             [
              0.2222222222222222,
              "#7201a8"
             ],
             [
              0.3333333333333333,
              "#9c179e"
             ],
             [
              0.4444444444444444,
              "#bd3786"
             ],
             [
              0.5555555555555556,
              "#d8576b"
             ],
             [
              0.6666666666666666,
              "#ed7953"
             ],
             [
              0.7777777777777778,
              "#fb9f3a"
             ],
             [
              0.8888888888888888,
              "#fdca26"
             ],
             [
              1,
              "#f0f921"
             ]
            ],
            "type": "surface"
           }
          ],
          "table": [
           {
            "cells": {
             "fill": {
              "color": "#EBF0F8"
             },
             "line": {
              "color": "white"
             }
            },
            "header": {
             "fill": {
              "color": "#C8D4E3"
             },
             "line": {
              "color": "white"
             }
            },
            "type": "table"
           }
          ]
         },
         "layout": {
          "annotationdefaults": {
           "arrowcolor": "#2a3f5f",
           "arrowhead": 0,
           "arrowwidth": 1
          },
          "autotypenumbers": "strict",
          "coloraxis": {
           "colorbar": {
            "outlinewidth": 0,
            "ticks": ""
           }
          },
          "colorscale": {
           "diverging": [
            [
             0,
             "#8e0152"
            ],
            [
             0.1,
             "#c51b7d"
            ],
            [
             0.2,
             "#de77ae"
            ],
            [
             0.3,
             "#f1b6da"
            ],
            [
             0.4,
             "#fde0ef"
            ],
            [
             0.5,
             "#f7f7f7"
            ],
            [
             0.6,
             "#e6f5d0"
            ],
            [
             0.7,
             "#b8e186"
            ],
            [
             0.8,
             "#7fbc41"
            ],
            [
             0.9,
             "#4d9221"
            ],
            [
             1,
             "#276419"
            ]
           ],
           "sequential": [
            [
             0,
             "#0d0887"
            ],
            [
             0.1111111111111111,
             "#46039f"
            ],
            [
             0.2222222222222222,
             "#7201a8"
            ],
            [
             0.3333333333333333,
             "#9c179e"
            ],
            [
             0.4444444444444444,
             "#bd3786"
            ],
            [
             0.5555555555555556,
             "#d8576b"
            ],
            [
             0.6666666666666666,
             "#ed7953"
            ],
            [
             0.7777777777777778,
             "#fb9f3a"
            ],
            [
             0.8888888888888888,
             "#fdca26"
            ],
            [
             1,
             "#f0f921"
            ]
           ],
           "sequentialminus": [
            [
             0,
             "#0d0887"
            ],
            [
             0.1111111111111111,
             "#46039f"
            ],
            [
             0.2222222222222222,
             "#7201a8"
            ],
            [
             0.3333333333333333,
             "#9c179e"
            ],
            [
             0.4444444444444444,
             "#bd3786"
            ],
            [
             0.5555555555555556,
             "#d8576b"
            ],
            [
             0.6666666666666666,
             "#ed7953"
            ],
            [
             0.7777777777777778,
             "#fb9f3a"
            ],
            [
             0.8888888888888888,
             "#fdca26"
            ],
            [
             1,
             "#f0f921"
            ]
           ]
          },
          "colorway": [
           "#636efa",
           "#EF553B",
           "#00cc96",
           "#ab63fa",
           "#FFA15A",
           "#19d3f3",
           "#FF6692",
           "#B6E880",
           "#FF97FF",
           "#FECB52"
          ],
          "font": {
           "color": "#2a3f5f"
          },
          "geo": {
           "bgcolor": "white",
           "lakecolor": "white",
           "landcolor": "#E5ECF6",
           "showlakes": true,
           "showland": true,
           "subunitcolor": "white"
          },
          "hoverlabel": {
           "align": "left"
          },
          "hovermode": "closest",
          "mapbox": {
           "style": "light"
          },
          "paper_bgcolor": "white",
          "plot_bgcolor": "#E5ECF6",
          "polar": {
           "angularaxis": {
            "gridcolor": "white",
            "linecolor": "white",
            "ticks": ""
           },
           "bgcolor": "#E5ECF6",
           "radialaxis": {
            "gridcolor": "white",
            "linecolor": "white",
            "ticks": ""
           }
          },
          "scene": {
           "xaxis": {
            "backgroundcolor": "#E5ECF6",
            "gridcolor": "white",
            "gridwidth": 2,
            "linecolor": "white",
            "showbackground": true,
            "ticks": "",
            "zerolinecolor": "white"
           },
           "yaxis": {
            "backgroundcolor": "#E5ECF6",
            "gridcolor": "white",
            "gridwidth": 2,
            "linecolor": "white",
            "showbackground": true,
            "ticks": "",
            "zerolinecolor": "white"
           },
           "zaxis": {
            "backgroundcolor": "#E5ECF6",
            "gridcolor": "white",
            "gridwidth": 2,
            "linecolor": "white",
            "showbackground": true,
            "ticks": "",
            "zerolinecolor": "white"
           }
          },
          "shapedefaults": {
           "line": {
            "color": "#2a3f5f"
           }
          },
          "ternary": {
           "aaxis": {
            "gridcolor": "white",
            "linecolor": "white",
            "ticks": ""
           },
           "baxis": {
            "gridcolor": "white",
            "linecolor": "white",
            "ticks": ""
           },
           "bgcolor": "#E5ECF6",
           "caxis": {
            "gridcolor": "white",
            "linecolor": "white",
            "ticks": ""
           }
          },
          "title": {
           "x": 0.05
          },
          "xaxis": {
           "automargin": true,
           "gridcolor": "white",
           "linecolor": "white",
           "ticks": "",
           "title": {
            "standoff": 15
           },
           "zerolinecolor": "white",
           "zerolinewidth": 2
          },
          "yaxis": {
           "automargin": true,
           "gridcolor": "white",
           "linecolor": "white",
           "ticks": "",
           "title": {
            "standoff": 15
           },
           "zerolinecolor": "white",
           "zerolinewidth": 2
          }
         }
        },
        "title": {
         "text": "Distribution of Youtube Channel Types"
        }
       }
      }
     },
     "metadata": {},
     "output_type": "display_data"
    }
   ],
   "source": [
    "fig = px.sunburst(df , path =['channel_type'] , color_discrete_sequence = px.colors.qualitative.Set2)\n",
    "\n",
    "fig.update_layout(title_text = 'Distribution of Youtube Channel Types' , height = 900)\n",
    "\n",
    "fig.show()"
   ]
  },
  {
   "cell_type": "markdown",
   "metadata": {},
   "source": [
    "SUBSCRIBERS VS VIDEO VIEWS"
   ]
  },
  {
   "cell_type": "code",
   "execution_count": 12,
   "metadata": {},
   "outputs": [
    {
     "data": {
      "application/vnd.plotly.v1+json": {
       "config": {
        "plotlyServerURL": "https://plot.ly"
       },
       "data": [
        {
         "customdata": [
          [
           "India"
          ],
          [
           "India"
          ],
          [
           "South Korea"
          ],
          [
           "Canada"
          ],
          [
           "South Korea"
          ],
          [
           "Brazil"
          ],
          [
           "India"
          ],
          [
           "India"
          ],
          [
           "India"
          ],
          [
           "Argentina"
          ],
          [
           "India"
          ],
          [
           "India"
          ],
          [
           "United States"
          ],
          [
           "United States"
          ],
          [
           "United Kingdom"
          ],
          [
           "United States"
          ],
          [
           "United States"
          ],
          [
           "United States"
          ],
          [
           "United States"
          ],
          [
           "United States"
          ],
          [
           "United States"
          ],
          [
           "Thailand"
          ],
          [
           "India"
          ],
          [
           "United States"
          ],
          [
           "Brazil"
          ],
          [
           "India"
          ],
          [
           "United States"
          ],
          [
           "United States"
          ],
          [
           "United States"
          ],
          [
           "United States"
          ],
          [
           "United States"
          ],
          [
           "Argentina"
          ],
          [
           "India"
          ],
          [
           "United States"
          ],
          [
           "India"
          ],
          [
           "Colombia"
          ],
          [
           "United States"
          ],
          [
           "India"
          ],
          [
           "United Kingdom"
          ],
          [
           "United States"
          ],
          [
           "Canada"
          ],
          [
           "Colombia"
          ],
          [
           "United States"
          ],
          [
           "India"
          ],
          [
           "United States"
          ],
          [
           "United States"
          ],
          [
           "United States"
          ],
          [
           "United Kingdom"
          ],
          [
           "Netherlands"
          ],
          [
           "Canada"
          ],
          [
           "United States"
          ],
          [
           "Argentina"
          ],
          [
           "United States"
          ],
          [
           "United States"
          ],
          [
           "United States"
          ],
          [
           "Australia"
          ],
          [
           "Colombia"
          ],
          [
           "United States"
          ],
          [
           "South Korea"
          ],
          [
           "United States"
          ],
          [
           "United States"
          ],
          [
           "United States"
          ],
          [
           "Indonesia"
          ],
          [
           "United States"
          ],
          [
           "United States"
          ],
          [
           "United States"
          ],
          [
           "United States"
          ],
          [
           "United Kingdom"
          ],
          [
           "United States"
          ],
          [
           "United States"
          ],
          [
           "Canada"
          ],
          [
           "Colombia"
          ],
          [
           "United States"
          ],
          [
           "United States"
          ],
          [
           "South Korea"
          ],
          [
           "Turkey"
          ],
          [
           "United States"
          ],
          [
           "United States"
          ],
          [
           "United States"
          ],
          [
           "India"
          ],
          [
           "Thailand"
          ],
          [
           "India"
          ],
          [
           "Jordan"
          ],
          [
           "United States"
          ],
          [
           "United States"
          ],
          [
           "Argentina"
          ],
          [
           "United States"
          ],
          [
           "United Kingdom"
          ],
          [
           "United Kingdom"
          ],
          [
           "United States"
          ],
          [
           "India"
          ],
          [
           "United States"
          ],
          [
           "United States"
          ],
          [
           "Sweden"
          ],
          [
           "Afghanistan"
          ],
          [
           "India"
          ],
          [
           "United States"
          ],
          [
           "United States"
          ],
          [
           "United States"
          ],
          [
           "Canada"
          ],
          [
           "Brazil"
          ],
          [
           "United States"
          ],
          [
           "United Kingdom"
          ],
          [
           "United States"
          ],
          [
           "Thailand"
          ],
          [
           "Brazil"
          ],
          [
           "Thailand"
          ],
          [
           "United States"
          ],
          [
           "South Korea"
          ],
          [
           "United States"
          ],
          [
           "United States"
          ],
          [
           "United States"
          ],
          [
           "United States"
          ],
          [
           "United States"
          ],
          [
           "South Korea"
          ],
          [
           "Iraq"
          ],
          [
           "Brazil"
          ],
          [
           "United Kingdom"
          ],
          [
           "United States"
          ],
          [
           "India"
          ],
          [
           "United States"
          ],
          [
           "India"
          ],
          [
           "United States"
          ],
          [
           "United States"
          ],
          [
           "United Kingdom"
          ],
          [
           "United Kingdom"
          ],
          [
           "United States"
          ],
          [
           "United States"
          ],
          [
           "Vietnam"
          ],
          [
           "United States"
          ],
          [
           "France"
          ],
          [
           "United States"
          ],
          [
           "Brazil"
          ],
          [
           "Colombia"
          ],
          [
           "India"
          ],
          [
           "India"
          ],
          [
           "India"
          ],
          [
           "Saudi Arabia"
          ],
          [
           "Brazil"
          ],
          [
           "Thailand"
          ],
          [
           "United States"
          ],
          [
           "India"
          ],
          [
           "United States"
          ],
          [
           "South Korea"
          ],
          [
           "United Kingdom"
          ],
          [
           "India"
          ],
          [
           "Brazil"
          ],
          [
           "United States"
          ],
          [
           "United States"
          ],
          [
           "United States"
          ],
          [
           "United States"
          ],
          [
           "Brazil"
          ],
          [
           "United States"
          ],
          [
           "Brazil"
          ],
          [
           "United States"
          ],
          [
           "Brazil"
          ],
          [
           "United States"
          ],
          [
           "Brazil"
          ],
          [
           "India"
          ],
          [
           "United States"
          ],
          [
           "Morocco"
          ],
          [
           "United States"
          ],
          [
           "United States"
          ],
          [
           "United States"
          ],
          [
           "Philippines"
          ],
          [
           "United States"
          ],
          [
           "India"
          ],
          [
           "Australia"
          ],
          [
           "United States"
          ],
          [
           "United States"
          ],
          [
           "Spain"
          ],
          [
           "Mexico"
          ],
          [
           "United States"
          ],
          [
           "India"
          ],
          [
           "Brazil"
          ],
          [
           "United States"
          ],
          [
           "United Kingdom"
          ],
          [
           "United States"
          ],
          [
           "Colombia"
          ],
          [
           "Colombia"
          ],
          [
           "India"
          ],
          [
           "Brazil"
          ],
          [
           "United States"
          ],
          [
           "Samoa"
          ],
          [
           "France"
          ],
          [
           "Brazil"
          ],
          [
           "United States"
          ],
          [
           "United States"
          ],
          [
           "United States"
          ],
          [
           "Spain"
          ],
          [
           "United States"
          ],
          [
           "Spain"
          ],
          [
           "United States"
          ],
          [
           "United States"
          ],
          [
           "United States"
          ],
          [
           "United Kingdom"
          ],
          [
           "Mexico"
          ],
          [
           "Brazil"
          ],
          [
           "India"
          ],
          [
           "United Kingdom"
          ],
          [
           "United States"
          ],
          [
           "United States"
          ]
         ],
         "hovertemplate": "<b>%{hovertext}</b><br><br>category=Music<br>subscribers=%{x}<br>video views=%{y}<br>video_views_for_the_last_30_days=%{marker.size}<br>Country=%{customdata[0]}<extra></extra>",
         "hovertext": [
          "T-Series",
          "Zee Music Company",
          "BANGTANTV",
          "Justin Bieber",
          "HYBE LABELS",
          "Canal KondZilla",
          "Shemaroo Filmi Gaane",
          "T-Series Bhakti Sagar",
          "Tips Official",
          "El Reino Infantil",
          "Wave Music",
          "Sony Music India",
          "EminemMusic",
          "LooLoo Kids - Nursery Rhymes and Children's Songs",
          "Ed Sheeran",
          "Taylor Swift",
          "Ariana Grande",
          "Billie Eilish",
          "SonyMusicIndiaVEVO",
          "Bad Bunny",
          "Katy Perry",
          "Alan Walker",
          "Speed Records",
          "XXXTENTACION",
          "GR6 EXPLODE",
          "Goldmines Gaane Sune Ansune",
          "One Direction",
          "Daddy Yankee",
          "Bruno Mars",
          "Maroon 5",
          "Ozuna",
          "La Granja de Zenï¿½",
          "T-Series Bollywood Classics",
          "T-Series Apna Punjab",
          "Geet MP3",
          "J Balvin",
          "Desi Music Factory",
          "Rajshri",
          "NoCopyrightSounds",
          "DisneyMusicVEVO",
          "The Weeknd",
          "KAROL G",
          "SMTOWN",
          "Worldwide Records Bhojpuri",
          "JustinBieberVEVO",
          "ImagineDragons",
          "Trap Nation",
          "Adele",
          "Spinnin' Records",
          "Shawn Mendes",
          "Ultra Records",
          "Maluma",
          "Aditya Music India",
          "Michael Jackson",
          "Drake",
          "Bounce Patrol - Kids Songs",
          "toycantando",
          "Wiz Khalifa",
          "JYP Entertainment",
          "WORLDSTARHIPHOP",
          "Beyoncï¿",
          "Marï¿½ï¿½ï¿½ï¿½ï¿½",
          "Indosiar",
          "David Guetta",
          "Nicki Minaj",
          "TaylorSwiftVEVO",
          "Post Malone",
          "Coldplay",
          "Chris Brown",
          "RihannaVEVO",
          "WatchMojo.com",
          "Anuel AA",
          "EminemVEVO",
          "KatyPerryVEVO",
          "1theK (ï¿½ï¿½ï¿½ï¿½ï",
          "netd mï¿½ï¿",
          "DJ Snake",
          "Enrique Iglesias",
          "NickyJamTV",
          "Wave Music Bhojpuri",
          "GMM GRAMMY OFFICIAL",
          "unknown boy varun",
          "toyorbabytv",
          "The Chainsmokers",
          "Sia",
          "Paulo Londra",
          "Charlie Puth",
          "Dua Lipa",
          "OneDirectionVEVO",
          "Rotana",
          "Sidhu Moose Wala",
          "Becky G",
          "Romeo Santos",
          "Avicii",
          "Linkin Park",
          "Emiway Bantai",
          "Skrillex",
          "7clouds",
          "Vevo",
          "Pentatonix",
          "Gusttavo Lima Oficial",
          "Lil Nas X",
          "Calvin Harris",
          "Farruko",
          "GRAMMY GOLD OFFICIAL",
          "Dan-Sa / Daniel Saboya",
          "RsiamMusic : ï¿½ï¿½ï¿½ï¿½ï¿½ï¿½ï¿½ï¿½",
          "shakiraVEVO",
          "officialpsy",
          "SonyMusicSouthVEVO",
          "Demi Lovato",
          "Jason Derulo",
          "ArianaGrandeVevo",
          "Lil Pump",
          "JFlaMusic",
          "ýýýýýýýýýýýýýýýý - Al-Remas",
          "Anitta",
          "Queen Official",
          "LuisFonsiVEVO",
          "Pop Chartbusters",
          "Travis Scott",
          "Lahari Music - TSeries",
          "Boyce Avenue",
          "Camila Cabello",
          "Little Mix",
          "SAM SMITH",
          "Pitbull",
          "Jennifer Lopez",
          "POPS Kids",
          "TWICE",
          "FitDance",
          "DopeLyrics",
          "MK MUSIC",
          "Camilo",
          "DM - Desi Melodies",
          "Team Films Bhojpuri",
          "Zee Music Classic",
          "Katakit Baby TV",
          "Henrique e Juliano",
          "Genierock",
          "zayn",
          "SRK MUSIC",
          "Kim Loaiza",
          "BIGBANG",
          "AdeleVEVO",
          "Sony Music South",
          "Zï¿½ï¿½ï¿½ï¿½ï¿½ï¿½ï",
          "50 Cent",
          "melanie martinez",
          "Fueled By Ramen",
          "MattyBRaps",
          "Jorge & Mateus Oficial",
          "Major Lazer Official",
          "Camila Loures",
          "Martin Garrix",
          "O Reino Infantil",
          "Fifth Harmony",
          "LEGENDA FUNK",
          "Aadishakti Films",
          "Maroon5VEVO",
          "Saad Lamjarred | ï¿½ï¿½ï¿½ï¿½ï¿½ï¿",
          "Hear This Music",
          "Coke Studio",
          "SelenaGomezVEVO",
          "Wish 107.5",
          "Crazy Frog",
          "Neha Kakkar",
          "Trap City",
          "Lana Del Rey",
          "MalumaVEVO",
          "Luli Pampï¿½",
          "Gallina Pintadita",
          "Atlantic Records",
          "Think Music India",
          "Wesley Safadï¿½",
          "Lindsey Stirling",
          "Awakening Music",
          "Conor Maynard",
          "Codiscos",
          "jbalvinVEVO",
          "Lokdhun Punjabi",
          "Hungria Hip Hop",
          "twenty one pilots",
          "DJ Khaled",
          "Lofi Girl",
          "7 Minutoz",
          "Akon",
          "Rauw Alejandro",
          "EnriqueIglesiasVEVO",
          "Duo Tiempo De Sol",
          "Beyoncï¿½ï¿½",
          "Adexe & Nau",
          "Jass Records",
          "Future",
          "NickiMinajAtVEVO",
          "Ellie Goulding",
          "elcarteldesantatv",
          "Mundo Bita",
          "Wave Music Bhakti",
          "DisneyChannelUK",
          "Avril Lavigne",
          "Migos ATL"
         ],
         "legendgroup": "Music",
         "marker": {
          "color": "#636efa",
          "size": [
           2258000000,
           803613000,
           168290000,
           176326000,
           598173000,
           447223000,
           254961000,
           10,
           422634000,
           611828000,
           232025000,
           259310000,
           260193000,
           159,
           202720000,
           528392000,
           160216000,
           146862000,
           314505000,
           1,
           134242000,
           22,
           159757000,
           58362000,
           1635000000,
           814756000,
           6348,
           205594000,
           175243000,
           152825000,
           169242000,
           302071000,
           331474000,
           175610284.7944622,
           101357000,
           128696000,
           175610284.7944622,
           272255000,
           55654000,
           329861000,
           373828000,
           465647000,
           233402000,
           112648000,
           105126000,
           188837000,
           45822000,
           137099000,
           100040000,
           88749000,
           81884000,
           15,
           175610284.7944622,
           158591000,
           31,
           127441000,
           173836000,
           90450000,
           307631000,
           89098000,
           55454000,
           3,
           230183000,
           164215000,
           103631000,
           318593000,
           195499000,
           198875000,
           175610284.7944622,
           94246000,
           49009000,
           284144000,
           139443000,
           88940000,
           105567000,
           424815000,
           63293000,
           122914000,
           77927000,
           52678000,
           130233000,
           304021000,
           169056000,
           81660000,
           95253000,
           72242000,
           111500000,
           128047000,
           51134000,
           10571,
           160690000,
           103171000,
           99,
           81236000,
           175610284.7944622,
           41289000,
           25263000,
           276751000,
           1331000,
           175610284.7944622,
           214803000,
           46192000,
           102410000,
           97758000,
           168597000,
           6148000000,
           54133000,
           267126000,
           64989000,
           257597000,
           29182000,
           447891000,
           97422000,
           9243000,
           11099000,
           113003000,
           72684000,
           93768000,
           49817000,
           72911000,
           37623,
           89012000,
           28787000,
           42704000,
           38604000,
           85778000,
           88004000,
           63441000,
           256733000,
           98720000,
           780,
           9915000,
           136388000,
           59890000,
           141842000,
           30744000,
           86450000,
           90914000,
           163678000,
           82798000,
           36790000,
           57809000,
           26053000,
           40806000,
           84750000,
           242185000,
           182871000,
           119812000,
           56358000,
           61205000,
           22980000,
           88120000,
           175610284.7944622,
           40975000,
           35528000,
           109865000,
           37632000,
           175610284.7944622,
           48447000,
           98185000,
           37577000,
           48193000,
           3557000,
           88657000,
           62658000,
           175610284.7944622,
           25605000,
           147,
           135563000,
           98834000,
           201659000,
           70626000,
           97284000,
           217106000,
           64059000,
           15277000,
           35309000,
           10787000,
           228902000,
           86270000,
           34438000,
           48223000,
           50922000,
           379,
           30471000,
           29526000,
           91240000,
           205548000,
           75773000,
           53988000,
           89566000,
           10083000,
           1,
           472367,
           35027000,
           36681000,
           115881000,
           213700000,
           11079000,
           34758000,
           50188000,
           49412000
          ],
          "sizemode": "area",
          "sizeref": 4118125,
          "symbol": "circle"
         },
         "mode": "markers",
         "name": "Music",
         "orientation": "v",
         "showlegend": true,
         "type": "scatter",
         "x": [
          245000000,
          96700000,
          75600000,
          71600000,
          71300000,
          66500000,
          65600000,
          61000000,
          59300000,
          58400000,
          58000000,
          57200000,
          56900000,
          54000000,
          53500000,
          52900000,
          52700000,
          47900000,
          46600000,
          46100000,
          44200000,
          43700000,
          42500000,
          39200000,
          38900000,
          38300000,
          38200000,
          38000000,
          36700000,
          36600000,
          36200000,
          35700000,
          35400000,
          34600000,
          34300000,
          34100000,
          33700000,
          33500000,
          33400000,
          32700000,
          32600000,
          32100000,
          31900000,
          31700000,
          31600000,
          30700000,
          30400000,
          30200000,
          30100000,
          30000000,
          29600000,
          29300000,
          28500000,
          28200000,
          28100000,
          27800000,
          27700000,
          27500000,
          27400000,
          26500000,
          26000000,
          26000000,
          25900000,
          25700000,
          25700000,
          25600000,
          25500000,
          25300000,
          25200000,
          25100000,
          25100000,
          25000000,
          24700000,
          24600000,
          24500000,
          24100000,
          24100000,
          23800000,
          23600000,
          23100000,
          23100000,
          23100000,
          22900000,
          22600000,
          22600000,
          22400000,
          22000000,
          21800000,
          21800000,
          21800000,
          21400000,
          21300000,
          20900000,
          20600000,
          20400000,
          20400000,
          20100000,
          20100000,
          20000000,
          20000000,
          19900000,
          19100000,
          19000000,
          18800000,
          18600000,
          18500000,
          18400000,
          18400000,
          18100000,
          18000000,
          17900000,
          17900000,
          17700000,
          17700000,
          17600000,
          17400000,
          17200000,
          17000000,
          17000000,
          16900000,
          16700000,
          16600000,
          16300000,
          16300000,
          16300000,
          16300000,
          16300000,
          16200000,
          16200000,
          16100000,
          16100000,
          15900000,
          15900000,
          15900000,
          15700000,
          15700000,
          15700000,
          15500000,
          15500000,
          15400000,
          15400000,
          15200000,
          15100000,
          15100000,
          15100000,
          15000000,
          15000000,
          14900000,
          14900000,
          14800000,
          14800000,
          14800000,
          14800000,
          14700000,
          14600000,
          14600000,
          14600000,
          14500000,
          14500000,
          14500000,
          14500000,
          14500000,
          14400000,
          14400000,
          14200000,
          14200000,
          14100000,
          14100000,
          14100000,
          14100000,
          14000000,
          14000000,
          13900000,
          13800000,
          13700000,
          13600000,
          13500000,
          13500000,
          13400000,
          13200000,
          13100000,
          13100000,
          13100000,
          13100000,
          13000000,
          13000000,
          12900000,
          12900000,
          12900000,
          12800000,
          12800000,
          12700000,
          12700000,
          12700000,
          12600000,
          12600000,
          12500000,
          12500000,
          12500000,
          12400000,
          12400000,
          12400000
         ],
         "xaxis": "x",
         "y": [
          228000000000,
          57856289381,
          20826993957,
          30608119724,
          28634566938,
          36775585925,
          28648024439,
          29533230328,
          33431802698,
          57271630846,
          40602020243,
          28837144516,
          27073872856,
          32312431239,
          30367676736,
          29884657286,
          24004842608,
          13626331061,
          27286058807,
          30686342319,
          25458952022,
          12884264778,
          26820902622,
          10507474316,
          25154232306,
          16718192386,
          13598903820,
          22731415608,
          19378155425,
          22553923546,
          23355801606,
          27118354077,
          22637783517,
          21306315429,
          12746535822,
          23005313609,
          10189027455,
          14864294792,
          10530729078,
          28516250629,
          23379969006,
          18699145555,
          27330239663,
          16476978876,
          26583873105,
          16793072362,
          14037426379,
          14199108016,
          19607009165,
          12831200855,
          17208027242,
          21226945136,
          25857994495,
          14412474625,
          15318895118,
          21037851468,
          15777682516,
          13379395501,
          19883150017,
          20358117330,
          17308961985,
          18597534412,
          11372071889,
          17793809548,
          10242981063,
          25592378292,
          14401218086,
          17331663193,
          15520569496,
          19458807708,
          16357064198,
          14827085149,
          20531704527,
          23755792542,
          23962070944,
          56106087508,
          8425505919,
          17688774915,
          15901824841,
          12889240875,
          25579831081,
          9299371231,
          16298342829,
          14231943358,
          13405849040,
          8040036209,
          9924807127,
          11288359365,
          12140232004,
          19329351143,
          6264261757,
          10644857969,
          17324976752,
          10292874715,
          13397000296,
          3579555124,
          6618524158,
          14816075927,
          559765455,
          6033295543,
          13917423958,
          6339584661,
          16014044618,
          9573641299,
          20196704276,
          2908120896,
          11544297793,
          25367126292,
          10703830496,
          17921124985,
          6888074944,
          9887116267,
          20115544708,
          4196061192,
          3802280098,
          11144195464,
          7337212581,
          10847948832,
          14543594822,
          8684010451,
          7979736581,
          11946217860,
          6578828147,
          6613422635,
          7520242626,
          10170264839,
          12475714382,
          10227242833,
          9763592867,
          5055576881,
          7126210721,
          9962188084,
          9198986881,
          6802382479,
          5914071870,
          6626563508,
          5558051295,
          6386271870,
          14619523361,
          14564170905,
          4909687948,
          6391679636,
          1576633086,
          7857371770,
          12413869881,
          9978734160,
          11506702632,
          10069000444,
          4395184343,
          13356517783,
          3587576784,
          9076642765,
          9383431376,
          4684983333,
          6017932195,
          11182302317,
          7952268926,
          2440718089,
          6290721701,
          20042571499,
          4315486422,
          9201428420,
          4035738731,
          11423792969,
          6048517979,
          7946322061,
          2131548711,
          5129529846,
          6884215292,
          19013942981,
          8623705301,
          9660950823,
          12513842343,
          11039343563,
          8134379376,
          3764608356,
          5545936485,
          2750993392,
          11789678655,
          20743586601,
          4712624489,
          4608751851,
          5264039679,
          6637820731,
          1698279553,
          4349562794,
          6300933122,
          11504090820,
          15446707595,
          6662288136,
          14185611472,
          4579773883,
          5958994201,
          9927699419,
          8831179714,
          6969178081,
          7489455451,
          16690788752,
          5146004207,
          12607488647,
          6202090191,
          6993406259
         ],
         "yaxis": "y"
        },
        {
         "customdata": [
          [
           "United States"
          ],
          [
           "United States"
          ],
          [
           "United States"
          ],
          [
           "India"
          ],
          [
           "Russia"
          ],
          [
           "United States"
          ],
          [
           "India"
          ],
          [
           "Brazil"
          ],
          [
           "United States"
          ],
          [
           "United States"
          ],
          [
           "United Kingdom"
          ],
          [
           "United States"
          ],
          [
           "United States"
          ],
          [
           "United States"
          ],
          [
           "India"
          ],
          [
           "United States"
          ],
          [
           "India"
          ],
          [
           "United States"
          ],
          [
           "United Kingdom"
          ],
          [
           "India"
          ],
          [
           "Brazil"
          ],
          [
           "United States"
          ],
          [
           "India"
          ],
          [
           "United States"
          ],
          [
           "Brazil"
          ],
          [
           "United States"
          ],
          [
           "India"
          ],
          [
           "United States"
          ],
          [
           "United States"
          ],
          [
           "United States"
          ],
          [
           "India"
          ],
          [
           "Brazil"
          ],
          [
           "United States"
          ],
          [
           "United States"
          ],
          [
           "Malaysia"
          ],
          [
           "Argentina"
          ],
          [
           "India"
          ],
          [
           "Brazil"
          ],
          [
           "Mexico"
          ],
          [
           "United States"
          ],
          [
           "India"
          ],
          [
           "United States"
          ],
          [
           "Brazil"
          ],
          [
           "United States"
          ],
          [
           "Brazil"
          ],
          [
           "India"
          ]
         ],
         "hovertemplate": "<b>%{hovertext}</b><br><br>category=Film & Animation<br>subscribers=%{x}<br>video views=%{y}<br>video_views_for_the_last_30_days=%{marker.size}<br>Country=%{customdata[0]}<extra></extra>",
         "hovertext": [
          "YouTube Movies",
          "Goldmines",
          "Movieclips",
          "YRF",
          "ýýýýýýýý ýý ýýýýýýýýýýýýýý",
          "PowerKids TV",
          "Jingle Toons",
          "Galinha Pintadinha",
          "Selena Gomez",
          "WowKidz",
          "Peppa Pig - Official Channel",
          "Masha y el Oso",
          "Goldmines Dishoom",
          "Nick Jr.",
          "Goldmines Bollywood",
          "ZHC",
          "Pen Movies",
          "Goldmines Movies",
          "Peppa Pig Espaï¿½ï¿½ï¿½ï¿½ï¿½ï¿½ï¿½ï¿½ï¿½",
          "Tilak",
          "Valentina Pontes ofc",
          "Alan Becker",
          "Goldmines Cineplex",
          "Ben Azelart",
          "Totoy kids - Portuguï¿½",
          "Pencilmation",
          "Green Gold TV - Official Channel",
          "Official Pink Panther",
          "DaFuq!?Boom!",
          "Goldmines Great Indian Comedy",
          "Wow Kidz Action",
          "Turma da Mï¿½ï¿½",
          "BeatboxJCOP",
          "MSA previously My Story Animated",
          "Les' Copaque Production",
          "El Payaso Plim Plim",
          "Stubborn Facts",
          "Gato Galactico | GALï¿½ï¿",
          "Totoy kids - Espaï¿½ï",
          "Rotten Tomatoes Trailers",
          "Volga Video",
          "Zig & Sharko",
          "Invento na Hora",
          "Darkar Company Studios",
          "Peppa Pig em Portuguï¿½ï¿½ï¿½ï¿½ï¿½ï¿½ï¿½ï¿½ï¿",
          "Zee Kids"
         ],
         "legendgroup": "Film & Animation",
         "marker": {
          "color": "#EF553B",
          "size": [
           12,
           18,
           114668000,
           512093000,
           303780000,
           318702000,
           179903000,
           403508000,
           115792000,
           1,
           244925000,
           2,
           129211000,
           42546000,
           99677000,
           20,
           94853000,
           3,
           53589000,
           367347000,
           28285000,
           175610284.7944622,
           48740000,
           184946000,
           39495000,
           14862000,
           70278000,
           175610284.7944622,
           2304000000,
           65920000,
           105706000,
           76903000,
           1375000000,
           20708,
           117727000,
           640030000,
           837850,
           44121000,
           112393000,
           25738000,
           51315000,
           62689000,
           19029000,
           4598000,
           27340000,
           95163000
          ],
          "sizemode": "area",
          "sizeref": 4118125,
          "symbol": "circle"
         },
         "mode": "markers",
         "name": "Film & Animation",
         "orientation": "v",
         "showlegend": true,
         "type": "scatter",
         "x": [
          170000000,
          86900000,
          59500000,
          54600000,
          43200000,
          36500000,
          34000000,
          33800000,
          33600000,
          32200000,
          31400000,
          28300000,
          28000000,
          27300000,
          26400000,
          25500000,
          24300000,
          24000000,
          23600000,
          23400000,
          23400000,
          22900000,
          22500000,
          21900000,
          20400000,
          20100000,
          20000000,
          19700000,
          19600000,
          19100000,
          19000000,
          19000000,
          18000000,
          17800000,
          17700000,
          17700000,
          17300000,
          16800000,
          16000000,
          15800000,
          15700000,
          14400000,
          14200000,
          13900000,
          13100000,
          12400000
         ],
         "xaxis": "x",
         "y": [
          0,
          24118230580,
          59316472754,
          35302243691,
          36458726976,
          18961241905,
          11351015824,
          27274550757,
          13013567335,
          16613441479,
          22919271731,
          13577142726,
          8603468420,
          22440611155,
          8595760553,
          2726917087,
          6608773195,
          5652938599,
          7920637200,
          9465863821,
          7926899136,
          5380073627,
          2431154438,
          4454917643,
          1796227417,
          11317309935,
          9715291883,
          10955619815,
          7906181776,
          5194942269,
          8281724393,
          13824277846,
          8716982055,
          8588704539,
          9059696049,
          17247584185,
          902225615,
          3693798804,
          5997599089,
          13116313599,
          9787697838,
          9023952946,
          4040297006,
          2244318380,
          4214172991,
          7683670251
         ],
         "yaxis": "y"
        },
        {
         "customdata": [
          [
           "United States"
          ],
          [
           "United States"
          ],
          [
           "United States"
          ],
          [
           "United States"
          ],
          [
           "United States"
          ],
          [
           "India"
          ],
          [
           "United States"
          ],
          [
           "Russia"
          ],
          [
           "India"
          ],
          [
           "United States"
          ],
          [
           "India"
          ],
          [
           "Brazil"
          ],
          [
           "Brazil"
          ],
          [
           "Pakistan"
          ],
          [
           "United States"
          ],
          [
           "Pakistan"
          ],
          [
           "United States"
          ],
          [
           "Barbados"
          ],
          [
           "United States"
          ],
          [
           "Thailand"
          ],
          [
           "United States"
          ],
          [
           "United States"
          ],
          [
           "United States"
          ],
          [
           "Thailand"
          ],
          [
           "United States"
          ],
          [
           "India"
          ],
          [
           "United States"
          ],
          [
           "Indonesia"
          ],
          [
           "Thailand"
          ],
          [
           "India"
          ],
          [
           "Turkey"
          ],
          [
           "India"
          ],
          [
           "Philippines"
          ],
          [
           "United States"
          ],
          [
           "United States"
          ],
          [
           "United States"
          ],
          [
           "Argentina"
          ],
          [
           "United States"
          ],
          [
           "Indonesia"
          ],
          [
           "United States"
          ],
          [
           "United States"
          ],
          [
           "Jordan"
          ],
          [
           "United States"
          ],
          [
           "United States"
          ],
          [
           "United States"
          ],
          [
           "Pakistan"
          ],
          [
           "India"
          ],
          [
           "India"
          ],
          [
           "United States"
          ],
          [
           "India"
          ],
          [
           "Brazil"
          ],
          [
           "United States"
          ],
          [
           "Italy"
          ],
          [
           "India"
          ],
          [
           "United States"
          ],
          [
           "Japan"
          ],
          [
           "Saudi Arabia"
          ],
          [
           "Indonesia"
          ],
          [
           "United Kingdom"
          ],
          [
           "United States"
          ],
          [
           "United States"
          ],
          [
           "United States"
          ],
          [
           "Mexico"
          ],
          [
           "United Arab Emirates"
          ],
          [
           "United States"
          ],
          [
           "United States"
          ],
          [
           "United Kingdom"
          ],
          [
           "United States"
          ],
          [
           "United States"
          ],
          [
           "United States"
          ],
          [
           "Mexico"
          ],
          [
           "United States"
          ],
          [
           "United States"
          ],
          [
           "United States"
          ],
          [
           "United States"
          ],
          [
           "Germany"
          ],
          [
           "Argentina"
          ],
          [
           "India"
          ],
          [
           "United States"
          ],
          [
           "United States"
          ],
          [
           "United States"
          ],
          [
           "United States"
          ],
          [
           "United States"
          ],
          [
           "Japan"
          ],
          [
           "Mexico"
          ],
          [
           "United Arab Emirates"
          ],
          [
           "United States"
          ],
          [
           "United States"
          ],
          [
           "India"
          ],
          [
           "India"
          ],
          [
           "Philippines"
          ],
          [
           "United States"
          ],
          [
           "Brazil"
          ],
          [
           "United States"
          ],
          [
           "United States"
          ],
          [
           "Brazil"
          ],
          [
           "United States"
          ],
          [
           "United States"
          ],
          [
           "United States"
          ],
          [
           "Indonesia"
          ],
          [
           "South Korea"
          ],
          [
           "United States"
          ],
          [
           "India"
          ],
          [
           "Ukraine"
          ],
          [
           "United Kingdom"
          ],
          [
           "Colombia"
          ],
          [
           "United States"
          ],
          [
           "United States"
          ],
          [
           "United States"
          ],
          [
           "United States"
          ],
          [
           "United States"
          ],
          [
           "United Kingdom"
          ],
          [
           "United Kingdom"
          ],
          [
           "United Kingdom"
          ],
          [
           "Turkey"
          ],
          [
           "India"
          ],
          [
           "India"
          ],
          [
           "India"
          ],
          [
           "India"
          ],
          [
           "United States"
          ],
          [
           "South Korea"
          ],
          [
           "United Kingdom"
          ],
          [
           "United States"
          ],
          [
           "Ukraine"
          ],
          [
           "Spain"
          ],
          [
           "India"
          ],
          [
           "United States"
          ],
          [
           "United States"
          ],
          [
           "United States"
          ],
          [
           "United States"
          ],
          [
           "United States"
          ],
          [
           "Indonesia"
          ],
          [
           "United States"
          ],
          [
           "United States"
          ],
          [
           "Argentina"
          ],
          [
           "Vietnam"
          ],
          [
           "South Korea"
          ],
          [
           "South Korea"
          ],
          [
           "Brazil"
          ],
          [
           "India"
          ],
          [
           "India"
          ],
          [
           "Thailand"
          ],
          [
           "India"
          ],
          [
           "Indonesia"
          ],
          [
           "United States"
          ],
          [
           "United States"
          ],
          [
           "United States"
          ],
          [
           "United States"
          ],
          [
           "United States"
          ],
          [
           "Indonesia"
          ],
          [
           "United States"
          ],
          [
           "United States"
          ],
          [
           "Philippines"
          ],
          [
           "Mexico"
          ],
          [
           "India"
          ],
          [
           "Germany"
          ],
          [
           "United States"
          ],
          [
           "United States"
          ],
          [
           "United States"
          ],
          [
           "Thailand"
          ],
          [
           "United States"
          ],
          [
           "United States"
          ],
          [
           "Thailand"
          ],
          [
           "United States"
          ],
          [
           "India"
          ],
          [
           "United States"
          ],
          [
           "Singapore"
          ],
          [
           "Spain"
          ],
          [
           "Indonesia"
          ],
          [
           "United States"
          ],
          [
           "United States"
          ],
          [
           "United States"
          ],
          [
           "Sweden"
          ],
          [
           "United States"
          ],
          [
           "Mexico"
          ],
          [
           "Singapore"
          ],
          [
           "United States"
          ],
          [
           "Mexico"
          ],
          [
           "Brazil"
          ],
          [
           "United States"
          ],
          [
           "India"
          ],
          [
           "United States"
          ],
          [
           "India"
          ],
          [
           "Philippines"
          ],
          [
           "India"
          ],
          [
           "India"
          ],
          [
           "Turkey"
          ],
          [
           "Russia"
          ],
          [
           "Brazil"
          ],
          [
           "Mexico"
          ],
          [
           "India"
          ],
          [
           "United States"
          ],
          [
           "India"
          ],
          [
           "Indonesia"
          ],
          [
           "United States"
          ],
          [
           "Spain"
          ],
          [
           "Thailand"
          ],
          [
           "Japan"
          ],
          [
           "United States"
          ],
          [
           "Saudi Arabia"
          ],
          [
           "United States"
          ],
          [
           "Spain"
          ],
          [
           "United States"
          ],
          [
           "India"
          ],
          [
           "Ecuador"
          ],
          [
           "United States"
          ],
          [
           "United States"
          ],
          [
           "India"
          ],
          [
           "United States"
          ],
          [
           "United States"
          ],
          [
           "United States"
          ],
          [
           "Thailand"
          ],
          [
           "South Korea"
          ],
          [
           "Peru"
          ],
          [
           "Saudi Arabia"
          ],
          [
           "United States"
          ],
          [
           "India"
          ],
          [
           "India"
          ],
          [
           "Ukraine"
          ],
          [
           "India"
          ],
          [
           "United States"
          ],
          [
           "United States"
          ],
          [
           "United States"
          ],
          [
           "Indonesia"
          ],
          [
           "Thailand"
          ],
          [
           "India"
          ],
          [
           "Brazil"
          ],
          [
           "Jordan"
          ],
          [
           "India"
          ],
          [
           "United States"
          ],
          [
           "United States"
          ],
          [
           "United States"
          ],
          [
           "India"
          ],
          [
           "Brazil"
          ],
          [
           "Philippines"
          ],
          [
           "United States"
          ],
          [
           "United Kingdom"
          ],
          [
           "Ukraine"
          ],
          [
           "India"
          ],
          [
           "India"
          ],
          [
           "United States"
          ],
          [
           "India"
          ],
          [
           "India"
          ],
          [
           "United States"
          ],
          [
           "United States"
          ],
          [
           "United States"
          ],
          [
           "Ukraine"
          ],
          [
           "United States"
          ],
          [
           "Russia"
          ],
          [
           "United States"
          ],
          [
           "India"
          ],
          [
           "Indonesia"
          ],
          [
           "Brazil"
          ],
          [
           "United States"
          ],
          [
           "United States"
          ],
          [
           "United States"
          ],
          [
           "Brazil"
          ],
          [
           "Italy"
          ],
          [
           "Indonesia"
          ],
          [
           "India"
          ],
          [
           "United States"
          ],
          [
           "Pakistan"
          ],
          [
           "Mexico"
          ],
          [
           "Brazil"
          ],
          [
           "South Korea"
          ],
          [
           "United States"
          ],
          [
           "United Kingdom"
          ],
          [
           "Canada"
          ],
          [
           "India"
          ],
          [
           "United States"
          ],
          [
           "United States"
          ],
          [
           "United States"
          ],
          [
           "United States"
          ],
          [
           "United States"
          ],
          [
           "United Kingdom"
          ],
          [
           "United States"
          ],
          [
           "United States"
          ],
          [
           "United States"
          ],
          [
           "Brazil"
          ],
          [
           "India"
          ],
          [
           "India"
          ],
          [
           "India"
          ],
          [
           "India"
          ],
          [
           "India"
          ],
          [
           "Indonesia"
          ],
          [
           "Canada"
          ],
          [
           "United Kingdom"
          ]
         ],
         "hovertemplate": "<b>%{hovertext}</b><br><br>category=Entertainment<br>subscribers=%{x}<br>video views=%{y}<br>video_views_for_the_last_30_days=%{marker.size}<br>Country=%{customdata[0]}<extra></extra>",
         "hovertext": [
          "MrBeast",
          "Music",
          "Vlad and Niki",
          "Gaming",
          "Sports",
          "Zee TV",
          "Marshmello",
          "Get Movies",
          "Shemaroo",
          "Badabun",
          "Voot Kids",
          "Felipe Neto",
          "Vocï¿½ï¿½ï¿½",
          "HAR PAL GEO",
          "HolaSoyGerman.",
          "ARY Digital HD",
          "Like Nastya Show",
          "Rihanna",
          "Toys and Colors",
          "WorkpointOfficial",
          "TheEllenShow",
          "Vlad vï¿½ï¿½ï",
          "Like Nastya ESP",
          "ýýýýýýýýýýýý one31",
          "News",
          "Saregama Music",
          "Ryan's World",
          "Jess No Limit",
          "Ch3Thailand",
          "Eros Now Music",
          "BETER Bï¿½ï¿½",
          "StarPlus",
          "GMA  Network",
          "DONA ï¿½ï¿½",
          "Lucas and Marcus",
          "Luis Fonsi",
          "TheDonato",
          "Diana and Roma ESP",
          "AH",
          "ýýýýýýýýýýýýýýý ýýýýýý ýýýýýýýýýýýýýýýýýý",
          "Boram Tube Vlog [ï¿½ï¿½ï¿½ï¿½ï¿½ï¿½ï¿½ï¿½ï¿",
          "ýýýýýýýý ýýýýýýýý ýýýýýýýýýý | toyoraljanahtv",
          "Popular on YouTube",
          "Zhong",
          "The Late Late Show with James Corden",
          "HUM TV",
          "Shemaroo Movies",
          "Crazy XYZ",
          "ToyPuddingTV",
          "Dushyant kukreja",
          "Renato Garcia YT",
          "Netflix",
          "PANDA BOI",
          "BB Ki Vines",
          "D Billions",
          "Junya.ï¿½ï¿½ï¿½ï¿½",
          "1MILLION Dance Studio",
          "TRANS7 OFFICIAL",
          "Dan Rhodes",
          "America's Got Talent",
          "Like Nastya AE",
          "Amit Bhadana",
          "MrBeast en Espaï¿½ï",
          "shfa show India",
          "Super JoJo - Nursery Rhymes & Kids Songs",
          "Diana and Roma ARA",
          "KSI",
          "James Charles",
          "Collins Key",
          "Venus Entertainment",
          "Juan De Dios Pantoja",
          "Logan Paul",
          "Maya and Mary",
          "Sesame Street",
          "Akshay Nagwadiya",
          "Tsuriki Show",
          "DrossRotzank",
          "White Hill Music",
          "KL BRO Biju Rithvik",
          "Like Nastya PRT",
          "Vlad and Niki Arabic",
          "Kinder Spielzeug Kanal (Kidibli)",
          "Vlad and Niki ESP",
          "Sagawa /ï¿½ï¿½ï¿½",
          "Disney Latinoamï¿½ï¿½",
          "ZAMZAM ELECTRONICS TRADING",
          "Eva Bravo Play",
          "Infinite",
          "Azhan5star",
          "Dangal TV Channel",
          "GMA Public  Affairs",
          "nigahiga",
          "Rafa & Luiz",
          "Lyrical Lemonade",
          "Vlad and Niki IDN",
          "Fatos Desconhecidos",
          "Minecraft - Topic",
          "Yoeslan",
          "Zach King",
          "Deddy Corbuzier",
          "Mnet K-POP",
          "Ninja Kidz TV",
          "Vijay Television",
          "SlivkiShow",
          "Got Talent Global",
          "Ami Rodriguez",
          "Family GamesTV",
          "CookieSwirlC",
          "Robin Hood Gamer",
          "Marvel Entertainment",
          "REACT",
          "Gordon Ramsay",
          "Britain's Got Talent",
          "SCTV",
          "tabii Urdu",
          "RKD Studios",
          "etvteluguindia",
          "Manoj  parihar",
          "Sonotek",
          "Jimmy Kimmel Live",
          "KBS WORLD TV",
          "Sidemen",
          "Busy Fun Ltd",
          "ýýýýýýýýýýýýýýýýýýýýýý",
          "CKN",
          "Shemaroo Comedy",
          "Smile Family Spanish",
          "PDK Films",
          "Miley Cyrus",
          "Good Mythical Morning",
          "Jake Fellman",
          "GEN HALILINTAR",
          "Ajay Sharma",
          "And TV",
          "RobleisIUTU",
          "Like Nastya VNM",
          "ýýýýýýýýý KIMPRO",
          "Jane ASMR ï¿½ï¿½",
          "Porta dos Fundos",
          "FactTechz",
          "Fun For Kids TV - Hindi Rhymes",
          "AMARINTV : ï¿½ï¿½ï¿½ï¿½ï¿½ï¿½ï¿½ï¿½ï¿½ï¿½ï¿½ï¿½",
          "Taarak Mehta Ka Ooltah Chashmah",
          "TRANS TV Official",
          "Gaby and Alex",
          "EeOneGuy",
          "VICE",
          "DeToxoMoroxo",
          "Doggy Doggy Cartoons",
          "Like Nastya IDN",
          "Salman Noman",
          "With Kids[ï¿½ï¿½ï¿½ï¿½ï",
          "Ivana Alawi",
          "Werever2morro",
          "SriBalajiMovies",
          "Younes Zarou",
          "Jordan Matter",
          "ýýýýýýýý ýýýýýýýýýýýýýýýýýýýýýý",
          "FunFun Toy Doll TV",
          "Ch7HD",
          "RCTI - LAYAR DRAMA INDONESIA",
          "Alfredo Larin",
          "GMMTV OFFICIALï¿½ï¿½",
          "Matt Stonie",
          "Bollywood Classics",
          "Kids Play",
          "LEGO",
          "AdMe",
          "Dyland PROS",
          "Live",
          "Vlad and Niki ARA",
          "Daily Dose Of Internet",
          "Panda Shorts",
          "Disney Junior",
          "La Rosa de Guadalupe",
          "MY FAMILY",
          "Prime Video India",
          "Caeli YT",
          "Juliana Baltar",
          "Super Senya",
          "Kashvi Adlakha",
          "Talking Tom & Friends",
          "Mazhavil Manorama",
          "Niana Guerrero",
          "Sony LIV",
          "T-Series Hamaar Bhojpuri",
          "Oyuncak Avï¿",
          "Chapitosiki",
          "Little Angel - Mï¿½ï¿½ï¿½ï¿½ï¿½ï¿½ï¿½ï¿½ï¿½ï¿½",
          "XpressTV",
          "THE BROWN SIBLINGS",
          "Ray William Johnson",
          "A2 Motivation by Arvind Arora",
          "MNCTV OFFICIAL",
          "ERB",
          "iTownGamePlay *Terror&Diversiï¿½ï",
          "ýýýýýýýýýýýý8 : Thai Ch8",
          "Bayashi TV",
          "Filaretiki",
          "ýýýýýýýýýý ýýýýýýýýýýýý",
          "Maha Fun Tv",
          "Canal Nostalgia",
          "The Slow Mo Guys",
          "Colors Rishtey",
          "Doc Tops",
          "Like Nastya Stories",
          "les boys tv2",
          "Lotus Music",
          "Reaction Time",
          "Eli Kids - Cartoons & Songs",
          "Telemundo",
          "GMM25Thailand",
          "ýýýýýýýýýýýýýýýýýýýýý",
          "Drawblogs",
          "ýýýýýýýýýýýý ýýýýýýýýýýýý I ýýýýýý ýý ýýýýýýýýýý",
          "Vlad and Niki PRT",
          "RS 1313 SHORTS",
          "ZEE5",
          "SIS vs BRO",
          "Zee Bangla",
          "DangMattSmith",
          "#Refugio Mental",
          "ýýýýýýýýýýýýýýýýýýýý ýýýýýýýýýýýýýýýýýýýý",
          "Yudist Ardhana",
          "Bie The Ska",
          "Zee Telugu",
          "Crescendo com Luluca",
          "karameeshchannel",
          "T-Series Regional",
          "ADEL et SAMI",
          "ýýýýýýýý ýý ýýýýýýýýýýýý",
          "Airrack",
          "Goldmines Premiere",
          "MAIKI021",
          "Zeinab Harake",
          "Saturday Night Live",
          "JULIA GISELLA",
          "Lady Diana",
          "Sanjoy Das Official",
          "Vijay Kumar Viner Vlogs",
          "Vlad y Niki Show",
          "Vibhu 96",
          "Blockbuster Movies",
          "Matt Steffanina",
          "Kurt Hugo Schneider",
          "Vogue",
          "VexTrex",
          "HUBAï¿½ï¿½",
          "BIBO ï¿½ï¿½ï¿½ï¿½ï¿½ï¿",
          "Ei Nerd",
          "Sonotek Bhakti",
          "Vilmei",
          "MC Divertida",
          "Ryan Trahan",
          "WiederDude",
          "Ian Boggs",
          "RedeTV",
          "Davie504",
          "Calon Sarjana",
          "Jomy Production",
          "JesseAndMike",
          "Wolfoo Channel",
          "Susy Mouriz",
          "Matheus Yurley",
          "BIBOï¿½ï¿½ï¿½ï¿½ï",
          "Top Viral Talent",
          "Talking Angela",
          "MrSuicideSheep",
          "FACT FIRE KING",
          "Ian Lucas",
          "Diana and Roma IND",
          "YoungBoy Never Broke Again",
          "#Refï¿½ï¿½ï¿½ï¿½",
          "Heidi y Zidane",
          "colinfurze",
          "People Vs Food",
          "Wolfoo Family",
          "Bebefinn - Nursery Rhymes & Kids Songs",
          "Parafernalha",
          "NDTV",
          "Family Fitness",
          "Zee Tamil",
          "Flowers Comedy",
          "DEV Ke Facts",
          "SAAIHALILINTAR",
          "Heidi and Zidane HZHtube",
          "Panda"
         ],
         "legendgroup": "Entertainment",
         "marker": {
          "color": "#00cc96",
          "size": [
           1348000000,
           175610284.7944622,
           580574000,
           175610284.7944622,
           16,
           1707000000,
           112100000,
           306540000,
           232744000,
           440,
           233988000,
           130359000,
           48032000,
           1337000000,
           4,
           1149000000,
           53202000,
           182926000,
           5,
           130461000,
           21804000,
           244093000,
           321026000,
           140754000,
           175610284.7944622,
           533793000,
           238613000,
           547141000,
           61307000,
           20263000,
           1463000000,
           1667000000,
           798510000,
           153280000,
           312099000,
           175610284.7944622,
           190679000,
           102998000,
           21440000,
           122926000,
           22724000,
           116434000,
           1,
           180519000,
           26435000,
           684860000,
           184966000,
           102235000,
           14,
           429692000,
           82912000,
           118226000,
           1225000000,
           17264000,
           487076000,
           721848000,
           175610284.7944622,
           123189000,
           331889000,
           134412000,
           169865000,
           5,
           33590000,
           151208000,
           328503000,
           66884000,
           5439000,
           58126000,
           10853000,
           31633,
           46862000,
           10803000,
           44542000,
           124187000,
           321179000,
           756717000,
           35539000,
           93183000,
           2033000000,
           96613000,
           65066000,
           139333000,
           183871000,
           711254000,
           4719,
           1598000000,
           63919000,
           68350000,
           236293000,
           561020000,
           142317000,
           2476000,
           118410000,
           80062000,
           133362000,
           52330000,
           175610284.7944622,
           874796000,
           125,
           85,
           158540000,
           195203000,
           907534000,
           28990000,
           86457000,
           263864000,
           175610284.7944622,
           221702000,
           175610284.7944622,
           63,
           23206000,
           39228000,
           54192000,
           336,
           110806000,
           59841000,
           272917000,
           37167000,
           28678000,
           17243000,
           107989000,
           78158000,
           175610284.7944622,
           68006000,
           102,
           102431000,
           43396000,
           14430000,
           127982000,
           175610284.7944622,
           497044000,
           27312000,
           175610284.7944622,
           4,
           27545000,
           84467000,
           3404000000,
           102803000,
           35337000,
           21056000,
           109847000,
           235993000,
           331944000,
           45811000,
           175610284.7944622,
           1635000,
           36357000,
           175610284.7944622,
           175610284.7944622,
           42836000,
           7,
           45698000,
           15079000,
           175610284.7944622,
           154049000,
           617257000,
           199033000,
           21953000,
           24378000,
           87757000,
           175610284.7944622,
           1,
           181382000,
           29735,
           151477000,
           25912000,
           117209000,
           4,
           9619000,
           175610284.7944622,
           32011000,
           399807000,
           478528000,
           267131000,
           175610284.7944622,
           939647,
           335111000,
           62551000,
           56218000,
           175610284.7944622,
           139123000,
           27375000,
           361483000,
           9980000,
           210909000,
           105978000,
           4427000,
           713509000,
           145478000,
           33880000,
           102357000,
           312858000,
           130731000,
           43581000,
           11043000,
           13857000,
           49556000,
           2477,
           1203000000,
           2694000,
           4781000,
           226420,
           18978000,
           347603000,
           16409000,
           29941000,
           449576,
           23034000,
           9910000,
           149241000,
           48285000,
           45622000,
           1370000,
           1002000,
           4673000,
           40089000,
           212639000,
           149799000,
           105,
           59927000,
           12902000,
           6942000,
           20351,
           176062000,
           12502000,
           7,
           68058000,
           87639000,
           33484000,
           26883000,
           114261000,
           99654000,
           37648000,
           7438000,
           12088000,
           56626000,
           1615,
           75162000,
           179232000,
           109813000,
           92228000,
           20264000,
           175610284.7944622,
           1929000,
           4233000,
           45095000,
           379346000,
           319647000,
           8769000,
           175610284.7944622,
           25321000,
           264308000,
           64517000,
           248,
           56894000,
           329312000,
           17588000,
           29870000,
           2292000000,
           2,
           41109000,
           590,
           368437000,
           147626,
           4001000,
           29379000,
           27957000,
           18118000,
           51291000,
           48,
           46602000,
           169968000,
           6942000,
           16117000,
           8482000,
           15340000,
           757789000,
           565459000,
           7158000,
           58527000,
           235715000,
           349940000,
           180021000,
           273670000,
           806075,
           9595000,
           67035
          ],
          "sizemode": "area",
          "sizeref": 4118125,
          "symbol": "circle"
         },
         "mode": "markers",
         "name": "Entertainment",
         "orientation": "v",
         "showlegend": true,
         "type": "scatter",
         "x": [
          166000000,
          119000000,
          98900000,
          93600000,
          75000000,
          70500000,
          56400000,
          47500000,
          47400000,
          46800000,
          45500000,
          45200000,
          44700000,
          44600000,
          43600000,
          43200000,
          42400000,
          41900000,
          40300000,
          39000000,
          38200000,
          37900000,
          37600000,
          37500000,
          36300000,
          35500000,
          35200000,
          34000000,
          33500000,
          32700000,
          32700000,
          32000000,
          31900000,
          31700000,
          31600000,
          31400000,
          31200000,
          30700000,
          30400000,
          30400000,
          30300000,
          30200000,
          29300000,
          29200000,
          28400000,
          28300000,
          28200000,
          27300000,
          27100000,
          27100000,
          26900000,
          26700000,
          26400000,
          26300000,
          26200000,
          26200000,
          26100000,
          25000000,
          24800000,
          24800000,
          24400000,
          24300000,
          24200000,
          24200000,
          24100000,
          24100000,
          24100000,
          23900000,
          23900000,
          23800000,
          23600000,
          23600000,
          23600000,
          23300000,
          23200000,
          23000000,
          23000000,
          23000000,
          22800000,
          22700000,
          22500000,
          22200000,
          22000000,
          22000000,
          21900000,
          21700000,
          21600000,
          21300000,
          21300000,
          21300000,
          21200000,
          21000000,
          21000000,
          21000000,
          21000000,
          20900000,
          20900000,
          20700000,
          20700000,
          20600000,
          20500000,
          20500000,
          20400000,
          20400000,
          20300000,
          20200000,
          20200000,
          20100000,
          20100000,
          20100000,
          20000000,
          20000000,
          19700000,
          19700000,
          19600000,
          19500000,
          19400000,
          19300000,
          19200000,
          19100000,
          19000000,
          18800000,
          18800000,
          18800000,
          18700000,
          18600000,
          18600000,
          18400000,
          18300000,
          18300000,
          18100000,
          18100000,
          18100000,
          18000000,
          17900000,
          17900000,
          17700000,
          17700000,
          17700000,
          17500000,
          17500000,
          17400000,
          17300000,
          17100000,
          17000000,
          16900000,
          16900000,
          16800000,
          16800000,
          16800000,
          16700000,
          16700000,
          16600000,
          16600000,
          16600000,
          16600000,
          16600000,
          16500000,
          16500000,
          16400000,
          16400000,
          16400000,
          16400000,
          16300000,
          16300000,
          16200000,
          16200000,
          16200000,
          16100000,
          16100000,
          16100000,
          16100000,
          16100000,
          16100000,
          16100000,
          15700000,
          15700000,
          15600000,
          15600000,
          15500000,
          15500000,
          15500000,
          15300000,
          15200000,
          15200000,
          15200000,
          15200000,
          15100000,
          15000000,
          15000000,
          15000000,
          15000000,
          15000000,
          14900000,
          14900000,
          14900000,
          14900000,
          14900000,
          14800000,
          14700000,
          14700000,
          14700000,
          14700000,
          14700000,
          14600000,
          14500000,
          14500000,
          14500000,
          14500000,
          14500000,
          14500000,
          14500000,
          14400000,
          14400000,
          14400000,
          14400000,
          14400000,
          14400000,
          14200000,
          14200000,
          14200000,
          14100000,
          14100000,
          14100000,
          14100000,
          14000000,
          14000000,
          13900000,
          13900000,
          13900000,
          13900000,
          13800000,
          13700000,
          13700000,
          13600000,
          13600000,
          13500000,
          13500000,
          13500000,
          13500000,
          13400000,
          13400000,
          13400000,
          13300000,
          13300000,
          13300000,
          13300000,
          13200000,
          13200000,
          13200000,
          13200000,
          13200000,
          13200000,
          13100000,
          13100000,
          13100000,
          13100000,
          13000000,
          13000000,
          13000000,
          13000000,
          13000000,
          13000000,
          12900000,
          12900000,
          12900000,
          12800000,
          12800000,
          12700000,
          12700000,
          12700000,
          12700000,
          12700000,
          12700000,
          12500000,
          12500000,
          12500000,
          12500000,
          12500000,
          12500000,
          12500000,
          12500000,
          12500000,
          12400000,
          12400000,
          12400000,
          12300000
         ],
         "xaxis": "x",
         "y": [
          28368841870,
          0,
          77180169894,
          0,
          0,
          73139054467,
          14696003229,
          30788679536,
          22519705183,
          19398045702,
          21388725229,
          16602198273,
          7828610828,
          41139050371,
          4831311245,
          37939780685,
          19547696190,
          22477745835,
          47005053156,
          36131228583,
          22756581750,
          23510152352,
          18208196857,
          27262462114,
          0,
          15657673422,
          55299840198,
          3963007415,
          29611914495,
          17853798780,
          19180039918,
          26800674545,
          19428308461,
          21031745531,
          11615848291,
          15176762479,
          6187804950,
          12355992466,
          4332274962,
          17999961915,
          13546549817,
          27684955537,
          0,
          14727238483,
          9956764048,
          23844936965,
          7600740993,
          7705492350,
          15916882228,
          17318452893,
          7938616641,
          7173668905,
          17211600007,
          4749833967,
          31977463002,
          16097531087,
          7886440199,
          14169516119,
          17387583720,
          3699352704,
          12385924995,
          2380248899,
          2700914170,
          15724160183,
          329774870,
          11041261296,
          6002166932,
          4067878931,
          6582932625,
          5663125358,
          2135644776,
          5994002464,
          6766461070,
          22471357411,
          7966720147,
          31494513067,
          6041264489,
          10939966484,
          17988347989,
          11568118121,
          10613701948,
          11136266461,
          8594440895,
          18347969186,
          20657571751,
          8507818877,
          9346383505,
          5141834668,
          10047736580,
          12895427184,
          11364908616,
          4380564906,
          7762905663,
          10631638628,
          9789121606,
          3828000587,
          0,
          17963202261,
          5410164682,
          4956090094,
          15038593883,
          11009148579,
          29406206620,
          4707412332,
          2441288701,
          2951914200,
          7066711323,
          23353115850,
          10366850490,
          5634695322,
          13154314376,
          3875172235,
          11323617496,
          9808676159,
          8779729549,
          5234251168,
          23038014291,
          264228052,
          7590582024,
          13124645973,
          15126092508,
          5257834105,
          7762077012,
          9594188708,
          12295637162,
          6047584292,
          7008250496,
          4120324310,
          7760819588,
          8798044678,
          13378360425,
          3306242674,
          12249828886,
          15412333005,
          5168721499,
          9867515979,
          19206701832,
          7387621644,
          7739048000,
          2238134438,
          7612385622,
          13043561912,
          11371738047,
          9710962528,
          8229883114,
          3827906874,
          4609753237,
          2315962318,
          6518418501,
          7195314800,
          10393037902,
          8826138204,
          1318442641,
          2798273962,
          9439857193,
          15278668857,
          5819508534,
          2440934034,
          7406207930,
          9463244435,
          13478392540,
          14431830557,
          12844432341,
          3527627264,
          7141825267,
          8091706232,
          20522339099,
          4488680903,
          1517638132,
          0,
          7399296005,
          6872702790,
          7155736006,
          15812009296,
          9642146451,
          6153495609,
          8696631898,
          1511794214,
          3869457097,
          5070970714,
          12714141740,
          6396049701,
          16545966132,
          1491452935,
          7151683497,
          7564652648,
          8333387785,
          13897932103,
          8897705695,
          4008801873,
          8658553456,
          10239836582,
          8932038210,
          8074260978,
          4033400167,
          4977284539,
          5549770244,
          8615618825,
          15788208522,
          2230986039,
          1321380490,
          1506796393,
          2465473772,
          12362331529,
          2613197447,
          6944967581,
          4577292740,
          1739129375,
          4260187928,
          4821183481,
          8582696157,
          9383692066,
          600154268,
          1629801448,
          2972474215,
          6543282459,
          8011977288,
          18515587421,
          6973932553,
          11428794827,
          3317805543,
          3594936775,
          3920221322,
          6036496916,
          4627069704,
          12597067132,
          5094050461,
          9106781518,
          5217553897,
          5465532801,
          8451754769,
          2224911030,
          1973638757,
          1950178163,
          896891351,
          14717282742,
          5380132790,
          8265920659,
          3912334359,
          7958771872,
          4622628957,
          20563378,
          2650061211,
          3299216601,
          3733856870,
          4177184071,
          7923901253,
          9884886099,
          1148422000,
          3568392223,
          3789736218,
          4205664894,
          5224764969,
          2182651464,
          2733682792,
          9110348202,
          5333569294,
          2683297849,
          10664585,
          5057163256,
          9999238237,
          301547793,
          6270909026,
          140022442,
          3178222797,
          3643698504,
          3632438963,
          6970899521,
          1159290255,
          1450874545,
          5567832210,
          13174393401,
          2709954270,
          6001189018,
          1612094871,
          1136534702,
          161254021,
          4163639093,
          4625777945,
          4935793409,
          10384848759,
          11552190002,
          11691081301,
          1971226335,
          1113066203,
          4021409291,
          2214684303
         ],
         "yaxis": "y"
        },
        {
         "customdata": [
          [
           "United States"
          ],
          [
           "United States"
          ],
          [
           "India"
          ],
          [
           "India"
          ],
          [
           "United States"
          ],
          [
           "United States"
          ],
          [
           "Canada"
          ],
          [
           "United States"
          ],
          [
           "India"
          ],
          [
           "United States"
          ],
          [
           "United States"
          ],
          [
           "India"
          ],
          [
           "India"
          ],
          [
           "Mexico"
          ],
          [
           "United States"
          ],
          [
           "India"
          ],
          [
           "Germany"
          ],
          [
           "United States"
          ],
          [
           "Indonesia"
          ],
          [
           "India"
          ],
          [
           "United States"
          ],
          [
           "Mexico"
          ],
          [
           "United States"
          ],
          [
           "United States"
          ],
          [
           "Australia"
          ],
          [
           "Argentina"
          ],
          [
           "India"
          ],
          [
           "India"
          ],
          [
           "India"
          ],
          [
           "United States"
          ],
          [
           "Indonesia"
          ],
          [
           "United States"
          ],
          [
           "United States"
          ],
          [
           "India"
          ],
          [
           "United States"
          ],
          [
           "India"
          ],
          [
           "United States"
          ],
          [
           "India"
          ],
          [
           "India"
          ],
          [
           "United States"
          ],
          [
           "Indonesia"
          ],
          [
           "India"
          ],
          [
           "Spain"
          ],
          [
           "United States"
          ],
          [
           "United States"
          ]
         ],
         "hovertemplate": "<b>%{hovertext}</b><br><br>category=Education<br>subscribers=%{x}<br>video views=%{y}<br>video_views_for_the_last_30_days=%{marker.size}<br>Country=%{customdata[0]}<extra></extra>",
         "hovertext": [
          "Cocomelon - Nursery Rhymes",
          "Pinkfong Baby Shark - Kids' Songs & Stories",
          "ChuChu TV Nursery Rhymes & Kids Songs",
          "Infobells - Hindi",
          "BillionSurpriseToys  - Nursery Rhymes & Cartoons",
          "Little Baby Bum - Nursery Rhymes & Kids Songs",
          "Super Simple Songs - Kids Songs",
          "Genevieve's Playhouse - Learning Videos for Kids",
          "CVS 3D Rhymes & Kids Songs",
          "BabyBus - Kids Songs and Cartoons",
          "Little Angel: Nursery Rhymes & Kids Songs",
          "infobells - Tamil",
          "infobells - Telugu",
          "BabyBus - Canciones Infantiles & Videos para Niï¿½ï",
          "Khan GS Research Centre",
          "Dr. Vivek Bindra: Motivational Speaker",
          "Kurzgesagt ï¿½ï¿½ï¿½ï¿½ï¿½ï¿",
          "ýýýýýýýýýýýýýýý - Genevieve's Playhouse",
          "BabyBus - Cerita & Lagu Anak-anak",
          "Kiddiestv Hindi - Nursery Rhymes & Kids Songs",
          "ýýýýýýýýýýýýýý ýýýý",
          "Little Angel Espaï¿½ï¿½ï¿½ï¿½ï¿½ï¿½ï¿½ï¿½ï¿½",
          "TED-Ed",
          "Blippi - Educational Videos for Kids",
          "Jason Vlogs",
          "El Reino a Jugar",
          "wifistudy",
          "Dear Sir",
          "Infobells Bangla",
          "Dave and Ava - Nursery Rhymes and Baby Songs",
          "Daftar Populer",
          "TheRichest",
          "CrashCourse",
          "StudyIQ IAS",
          "Netflix Jr.",
          "infobells - Kannada",
          "Veritasium",
          "infobells",
          "JOJO TV - Hindi Stories",
          "The Infographics Show",
          "The Shiny Peanut",
          "Right to Shiksha",
          "Little Baby Bum en Espaï¿½ï",
          "TKOR",
          "Caylus"
         ],
         "legendgroup": "Education",
         "marker": {
          "color": "#ab63fa",
          "size": [
           1975000000,
           473387000,
           420292000,
           815949000,
           266747000,
           98775000,
           560756000,
           335307000,
           136084000,
           127498000,
           107525000,
           109828000,
           288110000,
           136821000,
           175610284.7944622,
           28588000,
           29269000,
           71777000,
           112768000,
           113420000,
           21587000,
           140398000,
           29874000,
           180412000,
           25,
           83709000,
           14287000,
           24056000,
           167888000,
           77053000,
           17231000,
           175610284.7944622,
           7177000,
           74483000,
           79402000,
           141688000,
           44149000,
           23893000,
           10764000,
           51820000,
           837700,
           213738000,
           16319000,
           175610284.7944622,
           177600000
          ],
          "sizemode": "area",
          "sizeref": 4118125,
          "symbol": "circle"
         },
         "mode": "markers",
         "name": "Education",
         "orientation": "v",
         "showlegend": true,
         "type": "scatter",
         "x": [
          162000000,
          68200000,
          65900000,
          53300000,
          52200000,
          40900000,
          39200000,
          34900000,
          33400000,
          32800000,
          30100000,
          28900000,
          28300000,
          22900000,
          21200000,
          20900000,
          20800000,
          20300000,
          20300000,
          20200000,
          19000000,
          18900000,
          18800000,
          18100000,
          17200000,
          17200000,
          16000000,
          15800000,
          15500000,
          15300000,
          15100000,
          15000000,
          14800000,
          14700000,
          14700000,
          14200000,
          13900000,
          13700000,
          13600000,
          13200000,
          12900000,
          12800000,
          12500000,
          12400000,
          12400000
         ],
         "xaxis": "x",
         "y": [
          164000000000,
          38843229963,
          45757850229,
          30516172739,
          9877365274,
          39450824833,
          44900897958,
          25607397308,
          20269857567,
          26355088167,
          22593193994,
          17930570614,
          14814192034,
          13206471140,
          2073073070,
          1693149479,
          2378448129,
          11022391339,
          11819051552,
          7274150246,
          4924054368,
          9813245108,
          3654621568,
          14857290259,
          8903647480,
          11445492404,
          3018032423,
          1349288771,
          7776706184,
          10714145606,
          2143140898,
          2730879024,
          1833519700,
          4029253667,
          8882319696,
          6554000320,
          2165885634,
          5178142148,
          5141201173,
          5263540904,
          2848466522,
          7876740921,
          6956320454,
          3392022527,
          4779139505
         ],
         "yaxis": "y"
        },
        {
         "customdata": [
          [
           "India"
          ],
          [
           "India"
          ],
          [
           "India"
          ],
          [
           "United States"
          ],
          [
           "India"
          ],
          [
           "United Kingdom"
          ],
          [
           "United States"
          ],
          [
           "United States"
          ],
          [
           "United States"
          ],
          [
           "United States"
          ],
          [
           "Saudi Arabia"
          ],
          [
           "India"
          ],
          [
           "Ukraine"
          ]
         ],
         "hovertemplate": "<b>%{hovertext}</b><br><br>category=Shows<br>subscribers=%{x}<br>video views=%{y}<br>video_views_for_the_last_30_days=%{marker.size}<br>Country=%{customdata[0]}<extra></extra>",
         "hovertext": [
          "SET India",
          "Sony SAB",
          "Colors TV",
          "Masha and The Bear",
          "Sony PAL",
          "Mr Bean",
          "Kids TV - Nursery Rhymes And Baby Songs",
          "Sony AATH",
          "Masha e o Urso",
          "MGC Playhouse",
          "ýýýýýýýý ýý ýýýýýýýý",
          "Kids TV India Hindi Nursery Rhymes",
          "ýýýýýýýý ýýýý ýýýýýýýýýýýýýý"
         ],
         "legendgroup": "Shows",
         "marker": {
          "color": "#FFA15A",
          "size": [
           1824000000,
           1657000000,
           1188000000,
           670459000,
           415914000,
           56534000,
           128448000,
           274212000,
           175610284.7944622,
           102621000,
           135036000,
           78651000,
           71118000
          ],
          "sizemode": "area",
          "sizeref": 4118125,
          "symbol": "circle"
         },
         "mode": "markers",
         "name": "Shows",
         "orientation": "v",
         "showlegend": true,
         "type": "scatter",
         "x": [
          159000000,
          83000000,
          64600000,
          42400000,
          38200000,
          32100000,
          23100000,
          19600000,
          18900000,
          17900000,
          15500000,
          13800000,
          12900000
         ],
         "xaxis": "x",
         "y": [
          148000000000,
          101000000000,
          61510906457,
          24519022988,
          28519339489,
          10602236110,
          13151870846,
          13930021471,
          8301731337,
          16174530046,
          8265129639,
          6646953396,
          5585085130
         ],
         "yaxis": "y"
        },
        {
         "customdata": [
          [
           "United States"
          ],
          [
           "Russia"
          ],
          [
           "South Korea"
          ],
          [
           "Philippines"
          ],
          [
           "Colombia"
          ],
          [
           "Mexico"
          ],
          [
           "United Arab Emirates"
          ],
          [
           "United States"
          ],
          [
           "Saudi Arabia"
          ],
          [
           "India"
          ],
          [
           "Brazil"
          ],
          [
           "Indonesia"
          ],
          [
           "Venezuela"
          ],
          [
           "Singapore"
          ],
          [
           "United States"
          ],
          [
           "United States"
          ],
          [
           "United States"
          ],
          [
           "United States"
          ],
          [
           "Mexico"
          ],
          [
           "Indonesia"
          ],
          [
           "United States"
          ],
          [
           "United States"
          ],
          [
           "United States"
          ],
          [
           "United States"
          ],
          [
           "United States"
          ],
          [
           "United Kingdom"
          ],
          [
           "United Kingdom"
          ],
          [
           "United States"
          ],
          [
           "United States"
          ],
          [
           "United States"
          ],
          [
           "India"
          ],
          [
           "Saudi Arabia"
          ],
          [
           "United States"
          ],
          [
           "France"
          ],
          [
           "United States"
          ],
          [
           "United States"
          ],
          [
           "United States"
          ],
          [
           "United States"
          ],
          [
           "United States"
          ],
          [
           "United States"
          ],
          [
           "United States"
          ],
          [
           "India"
          ],
          [
           "Indonesia"
          ],
          [
           "United States"
          ],
          [
           "Russia"
          ],
          [
           "United States"
          ],
          [
           "United States"
          ],
          [
           "United States"
          ],
          [
           "United States"
          ],
          [
           "Mexico"
          ],
          [
           "United States"
          ],
          [
           "Russia"
          ],
          [
           "United States"
          ],
          [
           "United States"
          ],
          [
           "Russia"
          ],
          [
           "Indonesia"
          ],
          [
           "United States"
          ],
          [
           "Indonesia"
          ],
          [
           "United States"
          ],
          [
           "Brazil"
          ],
          [
           "United States"
          ],
          [
           "United States"
          ],
          [
           "United States"
          ],
          [
           "India"
          ],
          [
           "India"
          ],
          [
           "Indonesia"
          ],
          [
           "United States"
          ],
          [
           "United States"
          ],
          [
           "United States"
          ],
          [
           "Mexico"
          ],
          [
           "United States"
          ],
          [
           "United States"
          ],
          [
           "Brazil"
          ],
          [
           "United States"
          ],
          [
           "Russia"
          ],
          [
           "Indonesia"
          ],
          [
           "United States"
          ],
          [
           "Mexico"
          ],
          [
           "United States"
          ],
          [
           "Indonesia"
          ],
          [
           "Russia"
          ],
          [
           "India"
          ],
          [
           "United States"
          ],
          [
           "Philippines"
          ],
          [
           "United States"
          ],
          [
           "United States"
          ],
          [
           "Egypt"
          ],
          [
           "India"
          ],
          [
           "United States"
          ],
          [
           "Russia"
          ],
          [
           "United States"
          ],
          [
           "Germany"
          ],
          [
           "United States"
          ],
          [
           "Spain"
          ],
          [
           "Brazil"
          ],
          [
           "South Korea"
          ],
          [
           "India"
          ],
          [
           "India"
          ],
          [
           "United States"
          ],
          [
           "United States"
          ],
          [
           "Mexico"
          ],
          [
           "United States"
          ],
          [
           "India"
          ],
          [
           "United States"
          ],
          [
           "United States"
          ],
          [
           "Mexico"
          ],
          [
           "India"
          ],
          [
           "India"
          ],
          [
           "United States"
          ],
          [
           "United States"
          ],
          [
           "United States"
          ],
          [
           "Russia"
          ],
          [
           "United States"
          ],
          [
           "United States"
          ],
          [
           "India"
          ],
          [
           "Philippines"
          ],
          [
           "United States"
          ],
          [
           "Brazil"
          ],
          [
           "United States"
          ],
          [
           "Ecuador"
          ],
          [
           "Brazil"
          ],
          [
           "United Arab Emirates"
          ],
          [
           "Colombia"
          ],
          [
           "United States"
          ],
          [
           "South Korea"
          ],
          [
           "United States"
          ],
          [
           "United States"
          ],
          [
           "United States"
          ],
          [
           "Mexico"
          ],
          [
           "India"
          ],
          [
           "United States"
          ],
          [
           "India"
          ]
         ],
         "hovertemplate": "<b>%{hovertext}</b><br><br>category=People & Blogs<br>subscribers=%{x}<br>video views=%{y}<br>video_views_for_the_last_30_days=%{marker.size}<br>Country=%{customdata[0]}<extra></extra>",
         "hovertext": [
          "ýýý Kids Diana Show",
          "Like Nastya",
          "BLACKPINK",
          "ABS-CBN Entertainment",
          "Shakira",
          "Kimberly Loaiza",
          "shfa2 - ï¿½ï¿½",
          "LUCCAS NETO - LUCCAS TOON",
          "shfa",
          "ABP NEWS",
          "Maria Clara & JP",
          "Ricis Official",
          "YOLO AVENTURAS",
          "Sandeep Maheshwari",
          "MrBeast 2",
          "ýýý Kids Roma Show",
          "Beast Reacts",
          "NichLmao",
          "LosPolinesios",
          "Rans Entertainment",
          "Las Ratitas",
          "WB Kids",
          "ABPLIVE",
          "mujjuu___14",
          "Diana and Roma EN",
          "Mister Max",
          "Miss Katy",
          "Lady Gaga",
          "TED",
          "Vania Mania Kids",
          "Sun TV",
          "mmoshaya",
          "LeoNata Family",
          "Smile Family",
          "Zach Choi ASMR",
          "Stokes Twins",
          "Netflix India",
          "Sourav Joshi Vlogs",
          "Tekashi 6ix9ine",
          "SMOL",
          "The Royalty Family",
          "Ishaan Ali 11",
          "Baim Paula",
          "LIV Crime",
          "tuzelity SHUFFLE",
          "Jake Paul",
          "BuzzFeedVideo",
          "Crafty Panda",
          "Troom Troom Es",
          "JukiLop",
          "shane",
          "HiMan",
          "Cardi B",
          "The ACE Family",
          "Like Nastya Vlog",
          "Willie Salim",
          "Dhar Mann",
          "Naisa Alifia Yuriza (N.A.Y)",
          "Bobby chourasiya",
          "INCRï¿½ï¿",
          "David Dobrik",
          "KatieAngel",
          "Zuni and Family",
          "Priyal Kukreja",
          "jaanvi patel",
          "tanboy kun",
          "Koray Zeynep",
          "Danny Fitt",
          "deepesh zo",
          "Tu COSMOPOLIS",
          "XO TEAM",
          "ExtraPolinesios",
          "Canal IN",
          "sagar kalra (Shorts)",
          "ýýýýýýýýýý",
          "Arif muhammad",
          "5-Minute Crafts FAMILY",
          "Blippi Espaï¿½ï",
          "Roman Atwood Vlogs",
          "Kerajinan 5-Menit",
          "ILYA BORZOV",
          "Pokï¿½ï¿½ï¿½ï¿½ï¿½ï¿½ï¿½ï¿½ï¿½",
          "It's Mamix",
          "Ranz Kyle",
          "PowerfulJRE",
          "Hongyu ASMR ï¿½ï¿½",
          "Mohamed Ramadan I ï¿½ï¿½ï¿½ï¿½ï¿½ï¿½ï",
          "Chetan Monga Vlogs",
          "ZutiGang",
          "ýýýýýý",
          "Meghan Trainor",
          "Beast Philanthropy",
          "5-Minute Crafts Recycle",
          "Auron",
          "Planeta das Gï¿½ï¿½",
          "Boram Tube ToysReview [ï¿½ï¿½ï¿½ï¿½ï¿½ï¿½ï¿½ï¿½ï¿",
          "TV9 Bharatvarsh",
          "Indore Physical Academy",
          "Harry Styles",
          "Super Polina",
          "TV Ana Emilia",
          "ViralHog",
          "ETV Jabardasth",
          "Dental Digest",
          "JD Pantoja",
          "123 GO! Spanish",
          "MyMissAnand",
          "The World Adventures ï¿½ï¿½ï¿½ï¿½ï¿½ï¿½",
          "Peet Montzingo",
          "The Q",
          "Stray Kids",
          "ýýýýýýýýýýýýýýýýýý",
          "Kids Lineï¿½ï¿½ï¿½ï¿½ï¿½ï¿½ï¿½",
          "ýýýýýýTwinsFromRussia",
          "CookingShooking Hindi",
          "Alex Gonzaga Official",
          "Knowledge Tv ï¿½ï¿½ï¿½ï¿½ï¿½ï¿½",
          "Painzeiro",
          "ýýýýýýýýýýýýýýý Ms Yeah",
          "RaptorGamer",
          "Pastor Antï¿½ï¿½ï¿½ï¿½ï",
          "AlArabiya ï¿½ï¿½ï¿½ï¿½ï¿",
          "Go Ami Go!",
          "CaseyNeistat",
          "ýýýýýýýýýSULGI",
          "Ja Mill",
          "Troom Troom Indonesia",
          "Hero Movies 2023",
          "Gibby :)",
          "Pari's Lifestyle",
          "ANNA KOVA",
          "Free Fire India Official"
         ],
         "legendgroup": "People & Blogs",
         "marker": {
          "color": "#19d3f3",
          "size": [
           731674000,
           48947000,
           498930000,
           176629000,
           353412000,
           136745000,
           247731000,
           2,
           1589000,
           267060000,
           251449000,
           157101000,
           3589,
           175610284.7944622,
           649,
           175844000,
           276187000,
           606362000,
           30501000,
           58487000,
           11,
           140319000,
           2,
           400222000,
           177769000,
           32817000,
           59629000,
           143169000,
           13246000,
           155215000,
           982238000,
           73829000,
           1174000000,
           735,
           234222000,
           197953000,
           408,
           265336000,
           113542000,
           3,
           160227000,
           729409000,
           26974000,
           383700000,
           552266000,
           14646000,
           9112000,
           6137000,
           29387000,
           2382000,
           2730000,
           24563000,
           7,
           2835000,
           48947000,
           197369000,
           175610284.7944622,
           17063000,
           467848000,
           18045000,
           8650000,
           51687000,
           4,
           431390000,
           346753000,
           48174000,
           426389000,
           275264000,
           1,
           16139000,
           37911,
           510,
           13802000,
           74062000,
           175610284.7944622,
           71870000,
           27382000,
           90012000,
           1583000,
           19740000,
           475565000,
           65380000,
           15984000,
           12376000,
           43409000,
           175610284.7944622,
           46060000,
           113572000,
           346653000,
           7697,
           51645000,
           37883,
           53181000,
           60568000,
           10547000,
           4960000,
           418474000,
           70409000,
           175610284.7944622,
           413774,
           26783000,
           1364000000,
           133584000,
           231562000,
           13533000,
           26519000,
           27882000,
           1043000,
           397715000,
           3,
           2,
           90241000,
           161889000,
           119389000,
           11490000,
           10848000,
           2,
           43990000,
           60661000,
           62909000,
           31796000,
           80219000,
           327600000,
           5952000,
           113132000,
           175610284.7944622,
           1,
           21837000,
           10278000,
           38165000,
           2,
           64735000
          ],
          "sizemode": "area",
          "sizeref": 4118125,
          "symbol": "circle"
         },
         "mode": "markers",
         "name": "People & Blogs",
         "orientation": "v",
         "showlegend": true,
         "type": "scatter",
         "x": [
          112000000,
          106000000,
          89800000,
          44200000,
          43500000,
          41300000,
          39700000,
          39400000,
          38400000,
          37000000,
          37000000,
          33300000,
          31200000,
          27800000,
          27500000,
          27400000,
          26700000,
          26000000,
          25700000,
          25400000,
          25200000,
          25200000,
          25200000,
          24800000,
          23900000,
          23700000,
          23500000,
          23200000,
          23100000,
          22700000,
          22600000,
          22600000,
          22600000,
          22300000,
          21900000,
          21800000,
          21800000,
          21700000,
          21500000,
          21500000,
          21300000,
          21300000,
          21100000,
          20900000,
          20700000,
          20400000,
          20100000,
          19800000,
          19700000,
          19400000,
          19200000,
          18900000,
          18800000,
          18500000,
          18500000,
          18500000,
          18400000,
          18300000,
          18200000,
          18200000,
          17900000,
          17900000,
          17900000,
          17800000,
          17700000,
          17700000,
          17400000,
          16900000,
          16800000,
          16700000,
          16200000,
          16200000,
          16100000,
          16000000,
          15900000,
          15800000,
          15600000,
          15500000,
          15400000,
          15400000,
          15300000,
          15200000,
          15100000,
          15100000,
          15100000,
          15100000,
          15100000,
          15000000,
          14900000,
          14900000,
          14800000,
          14800000,
          14800000,
          14600000,
          14600000,
          14500000,
          14500000,
          14400000,
          14400000,
          14300000,
          14000000,
          14000000,
          14000000,
          13900000,
          13800000,
          13800000,
          13700000,
          13400000,
          13400000,
          13400000,
          13300000,
          13300000,
          13300000,
          13200000,
          13200000,
          13100000,
          13100000,
          13100000,
          13100000,
          13100000,
          12900000,
          12900000,
          12700000,
          12600000,
          12600000,
          12500000,
          12500000,
          12400000,
          12400000,
          12400000,
          12400000,
          12300000
         ],
         "xaxis": "x",
         "y": [
          93247040539,
          90479060027,
          32144597566,
          50292540392,
          27568757295,
          5603111948,
          23884824160,
          22302547082,
          21528116909,
          13102611515,
          24188861917,
          5994136760,
          9673649438,
          2303069221,
          4552581106,
          10336420490,
          4388047013,
          14101010609,
          7466926260,
          6430853035,
          9602246828,
          11081602368,
          7968363381,
          14655527943,
          7213499085,
          15510153803,
          14696994366,
          15751661213,
          2551113422,
          10115316784,
          20847038152,
          17507060680,
          27084848152,
          8663830163,
          5918314128,
          4469711607,
          7780934187,
          9392093496,
          5890180734,
          22065582014,
          6269945014,
          12761253839,
          4526271677,
          11058049885,
          8658941531,
          7311322368,
          17913237851,
          5759442450,
          7452667615,
          1577859332,
          4329121104,
          2855519150,
          7634430188,
          4558380251,
          8147575884,
          4051072188,
          11280732382,
          1606834186,
          9937823152,
          3213324455,
          7176572299,
          3841205465,
          6746269458,
          11057945183,
          7912733203,
          3647267655,
          16560557488,
          9544277833,
          7206462713,
          5089284369,
          14784781923,
          4813127504,
          2687443643,
          6543629679,
          1845329502,
          4122634467,
          6165757696,
          8984089026,
          5469103954,
          4750420071,
          9938811455,
          857725714,
          1777072487,
          1760131384,
          3060202847,
          4967784343,
          5324913850,
          9924103188,
          15913320995,
          439098,
          8649303688,
          272678287,
          8866012877,
          3337074920,
          4622581344,
          5014888374,
          10303519926,
          4156427797,
          5689224452,
          4776507159,
          4674164601,
          18917687143,
          13542939513,
          7450345720,
          1493776391,
          5019136690,
          4963275018,
          2139769210,
          10022557589,
          4306212515,
          3364230487,
          6482687220,
          9088562002,
          9378175604,
          1758603195,
          1401914513,
          1936582704,
          2555801802,
          4399833602,
          2879263916,
          2112274210,
          7520379951,
          1714955279,
          3152402405,
          3485373675,
          1302818088,
          5379684248,
          1689090619,
          2862685032,
          7741764747,
          13959586308,
          1674409945
         ],
         "yaxis": "y"
        },
        {
         "customdata": [
          [
           "Japan"
          ],
          [
           "Chile"
          ],
          [
           "Cuba"
          ],
          [
           "El Salvador"
          ],
          [
           "United States"
          ],
          [
           "Spain"
          ],
          [
           "United States"
          ],
          [
           "United States"
          ],
          [
           "United States"
          ],
          [
           "United States"
          ],
          [
           "Spain"
          ],
          [
           "United States"
          ],
          [
           "Brazil"
          ],
          [
           "United States"
          ],
          [
           "Kuwait"
          ],
          [
           "United States"
          ],
          [
           "United States"
          ],
          [
           "United Kingdom"
          ],
          [
           "Canada"
          ],
          [
           "United States"
          ],
          [
           "United States"
          ],
          [
           "Canada"
          ],
          [
           "United Kingdom"
          ],
          [
           "United States"
          ],
          [
           "United States"
          ],
          [
           "Chile"
          ],
          [
           "Australia"
          ],
          [
           "Indonesia"
          ],
          [
           "Brazil"
          ],
          [
           "United States"
          ],
          [
           "United States"
          ],
          [
           "United States"
          ],
          [
           "Saudi Arabia"
          ],
          [
           "Russia"
          ],
          [
           "United States"
          ],
          [
           "France"
          ],
          [
           "Spain"
          ],
          [
           "Thailand"
          ],
          [
           "Australia"
          ],
          [
           "Chile"
          ],
          [
           "United States"
          ],
          [
           "United States"
          ],
          [
           "United States"
          ],
          [
           "Spain"
          ],
          [
           "United States"
          ],
          [
           "United States"
          ],
          [
           "United States"
          ],
          [
           "United Kingdom"
          ],
          [
           "United Kingdom"
          ],
          [
           "Mexico"
          ],
          [
           "United States"
          ],
          [
           "Argentina"
          ],
          [
           "United States"
          ],
          [
           "United States"
          ],
          [
           "United Arab Emirates"
          ],
          [
           "United States"
          ],
          [
           "India"
          ],
          [
           "Spain"
          ],
          [
           "Russia"
          ],
          [
           "United Kingdom"
          ],
          [
           "United States"
          ],
          [
           "United States"
          ],
          [
           "United States"
          ],
          [
           "United States"
          ],
          [
           "Brazil"
          ],
          [
           "Australia"
          ],
          [
           "United States"
          ],
          [
           "United States"
          ],
          [
           "India"
          ],
          [
           "United States"
          ],
          [
           "United Kingdom"
          ],
          [
           "Mexico"
          ],
          [
           "Brazil"
          ],
          [
           "Russia"
          ],
          [
           "Brazil"
          ],
          [
           "Netherlands"
          ],
          [
           "United States"
          ],
          [
           "Spain"
          ],
          [
           "Indonesia"
          ],
          [
           "Canada"
          ],
          [
           "United States"
          ],
          [
           "United States"
          ],
          [
           "United States"
          ],
          [
           "Saudi Arabia"
          ],
          [
           "Canada"
          ],
          [
           "Finland"
          ],
          [
           "South Korea"
          ],
          [
           "Brazil"
          ],
          [
           "United Kingdom"
          ],
          [
           "Mexico"
          ],
          [
           "United States"
          ],
          [
           "Spain"
          ],
          [
           "Spain"
          ],
          [
           "Sweden"
          ]
         ],
         "hovertemplate": "<b>%{hovertext}</b><br><br>category=Gaming<br>subscribers=%{x}<br>video views=%{y}<br>video_views_for_the_last_30_days=%{marker.size}<br>Country=%{customdata[0]}<extra></extra>",
         "hovertext": [
          "PewDiePie",
          "JuegaGerman",
          "A4",
          "Fernanfloo",
          "elrubiusOMG",
          "Mikecrack",
          "MrBeast Gaming",
          "Total Gaming",
          "Markiplier",
          "Techno Gamerz",
          "VEGETTA777",
          "SSSniperWolf",
          "rezendeevil",
          "Dream",
          "AboFlah",
          "Frost Diamond",
          "jacksepticeye",
          "DanTDM",
          "VanossGaming",
          "Preston",
          "Ninja",
          "FaZe Rug",
          "Jelly",
          "SSundee",
          "FGTeeV",
          "invictor",
          "LazarBeam",
          "MiawAug",
          "AuthenticGames",
          "AS Gaming",
          "Clash of Clans",
          "Ali-A",
          "ýýýýýýýý ýýýýýýýýýý ýýýýýýýýýý | Arab Games Network",
          "Marmok",
          "IShowSpeed",
          "SQUEEZIE",
          "TheGrefg",
          "zbing z.",
          "The Game Theorists",
          "DeGoBooM",
          "IGN",
          "Aphmau",
          "PopularMMOs",
          "Willyrex",
          "Guava Juice",
          "CoryxKenshin",
          "Technoblade",
          "W2S",
          "JJ Olatunji",
          "Antrax",
          "Enes Batur",
          "Lyna",
          "Unspeakable",
          "Kuplinov ï¿½ï¿½ï¿",
          "FFUNTV",
          "Mobile Legends: Bang Bang",
          "LOKESH GAMER",
          "Makiman131",
          "EdisonPts",
          "MoreAliA",
          "League of Legends",
          "PlayStation",
          "Kwebbelkop",
          "BigSchool",
          "TazerCraft",
          "Lachlan",
          "Jesser",
          "PrestonPlayz",
          "Gyan Gamingï¿½",
          "NOBRU",
          "TommyInnit",
          "E-MasterSensei",
          "AM3NlC",
          "ýýýýýýýýýýýý",
          "Jazzghost",
          "ýýýýýýýý/Atro",
          "Desi Gamers",
          "Acenix",
          "BUDI01 GAMING",
          "Typical Gamer",
          "H2ODelirious",
          "theRadBrad",
          "penguinz0",
          "BanderitaX",
          "AzzyLand",
          "Brawl Stars",
          "GH'S",
          "Piuzinho",
          "Morgz",
          "Yair17",
          "LOUD",
          "Timba Vk",
          "DaniRep | +6 Vï¿½ï¿½ï¿½ï¿½ï¿½ï¿½ï¿½ï¿½ï¿½ï¿½ï",
          "RobTopGames"
         ],
         "legendgroup": "Gaming",
         "marker": {
          "color": "#FF6692",
          "size": [
           39184000,
           66388000,
           94,
           33842000,
           5773000,
           264108000,
           32,
           53,
           127329000,
           86,
           39094000,
           210955000,
           44505000,
           27022000,
           157908000,
           175610284.7944622,
           40425000,
           78668000,
           54947000,
           151697000,
           8368000,
           175610284.7944622,
           41669000,
           175094000,
           132110000,
           49,
           26082000,
           64489000,
           5420000,
           23,
           22292000,
           1,
           43007000,
           38282000,
           140261000,
           48099000,
           43830000,
           55127000,
           175610284.7944622,
           100215000,
           98342000,
           439870000,
           15296000,
           15405000,
           10889000,
           105114000,
           17944000,
           3079000,
           27808000,
           4698000,
           175610284.7944622,
           64085000,
           164895000,
           98660000,
           80172000,
           55369000,
           5920000,
           5972000,
           95603000,
           250995000,
           43133000,
           41789000,
           29724000,
           175610284.7944622,
           39775000,
           21072000,
           92594000,
           151697000,
           13891000,
           2,
           54291000,
           44575000,
           10210000,
           150570000,
           106718000,
           55122000,
           5,
           47436000,
           13436000,
           32557000,
           16785000,
           15694000,
           188948000,
           70712000,
           5387000,
           20369000,
           1081000000,
           3619000,
           58838000,
           8869000,
           27596,
           24022000,
           82648000,
           3871000
          ],
          "sizemode": "area",
          "sizeref": 4118125,
          "symbol": "circle"
         },
         "mode": "markers",
         "name": "Gaming",
         "orientation": "v",
         "showlegend": true,
         "type": "scatter",
         "x": [
          111000000,
          48100000,
          46300000,
          46100000,
          40400000,
          39100000,
          36100000,
          35400000,
          35200000,
          34400000,
          33800000,
          33700000,
          32100000,
          31700000,
          30500000,
          30100000,
          30100000,
          27400000,
          25800000,
          24000000,
          23700000,
          23700000,
          23500000,
          22500000,
          22300000,
          21500000,
          20500000,
          20200000,
          20100000,
          19600000,
          19600000,
          18700000,
          18600000,
          18500000,
          18300000,
          18100000,
          18000000,
          17600000,
          17600000,
          17600000,
          17500000,
          17400000,
          17200000,
          17200000,
          16900000,
          16700000,
          16300000,
          16300000,
          16200000,
          16000000,
          16000000,
          15900000,
          15900000,
          15600000,
          15400000,
          15400000,
          15300000,
          15100000,
          15100000,
          15000000,
          15000000,
          15000000,
          15000000,
          15000000,
          14900000,
          14800000,
          14600000,
          14600000,
          14400000,
          14400000,
          14200000,
          14200000,
          14000000,
          14000000,
          13900000,
          13800000,
          13700000,
          13600000,
          13500000,
          13500000,
          13400000,
          13300000,
          13300000,
          13300000,
          13300000,
          13200000,
          13000000,
          12700000,
          12600000,
          12500000,
          12400000,
          12400000,
          12400000,
          12300000
         ],
         "xaxis": "x",
         "y": [
          29058044447,
          14631710289,
          22936630813,
          10323391593,
          7410536668,
          16118181673,
          6331332547,
          5556364230,
          20297931219,
          9690499664,
          15432929204,
          23492684419,
          13061739758,
          2930015381,
          4521573939,
          7277493940,
          16246625836,
          19417887510,
          15541421838,
          8279004442,
          2543809954,
          7451792132,
          14777034543,
          13835173331,
          24059336857,
          8409641722,
          8768697257,
          6098644584,
          8920141342,
          2851024430,
          3961318438,
          6148303268,
          8761255550,
          3457618361,
          1556003039,
          9983065083,
          6404852037,
          9269174070,
          3752347262,
          6306204566,
          16107116549,
          17763586483,
          14573155899,
          5024088947,
          9111000228,
          7102965621,
          1656452554,
          4768370464,
          4076692623,
          3029872908,
          9786595271,
          6534326412,
          9052367553,
          6862529416,
          11513738907,
          1543608082,
          1640078055,
          4236036141,
          6668507856,
          4352427049,
          7159750970,
          4741434420,
          6889304306,
          9996133066,
          5956193599,
          5269059435,
          3603556207,
          5766647017,
          2224121890,
          351763324,
          2084791147,
          3920559552,
          4959982720,
          7719743112,
          5673347763,
          2480957682,
          2135195239,
          2122062016,
          1181292450,
          4301581610,
          4356686216,
          6050102764,
          7773543609,
          4129249415,
          6412313570,
          2036408398,
          8739174649,
          1081285962,
          3303595310,
          1402042328,
          2394143260,
          2840137980,
          6933660906,
          374123483
         ],
         "yaxis": "y"
        },
        {
         "customdata": [
          [
           "United States"
          ],
          [
           "United States"
          ],
          [
           "United States"
          ],
          [
           "Switzerland"
          ],
          [
           "Australia"
          ],
          [
           "United States"
          ],
          [
           "Spain"
          ],
          [
           "United Kingdom"
          ],
          [
           "United States"
          ],
          [
           "Spain"
          ],
          [
           "Brazil"
          ]
         ],
         "hovertemplate": "<b>%{hovertext}</b><br><br>category=Sports<br>subscribers=%{x}<br>video views=%{y}<br>video_views_for_the_last_30_days=%{marker.size}<br>Country=%{customdata[0]}<extra></extra>",
         "hovertext": [
          "WWE",
          "Dude Perfect",
          "NBA",
          "FIFA",
          "How Ridiculous",
          "UFC - Ultimate Fighting Championship",
          "FC Barcelona",
          "F2Freestylers - Ultimate Soccer Skills Channel",
          "DALLMYD",
          "gymvirtual",
          "Natan por Aï¿"
         ],
         "legendgroup": "Sports",
         "marker": {
          "color": "#B6E880",
          "size": [
           714614000,
           141200000,
           73025000,
           58863000,
           391298000,
           133208000,
           84867000,
           10222000,
           30677000,
           11993000,
           552513000
          ],
          "sizemode": "area",
          "sizeref": 4118125,
          "symbol": "circle"
         },
         "mode": "markers",
         "name": "Sports",
         "orientation": "v",
         "showlegend": true,
         "type": "scatter",
         "x": [
          96000000,
          59500000,
          20700000,
          19400000,
          18000000,
          16400000,
          15300000,
          14100000,
          13600000,
          12900000,
          12300000
         ],
         "xaxis": "x",
         "y": [
          77428473662,
          16241549158,
          12624879732,
          5529131886,
          9601137077,
          7135820721,
          2656528205,
          3280481927,
          1948925559,
          2509752944,
          9029609749
         ],
         "yaxis": "y"
        },
        {
         "customdata": [
          [
           "United Kingdom"
          ],
          [
           "United States"
          ],
          [
           "Mexico"
          ],
          [
           "United States"
          ],
          [
           "United States"
          ],
          [
           "Mexico"
          ],
          [
           "Australia"
          ],
          [
           "United States"
          ],
          [
           "India"
          ],
          [
           "United States"
          ],
          [
           "United States"
          ],
          [
           "United States"
          ],
          [
           "Mexico"
          ],
          [
           "Brazil"
          ],
          [
           "China"
          ],
          [
           "Australia"
          ],
          [
           "Spain"
          ],
          [
           "United States"
          ],
          [
           "United States"
          ],
          [
           "Egypt"
          ],
          [
           "Andorra"
          ],
          [
           "United States"
          ],
          [
           "Ukraine"
          ],
          [
           "Mexico"
          ],
          [
           "Brazil"
          ],
          [
           "United States"
          ],
          [
           "Netherlands"
          ],
          [
           "Sweden"
          ],
          [
           "United States"
          ],
          [
           "India"
          ],
          [
           "India"
          ],
          [
           "United States"
          ],
          [
           "United States"
          ],
          [
           "India"
          ],
          [
           "United States"
          ],
          [
           "United States"
          ],
          [
           "India"
          ],
          [
           "United States"
          ],
          [
           "United States"
          ],
          [
           "India"
          ]
         ],
         "hovertemplate": "<b>%{hovertext}</b><br><br>category=Howto & Style<br>subscribers=%{x}<br>video views=%{y}<br>video_views_for_the_last_30_days=%{marker.size}<br>Country=%{customdata[0]}<extra></extra>",
         "hovertext": [
          "5-Minute Crafts",
          "BRIGHT SIDE",
          "GENIAL",
          "Gulshan Kalra",
          "Fede Vigevani",
          "Yuya",
          "Chloe Ting",
          "Troom Troom",
          "Village Cooking Channel",
          "Tasty",
          "5-Minute Crafts DIY",
          "5-Minute Crafts PLAY",
          "SUPER SLICK SLIME SAM",
          "Manual do Mundo",
          "ýýýýýýýýý Liziqi",
          "HowToBasic",
          "IDEAS EN 5 MINUTOS",
          "Sandra Cires Art",
          "jeffreestar",
          "ýýýýýýýý ýýýýýýýýýýýýýý ýýýý 5 ýýýýýýýýýý",
          "Musas",
          "Mariale",
          "ýýýýýýýý ýýýýýýýý",
          "Mis Pastelitos",
          "IDEIAS INCRï¿½ï¿½",
          "Rosanna Pansino",
          "NikkieTutorials",
          "Narins Beauty",
          "Alexa Rivera",
          "NishaMadhulika",
          "Anaysa",
          "Wengie",
          "ATHLEAN-Xï¿½",
          "Kabita's Kitchen",
          "Troom Troom India",
          "Blossom",
          "Health Time",
          "First We Feast",
          "Troom Troom PT",
          "bharatzkitchen HINDI"
         ],
         "legendgroup": "Howto & Style",
         "marker": {
          "color": "#FF97FF",
          "size": [
           1,
           175610284.7944622,
           31455000,
           502779000,
           175610284.7944622,
           336291,
           23263000,
           98052000,
           194604000,
           24691000,
           20012000,
           105784000,
           123338000,
           54766000,
           22354000,
           15525000,
           65470,
           18028000,
           2006000,
           32916000,
           86,
           11956000,
           47117000,
           50677000,
           2838000,
           26683000,
           35934000,
           13709000,
           142760000,
           22235000,
           29706000,
           1335000,
           14498000,
           43118000,
           17270000,
           43868000,
           1395000,
           111252000,
           13501000,
           30968000
          ],
          "sizemode": "area",
          "sizeref": 4118125,
          "symbol": "circle"
         },
         "mode": "markers",
         "name": "Howto & Style",
         "orientation": "v",
         "showlegend": true,
         "type": "scatter",
         "x": [
          80100000,
          44500000,
          31800000,
          27100000,
          25600000,
          24800000,
          24700000,
          23800000,
          21600000,
          21100000,
          20700000,
          20100000,
          19000000,
          18000000,
          17600000,
          17300000,
          16600000,
          16400000,
          15900000,
          15500000,
          15100000,
          15100000,
          14800000,
          14600000,
          14500000,
          14400000,
          14200000,
          14000000,
          13900000,
          13700000,
          13500000,
          13500000,
          13400000,
          13300000,
          12800000,
          12700000,
          12500000,
          12500000,
          12500000,
          12400000
         ],
         "xaxis": "x",
         "y": [
          26236790209,
          10708531817,
          6762424690,
          12732444881,
          7962725960,
          2588501115,
          2994726412,
          10414479943,
          5863377051,
          5783557209,
          5091618606,
          6119294270,
          7229175322,
          3980991248,
          2977741577,
          3684816159,
          3696973456,
          3955426159,
          2609358468,
          4499826716,
          2400037562,
          2761547758,
          7018015062,
          2750902766,
          3551889957,
          4597228794,
          1778318927,
          2214167846,
          3193226072,
          2939201386,
          3445794123,
          1900272833,
          2319515787,
          2831275503,
          6804072897,
          4733873025,
          1002219689,
          2983799729,
          4384177908,
          2315226648
         ],
         "yaxis": "y"
        },
        {
         "customdata": [
          [
           "India"
          ],
          [
           "United States"
          ],
          [
           "India"
          ],
          [
           "India"
          ],
          [
           "Philippines"
          ],
          [
           "India"
          ],
          [
           "Mexico"
          ],
          [
           "United States"
          ],
          [
           "India"
          ],
          [
           "United States"
          ],
          [
           "Ukraine"
          ],
          [
           "India"
          ],
          [
           "India"
          ],
          [
           "India"
          ],
          [
           "Thailand"
          ],
          [
           "India"
          ],
          [
           "United States"
          ],
          [
           "India"
          ],
          [
           "Philippines"
          ],
          [
           "India"
          ],
          [
           "Indonesia"
          ],
          [
           "United States"
          ],
          [
           "United Kingdom"
          ],
          [
           "Bangladesh"
          ],
          [
           "Pakistan"
          ],
          [
           "Philippines"
          ]
         ],
         "hovertemplate": "<b>%{hovertext}</b><br><br>category=News & Politics<br>subscribers=%{x}<br>video views=%{y}<br>video_views_for_the_last_30_days=%{marker.size}<br>Country=%{customdata[0]}<extra></extra>",
         "hovertext": [
          "Aaj Tak",
          "YouTube",
          "IndiaTV",
          "Zee News",
          "Raffy Tulfo in Action",
          "The Lallantop",
          "Tlnovelas",
          "SOMOY TV",
          "DLS News",
          "Sebastiï¿½ï¿½ï¿½",
          "News 24",
          "News18 India",
          "NMF News",
          "BBC News Hindi",
          "Thairath Online",
          "Narendra Modi",
          "CNN",
          "NDTV India",
          "ABS-CBN News",
          "Republic Bharat",
          "KOMPASTV",
          "ABC News",
          "BBC News",
          "Jamuna TV",
          "Geo News",
          "GMA Integrated News"
         ],
         "legendgroup": "News & Politics",
         "marker": {
          "color": "#FECB52",
          "size": [
           461148000,
           21103000,
           290847000,
           461472000,
           163130000,
           273920000,
           15459,
           16229,
           32111000,
           110776000,
           370779000,
           394106000,
           59201000,
           131202000,
           224756000,
           185969000,
           187006000,
           49662000,
           181644000,
           998,
           113064000,
           185709000,
           66273000,
           1,
           100053000,
           115459000
          ],
          "sizemode": "area",
          "sizeref": 4118125,
          "symbol": "circle"
         },
         "mode": "markers",
         "name": "News & Politics",
         "orientation": "v",
         "showlegend": true,
         "type": "scatter",
         "x": [
          57600000,
          36300000,
          35500000,
          30500000,
          26500000,
          25200000,
          21500000,
          19800000,
          19400000,
          18000000,
          17700000,
          17500000,
          16600000,
          16500000,
          16200000,
          15800000,
          15200000,
          15200000,
          15100000,
          15000000,
          15000000,
          14700000,
          14500000,
          13900000,
          13800000,
          13400000
         ],
         "xaxis": "x",
         "y": [
          25307753534,
          3010784935,
          16105023749,
          16709857823,
          15065753455,
          10409352249,
          15013096899,
          12293479945,
          2255542592,
          10463166404,
          8396875537,
          7263619576,
          7435180827,
          7043235131,
          14563841315,
          3392918989,
          14198154095,
          6624168155,
          10489367372,
          7536093065,
          11827310821,
          12961669452,
          4598387043,
          12129583055,
          5727888539,
          9569814790
         ],
         "yaxis": "y"
        },
        {
         "customdata": [
          [
           "Brazil"
          ],
          [
           "Mexico"
          ],
          [
           "India"
          ],
          [
           "India"
          ],
          [
           "India"
          ],
          [
           "United States"
          ],
          [
           "India"
          ],
          [
           "United States"
          ],
          [
           "India"
          ],
          [
           "Brazil"
          ],
          [
           "Spain"
          ],
          [
           "United States"
          ],
          [
           "United States"
          ],
          [
           "Colombia"
          ],
          [
           "United States"
          ],
          [
           "United States"
          ],
          [
           "United States"
          ],
          [
           "Argentina"
          ],
          [
           "United States"
          ],
          [
           "Brazil"
          ],
          [
           "India"
          ],
          [
           "United States"
          ],
          [
           "Germany"
          ],
          [
           "Brazil"
          ],
          [
           "Argentina"
          ],
          [
           "United Arab Emirates"
          ],
          [
           "Latvia"
          ],
          [
           "United States"
          ],
          [
           "United States"
          ],
          [
           "United States"
          ],
          [
           "India"
          ],
          [
           "Spain"
          ],
          [
           "United States"
          ],
          [
           "Mexico"
          ],
          [
           "Russia"
          ],
          [
           "United States"
          ],
          [
           "India"
          ],
          [
           "India"
          ],
          [
           "United States"
          ],
          [
           "Thailand"
          ],
          [
           "Brazil"
          ],
          [
           "India"
          ],
          [
           "India"
          ],
          [
           "Argentina"
          ],
          [
           "Japan"
          ],
          [
           "United States"
          ],
          [
           "United States"
          ],
          [
           "India"
          ],
          [
           "Canada"
          ],
          [
           "France"
          ],
          [
           "United States"
          ],
          [
           "United States"
          ],
          [
           "India"
          ],
          [
           "Brazil"
          ],
          [
           "India"
          ],
          [
           "Vietnam"
          ],
          [
           "United Kingdom"
          ],
          [
           "Thailand"
          ],
          [
           "United States"
          ],
          [
           "Brazil"
          ],
          [
           "United States"
          ],
          [
           "Iraq"
          ],
          [
           "United States"
          ],
          [
           "Mexico"
          ],
          [
           "India"
          ],
          [
           "United States"
          ],
          [
           "Brazil"
          ],
          [
           "United States"
          ],
          [
           "India"
          ]
         ],
         "hovertemplate": "<b>%{hovertext}</b><br><br>category=Comedy<br>subscribers=%{x}<br>video views=%{y}<br>video_views_for_the_last_30_days=%{marker.size}<br>Country=%{customdata[0]}<extra></extra>",
         "hovertext": [
          "whinderssonnunes",
          "Luisito Comunica",
          "CarryMinati",
          "Jkk Entertainment",
          "KHANDESHI MOVIES",
          "The Tonight Show Starring Jimmy Fallon",
          "Round2hell",
          "Talking Tom",
          "ashish chanchlani vines",
          "Enaldinho",
          "AuronPlay",
          "Shorts Break",
          "Brent Rivera",
          "enchufetv",
          "Alan Chikin Chow",
          "Smosh",
          "LankyBox",
          "Alejo Igoa",
          "Daniel LaBelle",
          "Spider Slack",
          "Heroindori",
          "Topper Guild",
          "YOLO",
          "Canal Canalha",
          "Bizarrap",
          "Noor Stars",
          "dednahype",
          "Marta and Rustam",
          "JennaMarbles",
          "TheOdd1sOut",
          "Triggered Insaan",
          "TheWillyrex",
          "Lele Pons",
          "MissaSinfonia",
          "TheBrianMaps",
          "Liza Koshy",
          "Prajapati News",
          "Aayu and Pihu Show",
          "FailArmy",
          "Kaykai Salaider",
          "T3ddy",
          "Harsh Beniwal",
          "The MriDul",
          "Rubï¿½ï¿½ï¿½ï¿½ï¿½ï¿½",
          "ISSEI / ï¿½ï¿½ï¿½ï¿½",
          "Chad Wild Clay",
          "CollegeHumor",
          "Noman Official",
          "Lilly Singh",
          "Cyprien",
          "Rclbeauty101",
          "Rebecca Zamolo",
          "SEVENGERS",
          "O Que Nï¿½ï¿½ï¿½ï¿½ï¿½ï¿",
          "The Vishal bhatt",
          "FAPTV",
          "Woody & Kleiny",
          "My Mate Nate",
          "Just For Laughs Gags",
          "Everson Zoio",
          "The LaBrant Fam",
          "Melon City Show - ï¿½ï¿½ï¿½ï¿½ï¿½ï¿½ï¿½ï¿½ï¿½ï¿½ï¿",
          "Adam W",
          "Franco Escamilla",
          "CKM",
          "_vector_",
          "Gustavo Parï¿½ï¿½",
          "MoniLina",
          "Make Joke Of"
         ],
         "legendgroup": "Comedy",
         "marker": {
          "color": "#636efa",
          "size": [
           26683000,
           175610284.7944622,
           78688000,
           49861000,
           24736000,
           22511000,
           31822000,
           175610284.7944622,
           26171000,
           303100000,
           12143000,
           60805,
           144453000,
           24363000,
           1046000000,
           68156000,
           815341000,
           401512000,
           398765000,
           761451000,
           399152000,
           687028000,
           175610284.7944622,
           23897000,
           193176000,
           15556000,
           1245000000,
           452250000,
           3769000,
           30986000,
           109026000,
           11004000,
           18548000,
           27445000,
           37164000,
           1761000,
           7626000,
           89782000,
           112986000,
           9341000,
           33015000,
           27963000,
           98329000,
           512343000,
           282372000,
           36338000,
           55583000,
           139116000,
           5329000,
           11417000,
           8636000,
           175610284.7944622,
           367898000,
           87804000,
           379240000,
           35124000,
           495561000,
           41672000,
           17468000,
           3052000,
           42412000,
           35336000,
           228951000,
           77482000,
           13142000,
           903672000,
           175610284.7944622,
           175610284.7944622,
           24000000
          ],
          "sizemode": "area",
          "sizeref": 4118125,
          "symbol": "circle"
         },
         "mode": "markers",
         "name": "Comedy",
         "orientation": "v",
         "showlegend": true,
         "type": "scatter",
         "x": [
          44200000,
          40600000,
          39200000,
          37200000,
          33500000,
          31200000,
          30700000,
          30200000,
          29800000,
          29200000,
          29200000,
          29000000,
          27000000,
          26700000,
          26400000,
          26100000,
          25400000,
          24100000,
          24100000,
          24000000,
          22600000,
          21900000,
          21400000,
          20800000,
          20600000,
          20200000,
          20200000,
          20200000,
          19700000,
          19100000,
          18800000,
          18400000,
          17900000,
          17600000,
          17100000,
          17100000,
          17000000,
          16900000,
          16500000,
          16400000,
          16200000,
          15400000,
          15200000,
          15100000,
          15000000,
          14700000,
          14700000,
          14600000,
          14500000,
          14400000,
          14400000,
          14300000,
          14200000,
          13700000,
          13700000,
          13700000,
          13500000,
          13400000,
          13300000,
          13000000,
          13000000,
          12800000,
          12800000,
          12700000,
          12500000,
          12400000,
          12400000,
          12400000,
          12300000
         ],
         "xaxis": "x",
         "y": [
          4274709210,
          8670473639,
          3294013141,
          16402066717,
          11405809704,
          17111726160,
          3145161634,
          15199330166,
          4457913639,
          11627437847,
          4079141673,
          19466238065,
          6570935979,
          10317306313,
          27006526665,
          10435474336,
          34300482066,
          10999000479,
          12916159065,
          13943030228,
          9223534599,
          15552070846,
          1573058816,
          1870608170,
          7657171980,
          2764127969,
          20919403720,
          19694265358,
          1803249241,
          4566120190,
          3276891538,
          7038827526,
          5244917119,
          2274007523,
          4448334716,
          2173106162,
          1001465469,
          9270331567,
          3037260680,
          4434679706,
          2990185467,
          1781226000,
          4503880875,
          9477021288,
          13562853889,
          6751985988,
          7255848125,
          5525773746,
          3517662420,
          3086254545,
          3900312631,
          6388439235,
          10238593147,
          1967930734,
          9596430464,
          5457203710,
          11717217293,
          3363634923,
          7406628736,
          1024467771,
          4637474071,
          5863456698,
          9502983550,
          4266957149,
          4465772496,
          7597013023,
          2602614088,
          16086808918,
          2129773714
         ],
         "yaxis": "y"
        },
        {
         "customdata": [
          [
           "India"
          ],
          [
           "India"
          ]
         ],
         "hovertemplate": "<b>%{hovertext}</b><br><br>category=Trailers<br>subscribers=%{x}<br>video views=%{y}<br>video_views_for_the_last_30_days=%{marker.size}<br>Country=%{customdata[0]}<extra></extra>",
         "hovertext": [
          "Ishtar Music",
          "Ultra Bollywood"
         ],
         "legendgroup": "Trailers",
         "marker": {
          "color": "#EF553B",
          "size": [
           180942000,
           131462000
          ],
          "sizemode": "area",
          "sizeref": 4118125,
          "symbol": "circle"
         },
         "mode": "markers",
         "name": "Trailers",
         "orientation": "v",
         "showlegend": true,
         "type": "scatter",
         "x": [
          41400000,
          36600000
         ],
         "xaxis": "x",
         "y": [
          17608931161,
          15653786446
         ],
         "yaxis": "y"
        },
        {
         "customdata": [
          [
           "United States"
          ],
          [
           "Brazil"
          ]
         ],
         "hovertemplate": "<b>%{hovertext}</b><br><br>category=Nonprofits & Activism<br>subscribers=%{x}<br>video views=%{y}<br>video_views_for_the_last_30_days=%{marker.size}<br>Country=%{customdata[0]}<extra></extra>",
         "hovertext": [
          "TEDx Talks",
          "Bispo Bruno Leonardo"
         ],
         "legendgroup": "Nonprofits & Activism",
         "marker": {
          "color": "#00cc96",
          "size": [
           45638000,
           149543000
          ],
          "sizemode": "area",
          "sizeref": 4118125,
          "symbol": "circle"
         },
         "mode": "markers",
         "name": "Nonprofits & Activism",
         "orientation": "v",
         "showlegend": true,
         "type": "scatter",
         "x": [
          38600000,
          16900000
         ],
         "xaxis": "x",
         "y": [
          7339333120,
          3523578665
         ],
         "yaxis": "y"
        },
        {
         "customdata": [
          [
           "India"
          ],
          [
           "United States"
          ],
          [
           "United States"
          ],
          [
           "India"
          ],
          [
           "United States"
          ],
          [
           "Germany"
          ],
          [
           "United States"
          ],
          [
           "United States"
          ],
          [
           "United States"
          ],
          [
           "United States"
          ],
          [
           "Canada"
          ],
          [
           "United States"
          ],
          [
           "United Kingdom"
          ],
          [
           "Canada"
          ],
          [
           "India"
          ],
          [
           "India"
          ],
          [
           "Pakistan"
          ]
         ],
         "hovertemplate": "<b>%{hovertext}</b><br><br>category=Science & Technology<br>subscribers=%{x}<br>video views=%{y}<br>video_views_for_the_last_30_days=%{marker.size}<br>Country=%{customdata[0]}<extra></extra>",
         "hovertext": [
          "MR. INDIAN HACKER",
          "Mark Rober",
          "Happy Lives",
          "Technical Guruji",
          "National Geographic",
          "HaerteTest",
          "Vsauce",
          "Unbox Therapy",
          "Apple",
          "Marques Brownlee",
          "Linus Tech Tips",
          "Mr DegrEE",
          "Mrwhosetheboss",
          "Hacksmith Industries",
          "Trakin Tech",
          "Technology Gyan",
          "Quantum Tech HD"
         ],
         "legendgroup": "Science & Technology",
         "marker": {
          "color": "#ab63fa",
          "size": [
           109125000,
           88625000,
           6589000000,
           22262000,
           45812000,
           5650000,
           69614000,
           16718000,
           46484000,
           52325000,
           88224000,
           175610284.7944622,
           167697000,
           83943000,
           43669000,
           18518000,
           8721
          ],
          "sizemode": "area",
          "sizeref": 4118125,
          "symbol": "circle"
         },
         "mode": "markers",
         "name": "Science & Technology",
         "orientation": "v",
         "showlegend": true,
         "type": "scatter",
         "x": [
          31700000,
          24600000,
          23200000,
          23000000,
          21800000,
          19800000,
          19300000,
          19300000,
          17300000,
          17200000,
          15600000,
          15500000,
          15400000,
          13800000,
          13300000,
          13200000,
          12500000
         ],
         "xaxis": "x",
         "y": [
          5711208484,
          3647987299,
          2634,
          3378047383,
          5614621131,
          3234880084,
          2897907132,
          4508184467,
          1026425106,
          3606912471,
          7172386509,
          12880388253,
          3736069980,
          1820559912,
          2262690743,
          1138262456,
          4340213066
         ],
         "yaxis": "y"
        },
        {
         "customdata": [
          [
           "India"
          ],
          [
           "India"
          ]
         ],
         "hovertemplate": "<b>%{hovertext}</b><br><br>category=Movies<br>subscribers=%{x}<br>video views=%{y}<br>video_views_for_the_last_30_days=%{marker.size}<br>Country=%{customdata[0]}<extra></extra>",
         "hovertext": [
          "Aditya Movies",
          "Ultra Movie Parlour"
         ],
         "legendgroup": "Movies",
         "marker": {
          "color": "#FFA15A",
          "size": [
           227355000,
           118846000
          ],
          "sizemode": "area",
          "sizeref": 4118125,
          "symbol": "circle"
         },
         "mode": "markers",
         "name": "Movies",
         "orientation": "v",
         "showlegend": true,
         "type": "scatter",
         "x": [
          28400000,
          22900000
         ],
         "xaxis": "x",
         "y": [
          10062770060,
          5320485069
         ],
         "yaxis": "y"
        },
        {
         "customdata": [
          [
           "United States"
          ],
          [
           "United States"
          ],
          [
           "United States"
          ],
          [
           "United Kingdom"
          ]
         ],
         "hovertemplate": "<b>%{hovertext}</b><br><br>category=Pets & Animals<br>subscribers=%{x}<br>video views=%{y}<br>video_views_for_the_last_30_days=%{marker.size}<br>Country=%{customdata[0]}<extra></extra>",
         "hovertext": [
          "That Little Puff",
          "Brave Wilderness",
          "The Dodo",
          "BBC"
         ],
         "legendgroup": "Pets & Animals",
         "marker": {
          "color": "#19d3f3",
          "size": [
           755054000,
           2989000,
           7208,
           44414000
          ],
          "sizemode": "area",
          "sizeref": 4118125,
          "symbol": "circle"
         },
         "mode": "markers",
         "name": "Pets & Animals",
         "orientation": "v",
         "showlegend": true,
         "type": "scatter",
         "x": [
          23700000,
          20900000,
          14200000,
          13600000
         ],
         "xaxis": "x",
         "y": [
          20289689389,
          4927879069,
          9964116817,
          9685060624
         ],
         "yaxis": "y"
        },
        {
         "customdata": [
          [
           "Brazil"
          ],
          [
           "United Arab Emirates"
          ]
         ],
         "hovertemplate": "<b>%{hovertext}</b><br><br>category=Autos & Vehicles<br>subscribers=%{x}<br>video views=%{y}<br>video_views_for_the_last_30_days=%{marker.size}<br>Country=%{customdata[0]}<extra></extra>",
         "hovertext": [
          "DUDU e CAROL",
          "Supercar Blondie"
         ],
         "legendgroup": "Autos & Vehicles",
         "marker": {
          "color": "#FF6692",
          "size": [
           193174000,
           353259000
          ],
          "sizemode": "area",
          "sizeref": 4118125,
          "symbol": "circle"
         },
         "mode": "markers",
         "name": "Autos & Vehicles",
         "orientation": "v",
         "showlegend": true,
         "type": "scatter",
         "x": [
          21600000,
          14100000
         ],
         "xaxis": "x",
         "y": [
          9597894786,
          5405563355
         ],
         "yaxis": "y"
        },
        {
         "customdata": [
          [
           "Mexico"
          ]
         ],
         "hovertemplate": "<b>%{hovertext}</b><br><br>category=Travel & Events<br>subscribers=%{x}<br>video views=%{y}<br>video_views_for_the_last_30_days=%{marker.size}<br>Country=%{customdata[0]}<extra></extra>",
         "hovertext": [
          "Mï¿½ï¿½ï¿½ï¿½"
         ],
         "legendgroup": "Travel & Events",
         "marker": {
          "color": "#B6E880",
          "size": [
           31007000
          ],
          "sizemode": "area",
          "sizeref": 4118125,
          "symbol": "circle"
         },
         "mode": "markers",
         "name": "Travel & Events",
         "orientation": "v",
         "showlegend": true,
         "type": "scatter",
         "x": [
          12500000
         ],
         "xaxis": "x",
         "y": [
          3140883140
         ],
         "yaxis": "y"
        }
       ],
       "layout": {
        "legend": {
         "itemsizing": "constant",
         "title": {
          "text": "category"
         },
         "tracegroupgap": 0
        },
        "margin": {
         "t": 60
        },
        "template": {
         "data": {
          "bar": [
           {
            "error_x": {
             "color": "#2a3f5f"
            },
            "error_y": {
             "color": "#2a3f5f"
            },
            "marker": {
             "line": {
              "color": "#E5ECF6",
              "width": 0.5
             },
             "pattern": {
              "fillmode": "overlay",
              "size": 10,
              "solidity": 0.2
             }
            },
            "type": "bar"
           }
          ],
          "barpolar": [
           {
            "marker": {
             "line": {
              "color": "#E5ECF6",
              "width": 0.5
             },
             "pattern": {
              "fillmode": "overlay",
              "size": 10,
              "solidity": 0.2
             }
            },
            "type": "barpolar"
           }
          ],
          "carpet": [
           {
            "aaxis": {
             "endlinecolor": "#2a3f5f",
             "gridcolor": "white",
             "linecolor": "white",
             "minorgridcolor": "white",
             "startlinecolor": "#2a3f5f"
            },
            "baxis": {
             "endlinecolor": "#2a3f5f",
             "gridcolor": "white",
             "linecolor": "white",
             "minorgridcolor": "white",
             "startlinecolor": "#2a3f5f"
            },
            "type": "carpet"
           }
          ],
          "choropleth": [
           {
            "colorbar": {
             "outlinewidth": 0,
             "ticks": ""
            },
            "type": "choropleth"
           }
          ],
          "contour": [
           {
            "colorbar": {
             "outlinewidth": 0,
             "ticks": ""
            },
            "colorscale": [
             [
              0,
              "#0d0887"
             ],
             [
              0.1111111111111111,
              "#46039f"
             ],
             [
              0.2222222222222222,
              "#7201a8"
             ],
             [
              0.3333333333333333,
              "#9c179e"
             ],
             [
              0.4444444444444444,
              "#bd3786"
             ],
             [
              0.5555555555555556,
              "#d8576b"
             ],
             [
              0.6666666666666666,
              "#ed7953"
             ],
             [
              0.7777777777777778,
              "#fb9f3a"
             ],
             [
              0.8888888888888888,
              "#fdca26"
             ],
             [
              1,
              "#f0f921"
             ]
            ],
            "type": "contour"
           }
          ],
          "contourcarpet": [
           {
            "colorbar": {
             "outlinewidth": 0,
             "ticks": ""
            },
            "type": "contourcarpet"
           }
          ],
          "heatmap": [
           {
            "colorbar": {
             "outlinewidth": 0,
             "ticks": ""
            },
            "colorscale": [
             [
              0,
              "#0d0887"
             ],
             [
              0.1111111111111111,
              "#46039f"
             ],
             [
              0.2222222222222222,
              "#7201a8"
             ],
             [
              0.3333333333333333,
              "#9c179e"
             ],
             [
              0.4444444444444444,
              "#bd3786"
             ],
             [
              0.5555555555555556,
              "#d8576b"
             ],
             [
              0.6666666666666666,
              "#ed7953"
             ],
             [
              0.7777777777777778,
              "#fb9f3a"
             ],
             [
              0.8888888888888888,
              "#fdca26"
             ],
             [
              1,
              "#f0f921"
             ]
            ],
            "type": "heatmap"
           }
          ],
          "heatmapgl": [
           {
            "colorbar": {
             "outlinewidth": 0,
             "ticks": ""
            },
            "colorscale": [
             [
              0,
              "#0d0887"
             ],
             [
              0.1111111111111111,
              "#46039f"
             ],
             [
              0.2222222222222222,
              "#7201a8"
             ],
             [
              0.3333333333333333,
              "#9c179e"
             ],
             [
              0.4444444444444444,
              "#bd3786"
             ],
             [
              0.5555555555555556,
              "#d8576b"
             ],
             [
              0.6666666666666666,
              "#ed7953"
             ],
             [
              0.7777777777777778,
              "#fb9f3a"
             ],
             [
              0.8888888888888888,
              "#fdca26"
             ],
             [
              1,
              "#f0f921"
             ]
            ],
            "type": "heatmapgl"
           }
          ],
          "histogram": [
           {
            "marker": {
             "pattern": {
              "fillmode": "overlay",
              "size": 10,
              "solidity": 0.2
             }
            },
            "type": "histogram"
           }
          ],
          "histogram2d": [
           {
            "colorbar": {
             "outlinewidth": 0,
             "ticks": ""
            },
            "colorscale": [
             [
              0,
              "#0d0887"
             ],
             [
              0.1111111111111111,
              "#46039f"
             ],
             [
              0.2222222222222222,
              "#7201a8"
             ],
             [
              0.3333333333333333,
              "#9c179e"
             ],
             [
              0.4444444444444444,
              "#bd3786"
             ],
             [
              0.5555555555555556,
              "#d8576b"
             ],
             [
              0.6666666666666666,
              "#ed7953"
             ],
             [
              0.7777777777777778,
              "#fb9f3a"
             ],
             [
              0.8888888888888888,
              "#fdca26"
             ],
             [
              1,
              "#f0f921"
             ]
            ],
            "type": "histogram2d"
           }
          ],
          "histogram2dcontour": [
           {
            "colorbar": {
             "outlinewidth": 0,
             "ticks": ""
            },
            "colorscale": [
             [
              0,
              "#0d0887"
             ],
             [
              0.1111111111111111,
              "#46039f"
             ],
             [
              0.2222222222222222,
              "#7201a8"
             ],
             [
              0.3333333333333333,
              "#9c179e"
             ],
             [
              0.4444444444444444,
              "#bd3786"
             ],
             [
              0.5555555555555556,
              "#d8576b"
             ],
             [
              0.6666666666666666,
              "#ed7953"
             ],
             [
              0.7777777777777778,
              "#fb9f3a"
             ],
             [
              0.8888888888888888,
              "#fdca26"
             ],
             [
              1,
              "#f0f921"
             ]
            ],
            "type": "histogram2dcontour"
           }
          ],
          "mesh3d": [
           {
            "colorbar": {
             "outlinewidth": 0,
             "ticks": ""
            },
            "type": "mesh3d"
           }
          ],
          "parcoords": [
           {
            "line": {
             "colorbar": {
              "outlinewidth": 0,
              "ticks": ""
             }
            },
            "type": "parcoords"
           }
          ],
          "pie": [
           {
            "automargin": true,
            "type": "pie"
           }
          ],
          "scatter": [
           {
            "fillpattern": {
             "fillmode": "overlay",
             "size": 10,
             "solidity": 0.2
            },
            "type": "scatter"
           }
          ],
          "scatter3d": [
           {
            "line": {
             "colorbar": {
              "outlinewidth": 0,
              "ticks": ""
             }
            },
            "marker": {
             "colorbar": {
              "outlinewidth": 0,
              "ticks": ""
             }
            },
            "type": "scatter3d"
           }
          ],
          "scattercarpet": [
           {
            "marker": {
             "colorbar": {
              "outlinewidth": 0,
              "ticks": ""
             }
            },
            "type": "scattercarpet"
           }
          ],
          "scattergeo": [
           {
            "marker": {
             "colorbar": {
              "outlinewidth": 0,
              "ticks": ""
             }
            },
            "type": "scattergeo"
           }
          ],
          "scattergl": [
           {
            "marker": {
             "colorbar": {
              "outlinewidth": 0,
              "ticks": ""
             }
            },
            "type": "scattergl"
           }
          ],
          "scattermapbox": [
           {
            "marker": {
             "colorbar": {
              "outlinewidth": 0,
              "ticks": ""
             }
            },
            "type": "scattermapbox"
           }
          ],
          "scatterpolar": [
           {
            "marker": {
             "colorbar": {
              "outlinewidth": 0,
              "ticks": ""
             }
            },
            "type": "scatterpolar"
           }
          ],
          "scatterpolargl": [
           {
            "marker": {
             "colorbar": {
              "outlinewidth": 0,
              "ticks": ""
             }
            },
            "type": "scatterpolargl"
           }
          ],
          "scatterternary": [
           {
            "marker": {
             "colorbar": {
              "outlinewidth": 0,
              "ticks": ""
             }
            },
            "type": "scatterternary"
           }
          ],
          "surface": [
           {
            "colorbar": {
             "outlinewidth": 0,
             "ticks": ""
            },
            "colorscale": [
             [
              0,
              "#0d0887"
             ],
             [
              0.1111111111111111,
              "#46039f"
             ],
             [
              0.2222222222222222,
              "#7201a8"
             ],
             [
              0.3333333333333333,
              "#9c179e"
             ],
             [
              0.4444444444444444,
              "#bd3786"
             ],
             [
              0.5555555555555556,
              "#d8576b"
             ],
             [
              0.6666666666666666,
              "#ed7953"
             ],
             [
              0.7777777777777778,
              "#fb9f3a"
             ],
             [
              0.8888888888888888,
              "#fdca26"
             ],
             [
              1,
              "#f0f921"
             ]
            ],
            "type": "surface"
           }
          ],
          "table": [
           {
            "cells": {
             "fill": {
              "color": "#EBF0F8"
             },
             "line": {
              "color": "white"
             }
            },
            "header": {
             "fill": {
              "color": "#C8D4E3"
             },
             "line": {
              "color": "white"
             }
            },
            "type": "table"
           }
          ]
         },
         "layout": {
          "annotationdefaults": {
           "arrowcolor": "#2a3f5f",
           "arrowhead": 0,
           "arrowwidth": 1
          },
          "autotypenumbers": "strict",
          "coloraxis": {
           "colorbar": {
            "outlinewidth": 0,
            "ticks": ""
           }
          },
          "colorscale": {
           "diverging": [
            [
             0,
             "#8e0152"
            ],
            [
             0.1,
             "#c51b7d"
            ],
            [
             0.2,
             "#de77ae"
            ],
            [
             0.3,
             "#f1b6da"
            ],
            [
             0.4,
             "#fde0ef"
            ],
            [
             0.5,
             "#f7f7f7"
            ],
            [
             0.6,
             "#e6f5d0"
            ],
            [
             0.7,
             "#b8e186"
            ],
            [
             0.8,
             "#7fbc41"
            ],
            [
             0.9,
             "#4d9221"
            ],
            [
             1,
             "#276419"
            ]
           ],
           "sequential": [
            [
             0,
             "#0d0887"
            ],
            [
             0.1111111111111111,
             "#46039f"
            ],
            [
             0.2222222222222222,
             "#7201a8"
            ],
            [
             0.3333333333333333,
             "#9c179e"
            ],
            [
             0.4444444444444444,
             "#bd3786"
            ],
            [
             0.5555555555555556,
             "#d8576b"
            ],
            [
             0.6666666666666666,
             "#ed7953"
            ],
            [
             0.7777777777777778,
             "#fb9f3a"
            ],
            [
             0.8888888888888888,
             "#fdca26"
            ],
            [
             1,
             "#f0f921"
            ]
           ],
           "sequentialminus": [
            [
             0,
             "#0d0887"
            ],
            [
             0.1111111111111111,
             "#46039f"
            ],
            [
             0.2222222222222222,
             "#7201a8"
            ],
            [
             0.3333333333333333,
             "#9c179e"
            ],
            [
             0.4444444444444444,
             "#bd3786"
            ],
            [
             0.5555555555555556,
             "#d8576b"
            ],
            [
             0.6666666666666666,
             "#ed7953"
            ],
            [
             0.7777777777777778,
             "#fb9f3a"
            ],
            [
             0.8888888888888888,
             "#fdca26"
            ],
            [
             1,
             "#f0f921"
            ]
           ]
          },
          "colorway": [
           "#636efa",
           "#EF553B",
           "#00cc96",
           "#ab63fa",
           "#FFA15A",
           "#19d3f3",
           "#FF6692",
           "#B6E880",
           "#FF97FF",
           "#FECB52"
          ],
          "font": {
           "color": "#2a3f5f"
          },
          "geo": {
           "bgcolor": "white",
           "lakecolor": "white",
           "landcolor": "#E5ECF6",
           "showlakes": true,
           "showland": true,
           "subunitcolor": "white"
          },
          "hoverlabel": {
           "align": "left"
          },
          "hovermode": "closest",
          "mapbox": {
           "style": "light"
          },
          "paper_bgcolor": "white",
          "plot_bgcolor": "#E5ECF6",
          "polar": {
           "angularaxis": {
            "gridcolor": "white",
            "linecolor": "white",
            "ticks": ""
           },
           "bgcolor": "#E5ECF6",
           "radialaxis": {
            "gridcolor": "white",
            "linecolor": "white",
            "ticks": ""
           }
          },
          "scene": {
           "xaxis": {
            "backgroundcolor": "#E5ECF6",
            "gridcolor": "white",
            "gridwidth": 2,
            "linecolor": "white",
            "showbackground": true,
            "ticks": "",
            "zerolinecolor": "white"
           },
           "yaxis": {
            "backgroundcolor": "#E5ECF6",
            "gridcolor": "white",
            "gridwidth": 2,
            "linecolor": "white",
            "showbackground": true,
            "ticks": "",
            "zerolinecolor": "white"
           },
           "zaxis": {
            "backgroundcolor": "#E5ECF6",
            "gridcolor": "white",
            "gridwidth": 2,
            "linecolor": "white",
            "showbackground": true,
            "ticks": "",
            "zerolinecolor": "white"
           }
          },
          "shapedefaults": {
           "line": {
            "color": "#2a3f5f"
           }
          },
          "ternary": {
           "aaxis": {
            "gridcolor": "white",
            "linecolor": "white",
            "ticks": ""
           },
           "baxis": {
            "gridcolor": "white",
            "linecolor": "white",
            "ticks": ""
           },
           "bgcolor": "#E5ECF6",
           "caxis": {
            "gridcolor": "white",
            "linecolor": "white",
            "ticks": ""
           }
          },
          "title": {
           "x": 0.05
          },
          "xaxis": {
           "automargin": true,
           "gridcolor": "white",
           "linecolor": "white",
           "ticks": "",
           "title": {
            "standoff": 15
           },
           "zerolinecolor": "white",
           "zerolinewidth": 2
          },
          "yaxis": {
           "automargin": true,
           "gridcolor": "white",
           "linecolor": "white",
           "ticks": "",
           "title": {
            "standoff": 15
           },
           "zerolinecolor": "white",
           "zerolinewidth": 2
          }
         }
        },
        "title": {
         "text": "Subscribers Vs Video Views"
        },
        "xaxis": {
         "anchor": "y",
         "domain": [
          0,
          1
         ],
         "title": {
          "text": "subscribers"
         },
         "type": "log"
        },
        "yaxis": {
         "anchor": "x",
         "domain": [
          0,
          1
         ],
         "title": {
          "text": "video views"
         },
         "type": "log"
        }
       }
      }
     },
     "metadata": {},
     "output_type": "display_data"
    }
   ],
   "source": [
    "fig = px.scatter(df , x = 'subscribers' , y = 'video views' , size = 'video_views_for_the_last_30_days' , color = 'category' , \n",
    "                  hover_name = 'Youtuber' , hover_data = ['Country'] , size_max = 40 , labels = dict(x = 'Subscribers (in Billions)' , y = 'Video Views (in Billions)') )\n",
    "\n",
    "fig.update_layout(title_text = \"Subscribers Vs Video Views\" , xaxis_type = 'log' , yaxis_type = \"log\")\n",
    "\n",
    "fig.show()"
   ]
  },
  {
   "cell_type": "markdown",
   "metadata": {},
   "source": [
    "TOP 10 HIGHEST MONTHLY EARNING YOUTUBERS "
   ]
  },
  {
   "cell_type": "code",
   "execution_count": 13,
   "metadata": {},
   "outputs": [
    {
     "data": {
      "application/vnd.plotly.v1+json": {
       "config": {
        "plotlyServerURL": "https://plot.ly"
       },
       "data": [
        {
         "alignmentgroup": "True",
         "hovertemplate": "Youtuber=%{x}<br>Monthly Earning=%{y}<br>text=%{text}<extra></extra>",
         "legendgroup": "",
         "marker": {
          "color": "#636efa",
          "pattern": {
           "shape": ""
          }
         },
         "name": "",
         "offsetgroup": "",
         "orientation": "v",
         "showlegend": false,
         "text": [
          13600000,
          9200000,
          9000000,
          8100000,
          7900000,
          7300000,
          6800000,
          6700000,
          6600000,
          6500000
         ],
         "textposition": "auto",
         "type": "bar",
         "x": [
          "ýýýýýýýýý KIMPRO",
          "DaFuq!?Boom!",
          "T-Series",
          "KL BRO Biju Rithvik",
          "Cocomelon - Nursery Rhymes",
          "SET India",
          "Zee TV",
          "StarPlus",
          "Sony SAB",
          "GR6 EXPLODE"
         ],
         "xaxis": "x",
         "y": [
          13600000,
          9200000,
          9000000,
          8100000,
          7900000,
          7300000,
          6800000,
          6700000,
          6600000,
          6500000
         ],
         "yaxis": "y"
        }
       ],
       "layout": {
        "barmode": "relative",
        "legend": {
         "tracegroupgap": 0
        },
        "template": {
         "data": {
          "bar": [
           {
            "error_x": {
             "color": "#2a3f5f"
            },
            "error_y": {
             "color": "#2a3f5f"
            },
            "marker": {
             "line": {
              "color": "#E5ECF6",
              "width": 0.5
             },
             "pattern": {
              "fillmode": "overlay",
              "size": 10,
              "solidity": 0.2
             }
            },
            "type": "bar"
           }
          ],
          "barpolar": [
           {
            "marker": {
             "line": {
              "color": "#E5ECF6",
              "width": 0.5
             },
             "pattern": {
              "fillmode": "overlay",
              "size": 10,
              "solidity": 0.2
             }
            },
            "type": "barpolar"
           }
          ],
          "carpet": [
           {
            "aaxis": {
             "endlinecolor": "#2a3f5f",
             "gridcolor": "white",
             "linecolor": "white",
             "minorgridcolor": "white",
             "startlinecolor": "#2a3f5f"
            },
            "baxis": {
             "endlinecolor": "#2a3f5f",
             "gridcolor": "white",
             "linecolor": "white",
             "minorgridcolor": "white",
             "startlinecolor": "#2a3f5f"
            },
            "type": "carpet"
           }
          ],
          "choropleth": [
           {
            "colorbar": {
             "outlinewidth": 0,
             "ticks": ""
            },
            "type": "choropleth"
           }
          ],
          "contour": [
           {
            "colorbar": {
             "outlinewidth": 0,
             "ticks": ""
            },
            "colorscale": [
             [
              0,
              "#0d0887"
             ],
             [
              0.1111111111111111,
              "#46039f"
             ],
             [
              0.2222222222222222,
              "#7201a8"
             ],
             [
              0.3333333333333333,
              "#9c179e"
             ],
             [
              0.4444444444444444,
              "#bd3786"
             ],
             [
              0.5555555555555556,
              "#d8576b"
             ],
             [
              0.6666666666666666,
              "#ed7953"
             ],
             [
              0.7777777777777778,
              "#fb9f3a"
             ],
             [
              0.8888888888888888,
              "#fdca26"
             ],
             [
              1,
              "#f0f921"
             ]
            ],
            "type": "contour"
           }
          ],
          "contourcarpet": [
           {
            "colorbar": {
             "outlinewidth": 0,
             "ticks": ""
            },
            "type": "contourcarpet"
           }
          ],
          "heatmap": [
           {
            "colorbar": {
             "outlinewidth": 0,
             "ticks": ""
            },
            "colorscale": [
             [
              0,
              "#0d0887"
             ],
             [
              0.1111111111111111,
              "#46039f"
             ],
             [
              0.2222222222222222,
              "#7201a8"
             ],
             [
              0.3333333333333333,
              "#9c179e"
             ],
             [
              0.4444444444444444,
              "#bd3786"
             ],
             [
              0.5555555555555556,
              "#d8576b"
             ],
             [
              0.6666666666666666,
              "#ed7953"
             ],
             [
              0.7777777777777778,
              "#fb9f3a"
             ],
             [
              0.8888888888888888,
              "#fdca26"
             ],
             [
              1,
              "#f0f921"
             ]
            ],
            "type": "heatmap"
           }
          ],
          "heatmapgl": [
           {
            "colorbar": {
             "outlinewidth": 0,
             "ticks": ""
            },
            "colorscale": [
             [
              0,
              "#0d0887"
             ],
             [
              0.1111111111111111,
              "#46039f"
             ],
             [
              0.2222222222222222,
              "#7201a8"
             ],
             [
              0.3333333333333333,
              "#9c179e"
             ],
             [
              0.4444444444444444,
              "#bd3786"
             ],
             [
              0.5555555555555556,
              "#d8576b"
             ],
             [
              0.6666666666666666,
              "#ed7953"
             ],
             [
              0.7777777777777778,
              "#fb9f3a"
             ],
             [
              0.8888888888888888,
              "#fdca26"
             ],
             [
              1,
              "#f0f921"
             ]
            ],
            "type": "heatmapgl"
           }
          ],
          "histogram": [
           {
            "marker": {
             "pattern": {
              "fillmode": "overlay",
              "size": 10,
              "solidity": 0.2
             }
            },
            "type": "histogram"
           }
          ],
          "histogram2d": [
           {
            "colorbar": {
             "outlinewidth": 0,
             "ticks": ""
            },
            "colorscale": [
             [
              0,
              "#0d0887"
             ],
             [
              0.1111111111111111,
              "#46039f"
             ],
             [
              0.2222222222222222,
              "#7201a8"
             ],
             [
              0.3333333333333333,
              "#9c179e"
             ],
             [
              0.4444444444444444,
              "#bd3786"
             ],
             [
              0.5555555555555556,
              "#d8576b"
             ],
             [
              0.6666666666666666,
              "#ed7953"
             ],
             [
              0.7777777777777778,
              "#fb9f3a"
             ],
             [
              0.8888888888888888,
              "#fdca26"
             ],
             [
              1,
              "#f0f921"
             ]
            ],
            "type": "histogram2d"
           }
          ],
          "histogram2dcontour": [
           {
            "colorbar": {
             "outlinewidth": 0,
             "ticks": ""
            },
            "colorscale": [
             [
              0,
              "#0d0887"
             ],
             [
              0.1111111111111111,
              "#46039f"
             ],
             [
              0.2222222222222222,
              "#7201a8"
             ],
             [
              0.3333333333333333,
              "#9c179e"
             ],
             [
              0.4444444444444444,
              "#bd3786"
             ],
             [
              0.5555555555555556,
              "#d8576b"
             ],
             [
              0.6666666666666666,
              "#ed7953"
             ],
             [
              0.7777777777777778,
              "#fb9f3a"
             ],
             [
              0.8888888888888888,
              "#fdca26"
             ],
             [
              1,
              "#f0f921"
             ]
            ],
            "type": "histogram2dcontour"
           }
          ],
          "mesh3d": [
           {
            "colorbar": {
             "outlinewidth": 0,
             "ticks": ""
            },
            "type": "mesh3d"
           }
          ],
          "parcoords": [
           {
            "line": {
             "colorbar": {
              "outlinewidth": 0,
              "ticks": ""
             }
            },
            "type": "parcoords"
           }
          ],
          "pie": [
           {
            "automargin": true,
            "type": "pie"
           }
          ],
          "scatter": [
           {
            "fillpattern": {
             "fillmode": "overlay",
             "size": 10,
             "solidity": 0.2
            },
            "type": "scatter"
           }
          ],
          "scatter3d": [
           {
            "line": {
             "colorbar": {
              "outlinewidth": 0,
              "ticks": ""
             }
            },
            "marker": {
             "colorbar": {
              "outlinewidth": 0,
              "ticks": ""
             }
            },
            "type": "scatter3d"
           }
          ],
          "scattercarpet": [
           {
            "marker": {
             "colorbar": {
              "outlinewidth": 0,
              "ticks": ""
             }
            },
            "type": "scattercarpet"
           }
          ],
          "scattergeo": [
           {
            "marker": {
             "colorbar": {
              "outlinewidth": 0,
              "ticks": ""
             }
            },
            "type": "scattergeo"
           }
          ],
          "scattergl": [
           {
            "marker": {
             "colorbar": {
              "outlinewidth": 0,
              "ticks": ""
             }
            },
            "type": "scattergl"
           }
          ],
          "scattermapbox": [
           {
            "marker": {
             "colorbar": {
              "outlinewidth": 0,
              "ticks": ""
             }
            },
            "type": "scattermapbox"
           }
          ],
          "scatterpolar": [
           {
            "marker": {
             "colorbar": {
              "outlinewidth": 0,
              "ticks": ""
             }
            },
            "type": "scatterpolar"
           }
          ],
          "scatterpolargl": [
           {
            "marker": {
             "colorbar": {
              "outlinewidth": 0,
              "ticks": ""
             }
            },
            "type": "scatterpolargl"
           }
          ],
          "scatterternary": [
           {
            "marker": {
             "colorbar": {
              "outlinewidth": 0,
              "ticks": ""
             }
            },
            "type": "scatterternary"
           }
          ],
          "surface": [
           {
            "colorbar": {
             "outlinewidth": 0,
             "ticks": ""
            },
            "colorscale": [
             [
              0,
              "#0d0887"
             ],
             [
              0.1111111111111111,
              "#46039f"
             ],
             [
              0.2222222222222222,
              "#7201a8"
             ],
             [
              0.3333333333333333,
              "#9c179e"
             ],
             [
              0.4444444444444444,
              "#bd3786"
             ],
             [
              0.5555555555555556,
              "#d8576b"
             ],
             [
              0.6666666666666666,
              "#ed7953"
             ],
             [
              0.7777777777777778,
              "#fb9f3a"
             ],
             [
              0.8888888888888888,
              "#fdca26"
             ],
             [
              1,
              "#f0f921"
             ]
            ],
            "type": "surface"
           }
          ],
          "table": [
           {
            "cells": {
             "fill": {
              "color": "#EBF0F8"
             },
             "line": {
              "color": "white"
             }
            },
            "header": {
             "fill": {
              "color": "#C8D4E3"
             },
             "line": {
              "color": "white"
             }
            },
            "type": "table"
           }
          ]
         },
         "layout": {
          "annotationdefaults": {
           "arrowcolor": "#2a3f5f",
           "arrowhead": 0,
           "arrowwidth": 1
          },
          "autotypenumbers": "strict",
          "coloraxis": {
           "colorbar": {
            "outlinewidth": 0,
            "ticks": ""
           }
          },
          "colorscale": {
           "diverging": [
            [
             0,
             "#8e0152"
            ],
            [
             0.1,
             "#c51b7d"
            ],
            [
             0.2,
             "#de77ae"
            ],
            [
             0.3,
             "#f1b6da"
            ],
            [
             0.4,
             "#fde0ef"
            ],
            [
             0.5,
             "#f7f7f7"
            ],
            [
             0.6,
             "#e6f5d0"
            ],
            [
             0.7,
             "#b8e186"
            ],
            [
             0.8,
             "#7fbc41"
            ],
            [
             0.9,
             "#4d9221"
            ],
            [
             1,
             "#276419"
            ]
           ],
           "sequential": [
            [
             0,
             "#0d0887"
            ],
            [
             0.1111111111111111,
             "#46039f"
            ],
            [
             0.2222222222222222,
             "#7201a8"
            ],
            [
             0.3333333333333333,
             "#9c179e"
            ],
            [
             0.4444444444444444,
             "#bd3786"
            ],
            [
             0.5555555555555556,
             "#d8576b"
            ],
            [
             0.6666666666666666,
             "#ed7953"
            ],
            [
             0.7777777777777778,
             "#fb9f3a"
            ],
            [
             0.8888888888888888,
             "#fdca26"
            ],
            [
             1,
             "#f0f921"
            ]
           ],
           "sequentialminus": [
            [
             0,
             "#0d0887"
            ],
            [
             0.1111111111111111,
             "#46039f"
            ],
            [
             0.2222222222222222,
             "#7201a8"
            ],
            [
             0.3333333333333333,
             "#9c179e"
            ],
            [
             0.4444444444444444,
             "#bd3786"
            ],
            [
             0.5555555555555556,
             "#d8576b"
            ],
            [
             0.6666666666666666,
             "#ed7953"
            ],
            [
             0.7777777777777778,
             "#fb9f3a"
            ],
            [
             0.8888888888888888,
             "#fdca26"
            ],
            [
             1,
             "#f0f921"
            ]
           ]
          },
          "colorway": [
           "#636efa",
           "#EF553B",
           "#00cc96",
           "#ab63fa",
           "#FFA15A",
           "#19d3f3",
           "#FF6692",
           "#B6E880",
           "#FF97FF",
           "#FECB52"
          ],
          "font": {
           "color": "#2a3f5f"
          },
          "geo": {
           "bgcolor": "white",
           "lakecolor": "white",
           "landcolor": "#E5ECF6",
           "showlakes": true,
           "showland": true,
           "subunitcolor": "white"
          },
          "hoverlabel": {
           "align": "left"
          },
          "hovermode": "closest",
          "mapbox": {
           "style": "light"
          },
          "paper_bgcolor": "white",
          "plot_bgcolor": "#E5ECF6",
          "polar": {
           "angularaxis": {
            "gridcolor": "white",
            "linecolor": "white",
            "ticks": ""
           },
           "bgcolor": "#E5ECF6",
           "radialaxis": {
            "gridcolor": "white",
            "linecolor": "white",
            "ticks": ""
           }
          },
          "scene": {
           "xaxis": {
            "backgroundcolor": "#E5ECF6",
            "gridcolor": "white",
            "gridwidth": 2,
            "linecolor": "white",
            "showbackground": true,
            "ticks": "",
            "zerolinecolor": "white"
           },
           "yaxis": {
            "backgroundcolor": "#E5ECF6",
            "gridcolor": "white",
            "gridwidth": 2,
            "linecolor": "white",
            "showbackground": true,
            "ticks": "",
            "zerolinecolor": "white"
           },
           "zaxis": {
            "backgroundcolor": "#E5ECF6",
            "gridcolor": "white",
            "gridwidth": 2,
            "linecolor": "white",
            "showbackground": true,
            "ticks": "",
            "zerolinecolor": "white"
           }
          },
          "shapedefaults": {
           "line": {
            "color": "#2a3f5f"
           }
          },
          "ternary": {
           "aaxis": {
            "gridcolor": "white",
            "linecolor": "white",
            "ticks": ""
           },
           "baxis": {
            "gridcolor": "white",
            "linecolor": "white",
            "ticks": ""
           },
           "bgcolor": "#E5ECF6",
           "caxis": {
            "gridcolor": "white",
            "linecolor": "white",
            "ticks": ""
           }
          },
          "title": {
           "x": 0.05
          },
          "xaxis": {
           "automargin": true,
           "gridcolor": "white",
           "linecolor": "white",
           "ticks": "",
           "title": {
            "standoff": 15
           },
           "zerolinecolor": "white",
           "zerolinewidth": 2
          },
          "yaxis": {
           "automargin": true,
           "gridcolor": "white",
           "linecolor": "white",
           "ticks": "",
           "title": {
            "standoff": 15
           },
           "zerolinecolor": "white",
           "zerolinewidth": 2
          }
         }
        },
        "title": {
         "text": "Top 10 Highest Monthly Earning Youtubers"
        },
        "xaxis": {
         "anchor": "y",
         "domain": [
          0,
          1
         ],
         "title": {
          "text": "Youtuber"
         }
        },
        "yaxis": {
         "anchor": "x",
         "domain": [
          0,
          1
         ],
         "title": {
          "text": "Monthly Earning"
         }
        }
       }
      }
     },
     "metadata": {},
     "output_type": "display_data"
    }
   ],
   "source": [
    "sorted_df = df.sort_values(by = 'highest_monthly_earnings' , ascending = False)\n",
    "\n",
    "top_10_monthly_earn_yts = sorted_df.head(10)\n",
    "\n",
    "fig = px.bar(x = top_10_monthly_earn_yts['Youtuber'] , y = top_10_monthly_earn_yts['highest_monthly_earnings'] , title = \"Top 10 Highest Monthly Earning Youtubers\" , labels = dict(x = \"Youtuber\" , y = \"Monthly Earning\") , text = top_10_monthly_earn_yts['highest_monthly_earnings'])\n",
    "\n",
    "fig.show()"
   ]
  },
  {
   "cell_type": "markdown",
   "metadata": {},
   "source": [
    "TOTAL CHANNEL CREATED PER YEAR"
   ]
  },
  {
   "cell_type": "code",
   "execution_count": 14,
   "metadata": {},
   "outputs": [
    {
     "data": {
      "application/vnd.plotly.v1+json": {
       "config": {
        "plotlyServerURL": "https://plot.ly"
       },
       "data": [
        {
         "fill": "tozeroy",
         "line": {
          "color": "darkred"
         },
         "mode": "lines+markers",
         "type": "scatter",
         "x": [
          1970,
          2005,
          2006,
          2007,
          2008,
          2009,
          2010,
          2011,
          2012,
          2013,
          2014,
          2015,
          2016,
          2017,
          2018,
          2019,
          2020,
          2021,
          2022
         ],
         "y": [
          1,
          24,
          91,
          49,
          46,
          52,
          48,
          82,
          73,
          76,
          98,
          73,
          77,
          68,
          46,
          33,
          30,
          23,
          5
         ]
        }
       ],
       "layout": {
        "template": {
         "data": {
          "bar": [
           {
            "error_x": {
             "color": "#2a3f5f"
            },
            "error_y": {
             "color": "#2a3f5f"
            },
            "marker": {
             "line": {
              "color": "#E5ECF6",
              "width": 0.5
             },
             "pattern": {
              "fillmode": "overlay",
              "size": 10,
              "solidity": 0.2
             }
            },
            "type": "bar"
           }
          ],
          "barpolar": [
           {
            "marker": {
             "line": {
              "color": "#E5ECF6",
              "width": 0.5
             },
             "pattern": {
              "fillmode": "overlay",
              "size": 10,
              "solidity": 0.2
             }
            },
            "type": "barpolar"
           }
          ],
          "carpet": [
           {
            "aaxis": {
             "endlinecolor": "#2a3f5f",
             "gridcolor": "white",
             "linecolor": "white",
             "minorgridcolor": "white",
             "startlinecolor": "#2a3f5f"
            },
            "baxis": {
             "endlinecolor": "#2a3f5f",
             "gridcolor": "white",
             "linecolor": "white",
             "minorgridcolor": "white",
             "startlinecolor": "#2a3f5f"
            },
            "type": "carpet"
           }
          ],
          "choropleth": [
           {
            "colorbar": {
             "outlinewidth": 0,
             "ticks": ""
            },
            "type": "choropleth"
           }
          ],
          "contour": [
           {
            "colorbar": {
             "outlinewidth": 0,
             "ticks": ""
            },
            "colorscale": [
             [
              0,
              "#0d0887"
             ],
             [
              0.1111111111111111,
              "#46039f"
             ],
             [
              0.2222222222222222,
              "#7201a8"
             ],
             [
              0.3333333333333333,
              "#9c179e"
             ],
             [
              0.4444444444444444,
              "#bd3786"
             ],
             [
              0.5555555555555556,
              "#d8576b"
             ],
             [
              0.6666666666666666,
              "#ed7953"
             ],
             [
              0.7777777777777778,
              "#fb9f3a"
             ],
             [
              0.8888888888888888,
              "#fdca26"
             ],
             [
              1,
              "#f0f921"
             ]
            ],
            "type": "contour"
           }
          ],
          "contourcarpet": [
           {
            "colorbar": {
             "outlinewidth": 0,
             "ticks": ""
            },
            "type": "contourcarpet"
           }
          ],
          "heatmap": [
           {
            "colorbar": {
             "outlinewidth": 0,
             "ticks": ""
            },
            "colorscale": [
             [
              0,
              "#0d0887"
             ],
             [
              0.1111111111111111,
              "#46039f"
             ],
             [
              0.2222222222222222,
              "#7201a8"
             ],
             [
              0.3333333333333333,
              "#9c179e"
             ],
             [
              0.4444444444444444,
              "#bd3786"
             ],
             [
              0.5555555555555556,
              "#d8576b"
             ],
             [
              0.6666666666666666,
              "#ed7953"
             ],
             [
              0.7777777777777778,
              "#fb9f3a"
             ],
             [
              0.8888888888888888,
              "#fdca26"
             ],
             [
              1,
              "#f0f921"
             ]
            ],
            "type": "heatmap"
           }
          ],
          "heatmapgl": [
           {
            "colorbar": {
             "outlinewidth": 0,
             "ticks": ""
            },
            "colorscale": [
             [
              0,
              "#0d0887"
             ],
             [
              0.1111111111111111,
              "#46039f"
             ],
             [
              0.2222222222222222,
              "#7201a8"
             ],
             [
              0.3333333333333333,
              "#9c179e"
             ],
             [
              0.4444444444444444,
              "#bd3786"
             ],
             [
              0.5555555555555556,
              "#d8576b"
             ],
             [
              0.6666666666666666,
              "#ed7953"
             ],
             [
              0.7777777777777778,
              "#fb9f3a"
             ],
             [
              0.8888888888888888,
              "#fdca26"
             ],
             [
              1,
              "#f0f921"
             ]
            ],
            "type": "heatmapgl"
           }
          ],
          "histogram": [
           {
            "marker": {
             "pattern": {
              "fillmode": "overlay",
              "size": 10,
              "solidity": 0.2
             }
            },
            "type": "histogram"
           }
          ],
          "histogram2d": [
           {
            "colorbar": {
             "outlinewidth": 0,
             "ticks": ""
            },
            "colorscale": [
             [
              0,
              "#0d0887"
             ],
             [
              0.1111111111111111,
              "#46039f"
             ],
             [
              0.2222222222222222,
              "#7201a8"
             ],
             [
              0.3333333333333333,
              "#9c179e"
             ],
             [
              0.4444444444444444,
              "#bd3786"
             ],
             [
              0.5555555555555556,
              "#d8576b"
             ],
             [
              0.6666666666666666,
              "#ed7953"
             ],
             [
              0.7777777777777778,
              "#fb9f3a"
             ],
             [
              0.8888888888888888,
              "#fdca26"
             ],
             [
              1,
              "#f0f921"
             ]
            ],
            "type": "histogram2d"
           }
          ],
          "histogram2dcontour": [
           {
            "colorbar": {
             "outlinewidth": 0,
             "ticks": ""
            },
            "colorscale": [
             [
              0,
              "#0d0887"
             ],
             [
              0.1111111111111111,
              "#46039f"
             ],
             [
              0.2222222222222222,
              "#7201a8"
             ],
             [
              0.3333333333333333,
              "#9c179e"
             ],
             [
              0.4444444444444444,
              "#bd3786"
             ],
             [
              0.5555555555555556,
              "#d8576b"
             ],
             [
              0.6666666666666666,
              "#ed7953"
             ],
             [
              0.7777777777777778,
              "#fb9f3a"
             ],
             [
              0.8888888888888888,
              "#fdca26"
             ],
             [
              1,
              "#f0f921"
             ]
            ],
            "type": "histogram2dcontour"
           }
          ],
          "mesh3d": [
           {
            "colorbar": {
             "outlinewidth": 0,
             "ticks": ""
            },
            "type": "mesh3d"
           }
          ],
          "parcoords": [
           {
            "line": {
             "colorbar": {
              "outlinewidth": 0,
              "ticks": ""
             }
            },
            "type": "parcoords"
           }
          ],
          "pie": [
           {
            "automargin": true,
            "type": "pie"
           }
          ],
          "scatter": [
           {
            "fillpattern": {
             "fillmode": "overlay",
             "size": 10,
             "solidity": 0.2
            },
            "type": "scatter"
           }
          ],
          "scatter3d": [
           {
            "line": {
             "colorbar": {
              "outlinewidth": 0,
              "ticks": ""
             }
            },
            "marker": {
             "colorbar": {
              "outlinewidth": 0,
              "ticks": ""
             }
            },
            "type": "scatter3d"
           }
          ],
          "scattercarpet": [
           {
            "marker": {
             "colorbar": {
              "outlinewidth": 0,
              "ticks": ""
             }
            },
            "type": "scattercarpet"
           }
          ],
          "scattergeo": [
           {
            "marker": {
             "colorbar": {
              "outlinewidth": 0,
              "ticks": ""
             }
            },
            "type": "scattergeo"
           }
          ],
          "scattergl": [
           {
            "marker": {
             "colorbar": {
              "outlinewidth": 0,
              "ticks": ""
             }
            },
            "type": "scattergl"
           }
          ],
          "scattermapbox": [
           {
            "marker": {
             "colorbar": {
              "outlinewidth": 0,
              "ticks": ""
             }
            },
            "type": "scattermapbox"
           }
          ],
          "scatterpolar": [
           {
            "marker": {
             "colorbar": {
              "outlinewidth": 0,
              "ticks": ""
             }
            },
            "type": "scatterpolar"
           }
          ],
          "scatterpolargl": [
           {
            "marker": {
             "colorbar": {
              "outlinewidth": 0,
              "ticks": ""
             }
            },
            "type": "scatterpolargl"
           }
          ],
          "scatterternary": [
           {
            "marker": {
             "colorbar": {
              "outlinewidth": 0,
              "ticks": ""
             }
            },
            "type": "scatterternary"
           }
          ],
          "surface": [
           {
            "colorbar": {
             "outlinewidth": 0,
             "ticks": ""
            },
            "colorscale": [
             [
              0,
              "#0d0887"
             ],
             [
              0.1111111111111111,
              "#46039f"
             ],
             [
              0.2222222222222222,
              "#7201a8"
             ],
             [
              0.3333333333333333,
              "#9c179e"
             ],
             [
              0.4444444444444444,
              "#bd3786"
             ],
             [
              0.5555555555555556,
              "#d8576b"
             ],
             [
              0.6666666666666666,
              "#ed7953"
             ],
             [
              0.7777777777777778,
              "#fb9f3a"
             ],
             [
              0.8888888888888888,
              "#fdca26"
             ],
             [
              1,
              "#f0f921"
             ]
            ],
            "type": "surface"
           }
          ],
          "table": [
           {
            "cells": {
             "fill": {
              "color": "#EBF0F8"
             },
             "line": {
              "color": "white"
             }
            },
            "header": {
             "fill": {
              "color": "#C8D4E3"
             },
             "line": {
              "color": "white"
             }
            },
            "type": "table"
           }
          ]
         },
         "layout": {
          "annotationdefaults": {
           "arrowcolor": "#2a3f5f",
           "arrowhead": 0,
           "arrowwidth": 1
          },
          "autotypenumbers": "strict",
          "coloraxis": {
           "colorbar": {
            "outlinewidth": 0,
            "ticks": ""
           }
          },
          "colorscale": {
           "diverging": [
            [
             0,
             "#8e0152"
            ],
            [
             0.1,
             "#c51b7d"
            ],
            [
             0.2,
             "#de77ae"
            ],
            [
             0.3,
             "#f1b6da"
            ],
            [
             0.4,
             "#fde0ef"
            ],
            [
             0.5,
             "#f7f7f7"
            ],
            [
             0.6,
             "#e6f5d0"
            ],
            [
             0.7,
             "#b8e186"
            ],
            [
             0.8,
             "#7fbc41"
            ],
            [
             0.9,
             "#4d9221"
            ],
            [
             1,
             "#276419"
            ]
           ],
           "sequential": [
            [
             0,
             "#0d0887"
            ],
            [
             0.1111111111111111,
             "#46039f"
            ],
            [
             0.2222222222222222,
             "#7201a8"
            ],
            [
             0.3333333333333333,
             "#9c179e"
            ],
            [
             0.4444444444444444,
             "#bd3786"
            ],
            [
             0.5555555555555556,
             "#d8576b"
            ],
            [
             0.6666666666666666,
             "#ed7953"
            ],
            [
             0.7777777777777778,
             "#fb9f3a"
            ],
            [
             0.8888888888888888,
             "#fdca26"
            ],
            [
             1,
             "#f0f921"
            ]
           ],
           "sequentialminus": [
            [
             0,
             "#0d0887"
            ],
            [
             0.1111111111111111,
             "#46039f"
            ],
            [
             0.2222222222222222,
             "#7201a8"
            ],
            [
             0.3333333333333333,
             "#9c179e"
            ],
            [
             0.4444444444444444,
             "#bd3786"
            ],
            [
             0.5555555555555556,
             "#d8576b"
            ],
            [
             0.6666666666666666,
             "#ed7953"
            ],
            [
             0.7777777777777778,
             "#fb9f3a"
            ],
            [
             0.8888888888888888,
             "#fdca26"
            ],
            [
             1,
             "#f0f921"
            ]
           ]
          },
          "colorway": [
           "#636efa",
           "#EF553B",
           "#00cc96",
           "#ab63fa",
           "#FFA15A",
           "#19d3f3",
           "#FF6692",
           "#B6E880",
           "#FF97FF",
           "#FECB52"
          ],
          "font": {
           "color": "#2a3f5f"
          },
          "geo": {
           "bgcolor": "white",
           "lakecolor": "white",
           "landcolor": "#E5ECF6",
           "showlakes": true,
           "showland": true,
           "subunitcolor": "white"
          },
          "hoverlabel": {
           "align": "left"
          },
          "hovermode": "closest",
          "mapbox": {
           "style": "light"
          },
          "paper_bgcolor": "white",
          "plot_bgcolor": "#E5ECF6",
          "polar": {
           "angularaxis": {
            "gridcolor": "white",
            "linecolor": "white",
            "ticks": ""
           },
           "bgcolor": "#E5ECF6",
           "radialaxis": {
            "gridcolor": "white",
            "linecolor": "white",
            "ticks": ""
           }
          },
          "scene": {
           "xaxis": {
            "backgroundcolor": "#E5ECF6",
            "gridcolor": "white",
            "gridwidth": 2,
            "linecolor": "white",
            "showbackground": true,
            "ticks": "",
            "zerolinecolor": "white"
           },
           "yaxis": {
            "backgroundcolor": "#E5ECF6",
            "gridcolor": "white",
            "gridwidth": 2,
            "linecolor": "white",
            "showbackground": true,
            "ticks": "",
            "zerolinecolor": "white"
           },
           "zaxis": {
            "backgroundcolor": "#E5ECF6",
            "gridcolor": "white",
            "gridwidth": 2,
            "linecolor": "white",
            "showbackground": true,
            "ticks": "",
            "zerolinecolor": "white"
           }
          },
          "shapedefaults": {
           "line": {
            "color": "#2a3f5f"
           }
          },
          "ternary": {
           "aaxis": {
            "gridcolor": "white",
            "linecolor": "white",
            "ticks": ""
           },
           "baxis": {
            "gridcolor": "white",
            "linecolor": "white",
            "ticks": ""
           },
           "bgcolor": "#E5ECF6",
           "caxis": {
            "gridcolor": "white",
            "linecolor": "white",
            "ticks": ""
           }
          },
          "title": {
           "x": 0.05
          },
          "xaxis": {
           "automargin": true,
           "gridcolor": "white",
           "linecolor": "white",
           "ticks": "",
           "title": {
            "standoff": 15
           },
           "zerolinecolor": "white",
           "zerolinewidth": 2
          },
          "yaxis": {
           "automargin": true,
           "gridcolor": "white",
           "linecolor": "white",
           "ticks": "",
           "title": {
            "standoff": 15
           },
           "zerolinecolor": "white",
           "zerolinewidth": 2
          }
         }
        },
        "title": {
         "text": "Youtube Channel per Year"
        },
        "xaxis": {
         "title": {
          "text": "Year"
         }
        },
        "yaxis": {
         "title": {
          "text": "Number of Channels"
         }
        }
       }
      }
     },
     "metadata": {},
     "output_type": "display_data"
    }
   ],
   "source": [
    "sorted_df = df['created_year'].value_counts().sort_index()\n",
    "\n",
    "fig = go.Figure()\n",
    "\n",
    "fig.add_trace(go.Scatter(x = sorted_df.index , y = sorted_df.values , line_color = 'darkred' , fill = 'tozeroy' , mode = 'lines+markers'))\n",
    "\n",
    "fig.update_layout(title_text = \"Youtube Channel per Year\" , xaxis_title = \"Year\" , yaxis_title = \"Number of Channels\")\n",
    "\n",
    "fig.show()"
   ]
  },
  {
   "cell_type": "markdown",
   "metadata": {},
   "source": [
    "<b>EARNING ANALYSIS</b>"
   ]
  },
  {
   "cell_type": "markdown",
   "metadata": {},
   "source": [
    "VIDEO VIEWS , UPLOADS , SUBSCRIBERS VS YEARLY EARNINGS"
   ]
  },
  {
   "cell_type": "code",
   "execution_count": 15,
   "metadata": {},
   "outputs": [],
   "source": [
    "df['average_yearly_earnings'] = (df['lowest_yearly_earnings'] + df['highest_yearly_earnings']) / 2\n",
    "df['average_monthly_earnings'] = (df['lowest_monthly_earnings'] + df['highest_monthly_earnings']) / 2"
   ]
  },
  {
   "cell_type": "code",
   "execution_count": 16,
   "metadata": {},
   "outputs": [
    {
     "data": {
      "image/png": "[encoded data removed]",
      "text/plain": [
       "<Figure size 2000x500 with 3 Axes>"
      ]
     },
     "metadata": {},
     "output_type": "display_data"
    }
   ],
   "source": [
    "fig, axs = plt.subplots(1, 3, figsize=(20,5))\n",
    "\n",
    "sns.regplot(ax=axs[0], data=df, x='video views', y='average_yearly_earnings', line_kws={'color': 'red'})\n",
    "sns.regplot(ax=axs[1], data=df, x='uploads', y='average_yearly_earnings', line_kws={'color': 'red'})\n",
    "sns.regplot(ax=axs[2], data=df, x='subscribers', y='average_yearly_earnings', line_kws={'color': 'red'})\n",
    "\n",
    "axs[0].grid(True)\n",
    "axs[0].set_title('Video Views vs Yearly Earnings')\n",
    "axs[1].grid(True)\n",
    "axs[1].set_title('Uploads vs Yearly Earnings')\n",
    "axs[2].grid(True)\n",
    "axs[2].set_title('Subscribers vs Yearly Earnings')\n",
    "plt.show()"
   ]
  },
  {
   "cell_type": "code",
   "execution_count": 17,
   "metadata": {},
   "outputs": [
    {
     "data": {
      "image/png": "[encoded data removed]",
      "text/plain": [
       "<Figure size 640x480 with 2 Axes>"
      ]
     },
     "metadata": {},
     "output_type": "display_data"
    }
   ],
   "source": [
    "df_corr = df[['average_yearly_earnings', 'video views', 'uploads', 'subscribers']]\n",
    "corr = df_corr.corr()\n",
    "sns.heatmap(corr, annot=True, linewidth=0.5, cmap='Reds')\n",
    "plt.show()"
   ]
  },
  {
   "cell_type": "markdown",
   "metadata": {},
   "source": [
    "CATEGORY VS YEARLY EARNING"
   ]
  },
  {
   "cell_type": "code",
   "execution_count": 18,
   "metadata": {},
   "outputs": [
    {
     "data": {
      "application/vnd.plotly.v1+json": {
       "config": {
        "plotlyServerURL": "https://plot.ly"
       },
       "data": [
        {
         "alignmentgroup": "True",
         "hovertemplate": "color=Shows<br>x=%{x}<br>y=%{y}<br>text=%{text}<extra></extra>",
         "legendgroup": "Shows",
         "marker": {
          "color": "#636efa",
          "line": {
           "color": "black",
           "width": 2
          },
          "pattern": {
           "shape": ""
          }
         },
         "name": "Shows",
         "offsetgroup": "Shows",
         "orientation": "v",
         "showlegend": true,
         "text": [
          12.96
         ],
         "textposition": "auto",
         "type": "bar",
         "x": [
          "Shows"
         ],
         "xaxis": "x",
         "y": [
          12955380.76923077
         ],
         "yaxis": "y"
        },
        {
         "alignmentgroup": "True",
         "hovertemplate": "color=Autos & Vehicles<br>x=%{x}<br>y=%{y}<br>text=%{text}<extra></extra>",
         "legendgroup": "Autos & Vehicles",
         "marker": {
          "color": "#EF553B",
          "pattern": {
           "shape": ""
          }
         },
         "name": "Autos & Vehicles",
         "offsetgroup": "Autos & Vehicles",
         "orientation": "v",
         "showlegend": true,
         "text": [
          6.99
         ],
         "textposition": "auto",
         "type": "bar",
         "x": [
          "Autos & Vehicles"
         ],
         "xaxis": "x",
         "y": [
          6994875
         ],
         "yaxis": "y"
        },
        {
         "alignmentgroup": "True",
         "hovertemplate": "color=Sports<br>x=%{x}<br>y=%{y}<br>text=%{text}<extra></extra>",
         "legendgroup": "Sports",
         "marker": {
          "color": "#00cc96",
          "pattern": {
           "shape": ""
          }
         },
         "name": "Sports",
         "offsetgroup": "Sports",
         "orientation": "v",
         "showlegend": true,
         "text": [
          5.11
         ],
         "textposition": "auto",
         "type": "bar",
         "x": [
          "Sports"
         ],
         "xaxis": "x",
         "y": [
          5109022.7272727275
         ],
         "yaxis": "y"
        },
        {
         "alignmentgroup": "True",
         "hovertemplate": "color=Pets & Animals<br>x=%{x}<br>y=%{y}<br>text=%{text}<extra></extra>",
         "legendgroup": "Pets & Animals",
         "marker": {
          "color": "#ab63fa",
          "pattern": {
           "shape": ""
          }
         },
         "name": "Pets & Animals",
         "offsetgroup": "Pets & Animals",
         "orientation": "v",
         "showlegend": true,
         "text": [
          5.09
         ],
         "textposition": "auto",
         "type": "bar",
         "x": [
          "Pets & Animals"
         ],
         "xaxis": "x",
         "y": [
          5091696
         ],
         "yaxis": "y"
        },
        {
         "alignmentgroup": "True",
         "hovertemplate": "color=Film & Animation<br>x=%{x}<br>y=%{y}<br>text=%{text}<extra></extra>",
         "legendgroup": "Film & Animation",
         "marker": {
          "color": "#FFA15A",
          "pattern": {
           "shape": ""
          }
         },
         "name": "Film & Animation",
         "offsetgroup": "Film & Animation",
         "orientation": "v",
         "showlegend": true,
         "text": [
          4.67
         ],
         "textposition": "auto",
         "type": "bar",
         "x": [
          "Film & Animation"
         ],
         "xaxis": "x",
         "y": [
          4672382.161521739
         ],
         "yaxis": "y"
        },
        {
         "alignmentgroup": "True",
         "hovertemplate": "color=Education<br>x=%{x}<br>y=%{y}<br>text=%{text}<extra></extra>",
         "legendgroup": "Education",
         "marker": {
          "color": "#19d3f3",
          "pattern": {
           "shape": ""
          }
         },
         "name": "Education",
         "offsetgroup": "Education",
         "orientation": "v",
         "showlegend": true,
         "text": [
          4.42
         ],
         "textposition": "auto",
         "type": "bar",
         "x": [
          "Education"
         ],
         "xaxis": "x",
         "y": [
          4421938.900888889
         ],
         "yaxis": "y"
        },
        {
         "alignmentgroup": "True",
         "hovertemplate": "color=Entertainment<br>x=%{x}<br>y=%{y}<br>text=%{text}<extra></extra>",
         "legendgroup": "Entertainment",
         "marker": {
          "color": "#FF6692",
          "pattern": {
           "shape": ""
          }
         },
         "name": "Entertainment",
         "offsetgroup": "Entertainment",
         "orientation": "v",
         "showlegend": true,
         "text": [
          4.34
         ],
         "textposition": "auto",
         "type": "bar",
         "x": [
          "Entertainment"
         ],
         "xaxis": "x",
         "y": [
          4344095.130278746
         ],
         "yaxis": "y"
        },
        {
         "alignmentgroup": "True",
         "hovertemplate": "color=Comedy<br>x=%{x}<br>y=%{y}<br>text=%{text}<extra></extra>",
         "legendgroup": "Comedy",
         "marker": {
          "color": "#B6E880",
          "pattern": {
           "shape": ""
          }
         },
         "name": "Comedy",
         "offsetgroup": "Comedy",
         "orientation": "v",
         "showlegend": true,
         "text": [
          4.27
         ],
         "textposition": "auto",
         "type": "bar",
         "x": [
          "Comedy"
         ],
         "xaxis": "x",
         "y": [
          4269794.797101449
         ],
         "yaxis": "y"
        },
        {
         "alignmentgroup": "True",
         "hovertemplate": "color=News & Politics<br>x=%{x}<br>y=%{y}<br>text=%{text}<extra></extra>",
         "legendgroup": "News & Politics",
         "marker": {
          "color": "#FF97FF",
          "pattern": {
           "shape": ""
          }
         },
         "name": "News & Politics",
         "offsetgroup": "News & Politics",
         "orientation": "v",
         "showlegend": true,
         "text": [
          4.1
         ],
         "textposition": "auto",
         "type": "bar",
         "x": [
          "News & Politics"
         ],
         "xaxis": "x",
         "y": [
          4095716.674038462
         ],
         "yaxis": "y"
        },
        {
         "alignmentgroup": "True",
         "hovertemplate": "color=Music<br>x=%{x}<br>y=%{y}<br>text=%{text}<extra></extra>",
         "legendgroup": "Music",
         "marker": {
          "color": "#FECB52",
          "pattern": {
           "shape": ""
          }
         },
         "name": "Music",
         "offsetgroup": "Music",
         "orientation": "v",
         "showlegend": true,
         "text": [
          3.53
         ],
         "textposition": "auto",
         "type": "bar",
         "x": [
          "Music"
         ],
         "xaxis": "x",
         "y": [
          3529024.155717822
         ],
         "yaxis": "y"
        },
        {
         "alignmentgroup": "True",
         "hovertemplate": "color=People & Blogs<br>x=%{x}<br>y=%{y}<br>text=%{text}<extra></extra>",
         "legendgroup": "People & Blogs",
         "marker": {
          "color": "#636efa",
          "pattern": {
           "shape": ""
          }
         },
         "name": "People & Blogs",
         "offsetgroup": "People & Blogs",
         "orientation": "v",
         "showlegend": true,
         "text": [
          3.48
         ],
         "textposition": "auto",
         "type": "bar",
         "x": [
          "People & Blogs"
         ],
         "xaxis": "x",
         "y": [
          3484644.197234848
         ],
         "yaxis": "y"
        },
        {
         "alignmentgroup": "True",
         "hovertemplate": "color=Movies<br>x=%{x}<br>y=%{y}<br>text=%{text}<extra></extra>",
         "legendgroup": "Movies",
         "marker": {
          "color": "#EF553B",
          "pattern": {
           "shape": ""
          }
         },
         "name": "Movies",
         "offsetgroup": "Movies",
         "orientation": "v",
         "showlegend": true,
         "text": [
          2.9
         ],
         "textposition": "auto",
         "type": "bar",
         "x": [
          "Movies"
         ],
         "xaxis": "x",
         "y": [
          2895525
         ],
         "yaxis": "y"
        },
        {
         "alignmentgroup": "True",
         "hovertemplate": "color=Nonprofits & Activism<br>x=%{x}<br>y=%{y}<br>text=%{text}<extra></extra>",
         "legendgroup": "Nonprofits & Activism",
         "marker": {
          "color": "#00cc96",
          "pattern": {
           "shape": ""
          }
         },
         "name": "Nonprofits & Activism",
         "offsetgroup": "Nonprofits & Activism",
         "orientation": "v",
         "showlegend": true,
         "text": [
          2.5
         ],
         "textposition": "auto",
         "type": "bar",
         "x": [
          "Nonprofits & Activism"
         ],
         "xaxis": "x",
         "y": [
          2496375
         ],
         "yaxis": "y"
        },
        {
         "alignmentgroup": "True",
         "hovertemplate": "color=Trailers<br>x=%{x}<br>y=%{y}<br>text=%{text}<extra></extra>",
         "legendgroup": "Trailers",
         "marker": {
          "color": "#ab63fa",
          "pattern": {
           "shape": ""
          }
         },
         "name": "Trailers",
         "offsetgroup": "Trailers",
         "orientation": "v",
         "showlegend": true,
         "text": [
          2.31
         ],
         "textposition": "auto",
         "type": "bar",
         "x": [
          "Trailers"
         ],
         "xaxis": "x",
         "y": [
          2310700
         ],
         "yaxis": "y"
        },
        {
         "alignmentgroup": "True",
         "hovertemplate": "color=Gaming<br>x=%{x}<br>y=%{y}<br>text=%{text}<extra></extra>",
         "legendgroup": "Gaming",
         "marker": {
          "color": "#FFA15A",
          "pattern": {
           "shape": ""
          }
         },
         "name": "Gaming",
         "offsetgroup": "Gaming",
         "orientation": "v",
         "showlegend": true,
         "text": [
          1.73
         ],
         "textposition": "auto",
         "type": "bar",
         "x": [
          "Gaming"
         ],
         "xaxis": "x",
         "y": [
          1727600.539574468
         ],
         "yaxis": "y"
        },
        {
         "alignmentgroup": "True",
         "hovertemplate": "color=Science & Technology<br>x=%{x}<br>y=%{y}<br>text=%{text}<extra></extra>",
         "legendgroup": "Science & Technology",
         "marker": {
          "color": "#19d3f3",
          "pattern": {
           "shape": ""
          }
         },
         "name": "Science & Technology",
         "offsetgroup": "Science & Technology",
         "orientation": "v",
         "showlegend": true,
         "text": [
          1.28
         ],
         "textposition": "auto",
         "type": "bar",
         "x": [
          "Science & Technology"
         ],
         "xaxis": "x",
         "y": [
          1283507.205882353
         ],
         "yaxis": "y"
        },
        {
         "alignmentgroup": "True",
         "hovertemplate": "color=Howto & Style<br>x=%{x}<br>y=%{y}<br>text=%{text}<extra></extra>",
         "legendgroup": "Howto & Style",
         "marker": {
          "color": "#FF6692",
          "pattern": {
           "shape": ""
          }
         },
         "name": "Howto & Style",
         "offsetgroup": "Howto & Style",
         "orientation": "v",
         "showlegend": true,
         "text": [
          1.23
         ],
         "textposition": "auto",
         "type": "bar",
         "x": [
          "Howto & Style"
         ],
         "xaxis": "x",
         "y": [
          1230536.253875
         ],
         "yaxis": "y"
        },
        {
         "alignmentgroup": "True",
         "hovertemplate": "color=Travel & Events<br>x=%{x}<br>y=%{y}<br>text=%{text}<extra></extra>",
         "legendgroup": "Travel & Events",
         "marker": {
          "color": "#B6E880",
          "pattern": {
           "shape": ""
          }
         },
         "name": "Travel & Events",
         "offsetgroup": "Travel & Events",
         "orientation": "v",
         "showlegend": true,
         "text": [
          0.8
         ],
         "textposition": "auto",
         "type": "bar",
         "x": [
          "Travel & Events"
         ],
         "xaxis": "x",
         "y": [
          796500
         ],
         "yaxis": "y"
        }
       ],
       "layout": {
        "barmode": "relative",
        "legend": {
         "title": {
          "text": "color"
         },
         "tracegroupgap": 0
        },
        "template": {
         "data": {
          "bar": [
           {
            "error_x": {
             "color": "#2a3f5f"
            },
            "error_y": {
             "color": "#2a3f5f"
            },
            "marker": {
             "line": {
              "color": "#E5ECF6",
              "width": 0.5
             },
             "pattern": {
              "fillmode": "overlay",
              "size": 10,
              "solidity": 0.2
             }
            },
            "type": "bar"
           }
          ],
          "barpolar": [
           {
            "marker": {
             "line": {
              "color": "#E5ECF6",
              "width": 0.5
             },
             "pattern": {
              "fillmode": "overlay",
              "size": 10,
              "solidity": 0.2
             }
            },
            "type": "barpolar"
           }
          ],
          "carpet": [
           {
            "aaxis": {
             "endlinecolor": "#2a3f5f",
             "gridcolor": "white",
             "linecolor": "white",
             "minorgridcolor": "white",
             "startlinecolor": "#2a3f5f"
            },
            "baxis": {
             "endlinecolor": "#2a3f5f",
             "gridcolor": "white",
             "linecolor": "white",
             "minorgridcolor": "white",
             "startlinecolor": "#2a3f5f"
            },
            "type": "carpet"
           }
          ],
          "choropleth": [
           {
            "colorbar": {
             "outlinewidth": 0,
             "ticks": ""
            },
            "type": "choropleth"
           }
          ],
          "contour": [
           {
            "colorbar": {
             "outlinewidth": 0,
             "ticks": ""
            },
            "colorscale": [
             [
              0,
              "#0d0887"
             ],
             [
              0.1111111111111111,
              "#46039f"
             ],
             [
              0.2222222222222222,
              "#7201a8"
             ],
             [
              0.3333333333333333,
              "#9c179e"
             ],
             [
              0.4444444444444444,
              "#bd3786"
             ],
             [
              0.5555555555555556,
              "#d8576b"
             ],
             [
              0.6666666666666666,
              "#ed7953"
             ],
             [
              0.7777777777777778,
              "#fb9f3a"
             ],
             [
              0.8888888888888888,
              "#fdca26"
             ],
             [
              1,
              "#f0f921"
             ]
            ],
            "type": "contour"
           }
          ],
          "contourcarpet": [
           {
            "colorbar": {
             "outlinewidth": 0,
             "ticks": ""
            },
            "type": "contourcarpet"
           }
          ],
          "heatmap": [
           {
            "colorbar": {
             "outlinewidth": 0,
             "ticks": ""
            },
            "colorscale": [
             [
              0,
              "#0d0887"
             ],
             [
              0.1111111111111111,
              "#46039f"
             ],
             [
              0.2222222222222222,
              "#7201a8"
             ],
             [
              0.3333333333333333,
              "#9c179e"
             ],
             [
              0.4444444444444444,
              "#bd3786"
             ],
             [
              0.5555555555555556,
              "#d8576b"
             ],
             [
              0.6666666666666666,
              "#ed7953"
             ],
             [
              0.7777777777777778,
              "#fb9f3a"
             ],
             [
              0.8888888888888888,
              "#fdca26"
             ],
             [
              1,
              "#f0f921"
             ]
            ],
            "type": "heatmap"
           }
          ],
          "heatmapgl": [
           {
            "colorbar": {
             "outlinewidth": 0,
             "ticks": ""
            },
            "colorscale": [
             [
              0,
              "#0d0887"
             ],
             [
              0.1111111111111111,
              "#46039f"
             ],
             [
              0.2222222222222222,
              "#7201a8"
             ],
             [
              0.3333333333333333,
              "#9c179e"
             ],
             [
              0.4444444444444444,
              "#bd3786"
             ],
             [
              0.5555555555555556,
              "#d8576b"
             ],
             [
              0.6666666666666666,
              "#ed7953"
             ],
             [
              0.7777777777777778,
              "#fb9f3a"
             ],
             [
              0.8888888888888888,
              "#fdca26"
             ],
             [
              1,
              "#f0f921"
             ]
            ],
            "type": "heatmapgl"
           }
          ],
          "histogram": [
           {
            "marker": {
             "pattern": {
              "fillmode": "overlay",
              "size": 10,
              "solidity": 0.2
             }
            },
            "type": "histogram"
           }
          ],
          "histogram2d": [
           {
            "colorbar": {
             "outlinewidth": 0,
             "ticks": ""
            },
            "colorscale": [
             [
              0,
              "#0d0887"
             ],
             [
              0.1111111111111111,
              "#46039f"
             ],
             [
              0.2222222222222222,
              "#7201a8"
             ],
             [
              0.3333333333333333,
              "#9c179e"
             ],
             [
              0.4444444444444444,
              "#bd3786"
             ],
             [
              0.5555555555555556,
              "#d8576b"
             ],
             [
              0.6666666666666666,
              "#ed7953"
             ],
             [
              0.7777777777777778,
              "#fb9f3a"
             ],
             [
              0.8888888888888888,
              "#fdca26"
             ],
             [
              1,
              "#f0f921"
             ]
            ],
            "type": "histogram2d"
           }
          ],
          "histogram2dcontour": [
           {
            "colorbar": {
             "outlinewidth": 0,
             "ticks": ""
            },
            "colorscale": [
             [
              0,
              "#0d0887"
             ],
             [
              0.1111111111111111,
              "#46039f"
             ],
             [
              0.2222222222222222,
              "#7201a8"
             ],
             [
              0.3333333333333333,
              "#9c179e"
             ],
             [
              0.4444444444444444,
              "#bd3786"
             ],
             [
              0.5555555555555556,
              "#d8576b"
             ],
             [
              0.6666666666666666,
              "#ed7953"
             ],
             [
              0.7777777777777778,
              "#fb9f3a"
             ],
             [
              0.8888888888888888,
              "#fdca26"
             ],
             [
              1,
              "#f0f921"
             ]
            ],
            "type": "histogram2dcontour"
           }
          ],
          "mesh3d": [
           {
            "colorbar": {
             "outlinewidth": 0,
             "ticks": ""
            },
            "type": "mesh3d"
           }
          ],
          "parcoords": [
           {
            "line": {
             "colorbar": {
              "outlinewidth": 0,
              "ticks": ""
             }
            },
            "type": "parcoords"
           }
          ],
          "pie": [
           {
            "automargin": true,
            "type": "pie"
           }
          ],
          "scatter": [
           {
            "fillpattern": {
             "fillmode": "overlay",
             "size": 10,
             "solidity": 0.2
            },
            "type": "scatter"
           }
          ],
          "scatter3d": [
           {
            "line": {
             "colorbar": {
              "outlinewidth": 0,
              "ticks": ""
             }
            },
            "marker": {
             "colorbar": {
              "outlinewidth": 0,
              "ticks": ""
             }
            },
            "type": "scatter3d"
           }
          ],
          "scattercarpet": [
           {
            "marker": {
             "colorbar": {
              "outlinewidth": 0,
              "ticks": ""
             }
            },
            "type": "scattercarpet"
           }
          ],
          "scattergeo": [
           {
            "marker": {
             "colorbar": {
              "outlinewidth": 0,
              "ticks": ""
             }
            },
            "type": "scattergeo"
           }
          ],
          "scattergl": [
           {
            "marker": {
             "colorbar": {
              "outlinewidth": 0,
              "ticks": ""
             }
            },
            "type": "scattergl"
           }
          ],
          "scattermapbox": [
           {
            "marker": {
             "colorbar": {
              "outlinewidth": 0,
              "ticks": ""
             }
            },
            "type": "scattermapbox"
           }
          ],
          "scatterpolar": [
           {
            "marker": {
             "colorbar": {
              "outlinewidth": 0,
              "ticks": ""
             }
            },
            "type": "scatterpolar"
           }
          ],
          "scatterpolargl": [
           {
            "marker": {
             "colorbar": {
              "outlinewidth": 0,
              "ticks": ""
             }
            },
            "type": "scatterpolargl"
           }
          ],
          "scatterternary": [
           {
            "marker": {
             "colorbar": {
              "outlinewidth": 0,
              "ticks": ""
             }
            },
            "type": "scatterternary"
           }
          ],
          "surface": [
           {
            "colorbar": {
             "outlinewidth": 0,
             "ticks": ""
            },
            "colorscale": [
             [
              0,
              "#0d0887"
             ],
             [
              0.1111111111111111,
              "#46039f"
             ],
             [
              0.2222222222222222,
              "#7201a8"
             ],
             [
              0.3333333333333333,
              "#9c179e"
             ],
             [
              0.4444444444444444,
              "#bd3786"
             ],
             [
              0.5555555555555556,
              "#d8576b"
             ],
             [
              0.6666666666666666,
              "#ed7953"
             ],
             [
              0.7777777777777778,
              "#fb9f3a"
             ],
             [
              0.8888888888888888,
              "#fdca26"
             ],
             [
              1,
              "#f0f921"
             ]
            ],
            "type": "surface"
           }
          ],
          "table": [
           {
            "cells": {
             "fill": {
              "color": "#EBF0F8"
             },
             "line": {
              "color": "white"
             }
            },
            "header": {
             "fill": {
              "color": "#C8D4E3"
             },
             "line": {
              "color": "white"
             }
            },
            "type": "table"
           }
          ]
         },
         "layout": {
          "annotationdefaults": {
           "arrowcolor": "#2a3f5f",
           "arrowhead": 0,
           "arrowwidth": 1
          },
          "autotypenumbers": "strict",
          "coloraxis": {
           "colorbar": {
            "outlinewidth": 0,
            "ticks": ""
           }
          },
          "colorscale": {
           "diverging": [
            [
             0,
             "#8e0152"
            ],
            [
             0.1,
             "#c51b7d"
            ],
            [
             0.2,
             "#de77ae"
            ],
            [
             0.3,
             "#f1b6da"
            ],
            [
             0.4,
             "#fde0ef"
            ],
            [
             0.5,
             "#f7f7f7"
            ],
            [
             0.6,
             "#e6f5d0"
            ],
            [
             0.7,
             "#b8e186"
            ],
            [
             0.8,
             "#7fbc41"
            ],
            [
             0.9,
             "#4d9221"
            ],
            [
             1,
             "#276419"
            ]
           ],
           "sequential": [
            [
             0,
             "#0d0887"
            ],
            [
             0.1111111111111111,
             "#46039f"
            ],
            [
             0.2222222222222222,
             "#7201a8"
            ],
            [
             0.3333333333333333,
             "#9c179e"
            ],
            [
             0.4444444444444444,
             "#bd3786"
            ],
            [
             0.5555555555555556,
             "#d8576b"
            ],
            [
             0.6666666666666666,
             "#ed7953"
            ],
            [
             0.7777777777777778,
             "#fb9f3a"
            ],
            [
             0.8888888888888888,
             "#fdca26"
            ],
            [
             1,
             "#f0f921"
            ]
           ],
           "sequentialminus": [
            [
             0,
             "#0d0887"
            ],
            [
             0.1111111111111111,
             "#46039f"
            ],
            [
             0.2222222222222222,
             "#7201a8"
            ],
            [
             0.3333333333333333,
             "#9c179e"
            ],
            [
             0.4444444444444444,
             "#bd3786"
            ],
            [
             0.5555555555555556,
             "#d8576b"
            ],
            [
             0.6666666666666666,
             "#ed7953"
            ],
            [
             0.7777777777777778,
             "#fb9f3a"
            ],
            [
             0.8888888888888888,
             "#fdca26"
            ],
            [
             1,
             "#f0f921"
            ]
           ]
          },
          "colorway": [
           "#636efa",
           "#EF553B",
           "#00cc96",
           "#ab63fa",
           "#FFA15A",
           "#19d3f3",
           "#FF6692",
           "#B6E880",
           "#FF97FF",
           "#FECB52"
          ],
          "font": {
           "color": "#2a3f5f"
          },
          "geo": {
           "bgcolor": "white",
           "lakecolor": "white",
           "landcolor": "#E5ECF6",
           "showlakes": true,
           "showland": true,
           "subunitcolor": "white"
          },
          "hoverlabel": {
           "align": "left"
          },
          "hovermode": "closest",
          "mapbox": {
           "style": "light"
          },
          "paper_bgcolor": "white",
          "plot_bgcolor": "#E5ECF6",
          "polar": {
           "angularaxis": {
            "gridcolor": "white",
            "linecolor": "white",
            "ticks": ""
           },
           "bgcolor": "#E5ECF6",
           "radialaxis": {
            "gridcolor": "white",
            "linecolor": "white",
            "ticks": ""
           }
          },
          "scene": {
           "xaxis": {
            "backgroundcolor": "#E5ECF6",
            "gridcolor": "white",
            "gridwidth": 2,
            "linecolor": "white",
            "showbackground": true,
            "ticks": "",
            "zerolinecolor": "white"
           },
           "yaxis": {
            "backgroundcolor": "#E5ECF6",
            "gridcolor": "white",
            "gridwidth": 2,
            "linecolor": "white",
            "showbackground": true,
            "ticks": "",
            "zerolinecolor": "white"
           },
           "zaxis": {
            "backgroundcolor": "#E5ECF6",
            "gridcolor": "white",
            "gridwidth": 2,
            "linecolor": "white",
            "showbackground": true,
            "ticks": "",
            "zerolinecolor": "white"
           }
          },
          "shapedefaults": {
           "line": {
            "color": "#2a3f5f"
           }
          },
          "ternary": {
           "aaxis": {
            "gridcolor": "white",
            "linecolor": "white",
            "ticks": ""
           },
           "baxis": {
            "gridcolor": "white",
            "linecolor": "white",
            "ticks": ""
           },
           "bgcolor": "#E5ECF6",
           "caxis": {
            "gridcolor": "white",
            "linecolor": "white",
            "ticks": ""
           }
          },
          "title": {
           "x": 0.05
          },
          "xaxis": {
           "automargin": true,
           "gridcolor": "white",
           "linecolor": "white",
           "ticks": "",
           "title": {
            "standoff": 15
           },
           "zerolinecolor": "white",
           "zerolinewidth": 2
          },
          "yaxis": {
           "automargin": true,
           "gridcolor": "white",
           "linecolor": "white",
           "ticks": "",
           "title": {
            "standoff": 15
           },
           "zerolinecolor": "white",
           "zerolinewidth": 2
          }
         }
        },
        "title": {
         "text": "Average_Yearly_Earning vs Category"
        },
        "xaxis": {
         "anchor": "y",
         "domain": [
          0,
          1
         ],
         "title": {
          "text": "Category"
         }
        },
        "yaxis": {
         "anchor": "x",
         "domain": [
          0,
          1
         ],
         "title": {
          "text": "Average Yearly Earning"
         }
        }
       }
      }
     },
     "metadata": {},
     "output_type": "display_data"
    }
   ],
   "source": [
    "categories = df.groupby('category')['average_yearly_earnings'].mean().sort_values(ascending=False)\n",
    "\n",
    "fig = go.Figure(data = px.bar(x = categories.index , y = categories.values , color = categories.index ,title = \"Average_Yearly_Earning vs Category\" , text = np.round(categories.values/1000000,2)))\n",
    "\n",
    "fig.data[0].marker.line.width = 2\n",
    "fig.data[0].marker.line.color = 'black'\n",
    "\n",
    "fig.update_layout(xaxis_title = 'Category' , yaxis_title = 'Average Yearly Earning')\n",
    "\n",
    "fig.show()"
   ]
  },
  {
   "cell_type": "markdown",
   "metadata": {},
   "source": [
    "COUNTRY VS TOTAL YOUTUBERS"
   ]
  },
  {
   "cell_type": "code",
   "execution_count": 25,
   "metadata": {},
   "outputs": [
    {
     "data": {
      "application/vnd.plotly.v1+json": {
       "config": {
        "plotlyServerURL": "https://plot.ly"
       },
       "data": [
        {
         "alignmentgroup": "True",
         "hovertemplate": "color=United States<br>x=%{x}<br>y=%{y}<br>text=%{text}<extra></extra>",
         "legendgroup": "United States",
         "marker": {
          "color": "#636efa",
          "line": {
           "color": "black",
           "width": 2
          },
          "pattern": {
           "shape": ""
          }
         },
         "name": "United States",
         "offsetgroup": "United States",
         "orientation": "v",
         "showlegend": true,
         "text": [
          435
         ],
         "textposition": "auto",
         "type": "bar",
         "x": [
          "United States"
         ],
         "xaxis": "x",
         "y": [
          435
         ],
         "yaxis": "y"
        },
        {
         "alignmentgroup": "True",
         "hovertemplate": "color=India<br>x=%{x}<br>y=%{y}<br>text=%{text}<extra></extra>",
         "legendgroup": "India",
         "marker": {
          "color": "#EF553B",
          "pattern": {
           "shape": ""
          }
         },
         "name": "India",
         "offsetgroup": "India",
         "orientation": "v",
         "showlegend": true,
         "text": [
          168
         ],
         "textposition": "auto",
         "type": "bar",
         "x": [
          "India"
         ],
         "xaxis": "x",
         "y": [
          168
         ],
         "yaxis": "y"
        },
        {
         "alignmentgroup": "True",
         "hovertemplate": "color=Brazil<br>x=%{x}<br>y=%{y}<br>text=%{text}<extra></extra>",
         "legendgroup": "Brazil",
         "marker": {
          "color": "#00cc96",
          "pattern": {
           "shape": ""
          }
         },
         "name": "Brazil",
         "offsetgroup": "Brazil",
         "orientation": "v",
         "showlegend": true,
         "text": [
          62
         ],
         "textposition": "auto",
         "type": "bar",
         "x": [
          "Brazil"
         ],
         "xaxis": "x",
         "y": [
          62
         ],
         "yaxis": "y"
        },
        {
         "alignmentgroup": "True",
         "hovertemplate": "color=United Kingdom<br>x=%{x}<br>y=%{y}<br>text=%{text}<extra></extra>",
         "legendgroup": "United Kingdom",
         "marker": {
          "color": "#ab63fa",
          "pattern": {
           "shape": ""
          }
         },
         "name": "United Kingdom",
         "offsetgroup": "United Kingdom",
         "orientation": "v",
         "showlegend": true,
         "text": [
          43
         ],
         "textposition": "auto",
         "type": "bar",
         "x": [
          "United Kingdom"
         ],
         "xaxis": "x",
         "y": [
          43
         ],
         "yaxis": "y"
        },
        {
         "alignmentgroup": "True",
         "hovertemplate": "color=Mexico<br>x=%{x}<br>y=%{y}<br>text=%{text}<extra></extra>",
         "legendgroup": "Mexico",
         "marker": {
          "color": "#FFA15A",
          "pattern": {
           "shape": ""
          }
         },
         "name": "Mexico",
         "offsetgroup": "Mexico",
         "orientation": "v",
         "showlegend": true,
         "text": [
          33
         ],
         "textposition": "auto",
         "type": "bar",
         "x": [
          "Mexico"
         ],
         "xaxis": "x",
         "y": [
          33
         ],
         "yaxis": "y"
        },
        {
         "alignmentgroup": "True",
         "hovertemplate": "color=Indonesia<br>x=%{x}<br>y=%{y}<br>text=%{text}<extra></extra>",
         "legendgroup": "Indonesia",
         "marker": {
          "color": "#19d3f3",
          "pattern": {
           "shape": ""
          }
         },
         "name": "Indonesia",
         "offsetgroup": "Indonesia",
         "orientation": "v",
         "showlegend": true,
         "text": [
          28
         ],
         "textposition": "auto",
         "type": "bar",
         "x": [
          "Indonesia"
         ],
         "xaxis": "x",
         "y": [
          28
         ],
         "yaxis": "y"
        },
        {
         "alignmentgroup": "True",
         "hovertemplate": "color=Spain<br>x=%{x}<br>y=%{y}<br>text=%{text}<extra></extra>",
         "legendgroup": "Spain",
         "marker": {
          "color": "#FF6692",
          "pattern": {
           "shape": ""
          }
         },
         "name": "Spain",
         "offsetgroup": "Spain",
         "orientation": "v",
         "showlegend": true,
         "text": [
          22
         ],
         "textposition": "auto",
         "type": "bar",
         "x": [
          "Spain"
         ],
         "xaxis": "x",
         "y": [
          22
         ],
         "yaxis": "y"
        },
        {
         "alignmentgroup": "True",
         "hovertemplate": "color=Thailand<br>x=%{x}<br>y=%{y}<br>text=%{text}<extra></extra>",
         "legendgroup": "Thailand",
         "marker": {
          "color": "#B6E880",
          "pattern": {
           "shape": ""
          }
         },
         "name": "Thailand",
         "offsetgroup": "Thailand",
         "orientation": "v",
         "showlegend": true,
         "text": [
          18
         ],
         "textposition": "auto",
         "type": "bar",
         "x": [
          "Thailand"
         ],
         "xaxis": "x",
         "y": [
          18
         ],
         "yaxis": "y"
        },
        {
         "alignmentgroup": "True",
         "hovertemplate": "color=South Korea<br>x=%{x}<br>y=%{y}<br>text=%{text}<extra></extra>",
         "legendgroup": "South Korea",
         "marker": {
          "color": "#FF97FF",
          "pattern": {
           "shape": ""
          }
         },
         "name": "South Korea",
         "offsetgroup": "South Korea",
         "orientation": "v",
         "showlegend": true,
         "text": [
          17
         ],
         "textposition": "auto",
         "type": "bar",
         "x": [
          "South Korea"
         ],
         "xaxis": "x",
         "y": [
          17
         ],
         "yaxis": "y"
        },
        {
         "alignmentgroup": "True",
         "hovertemplate": "color=Russia<br>x=%{x}<br>y=%{y}<br>text=%{text}<extra></extra>",
         "legendgroup": "Russia",
         "marker": {
          "color": "#FECB52",
          "pattern": {
           "shape": ""
          }
         },
         "name": "Russia",
         "offsetgroup": "Russia",
         "orientation": "v",
         "showlegend": true,
         "text": [
          16
         ],
         "textposition": "auto",
         "type": "bar",
         "x": [
          "Russia"
         ],
         "xaxis": "x",
         "y": [
          16
         ],
         "yaxis": "y"
        }
       ],
       "layout": {
        "barmode": "relative",
        "legend": {
         "title": {
          "text": "color"
         },
         "tracegroupgap": 0
        },
        "template": {
         "data": {
          "bar": [
           {
            "error_x": {
             "color": "#2a3f5f"
            },
            "error_y": {
             "color": "#2a3f5f"
            },
            "marker": {
             "line": {
              "color": "#E5ECF6",
              "width": 0.5
             },
             "pattern": {
              "fillmode": "overlay",
              "size": 10,
              "solidity": 0.2
             }
            },
            "type": "bar"
           }
          ],
          "barpolar": [
           {
            "marker": {
             "line": {
              "color": "#E5ECF6",
              "width": 0.5
             },
             "pattern": {
              "fillmode": "overlay",
              "size": 10,
              "solidity": 0.2
             }
            },
            "type": "barpolar"
           }
          ],
          "carpet": [
           {
            "aaxis": {
             "endlinecolor": "#2a3f5f",
             "gridcolor": "white",
             "linecolor": "white",
             "minorgridcolor": "white",
             "startlinecolor": "#2a3f5f"
            },
            "baxis": {
             "endlinecolor": "#2a3f5f",
             "gridcolor": "white",
             "linecolor": "white",
             "minorgridcolor": "white",
             "startlinecolor": "#2a3f5f"
            },
            "type": "carpet"
           }
          ],
          "choropleth": [
           {
            "colorbar": {
             "outlinewidth": 0,
             "ticks": ""
            },
            "type": "choropleth"
           }
          ],
          "contour": [
           {
            "colorbar": {
             "outlinewidth": 0,
             "ticks": ""
            },
            "colorscale": [
             [
              0,
              "#0d0887"
             ],
             [
              0.1111111111111111,
              "#46039f"
             ],
             [
              0.2222222222222222,
              "#7201a8"
             ],
             [
              0.3333333333333333,
              "#9c179e"
             ],
             [
              0.4444444444444444,
              "#bd3786"
             ],
             [
              0.5555555555555556,
              "#d8576b"
             ],
             [
              0.6666666666666666,
              "#ed7953"
             ],
             [
              0.7777777777777778,
              "#fb9f3a"
             ],
             [
              0.8888888888888888,
              "#fdca26"
             ],
             [
              1,
              "#f0f921"
             ]
            ],
            "type": "contour"
           }
          ],
          "contourcarpet": [
           {
            "colorbar": {
             "outlinewidth": 0,
             "ticks": ""
            },
            "type": "contourcarpet"
           }
          ],
          "heatmap": [
           {
            "colorbar": {
             "outlinewidth": 0,
             "ticks": ""
            },
            "colorscale": [
             [
              0,
              "#0d0887"
             ],
             [
              0.1111111111111111,
              "#46039f"
             ],
             [
              0.2222222222222222,
              "#7201a8"
             ],
             [
              0.3333333333333333,
              "#9c179e"
             ],
             [
              0.4444444444444444,
              "#bd3786"
             ],
             [
              0.5555555555555556,
              "#d8576b"
             ],
             [
              0.6666666666666666,
              "#ed7953"
             ],
             [
              0.7777777777777778,
              "#fb9f3a"
             ],
             [
              0.8888888888888888,
              "#fdca26"
             ],
             [
              1,
              "#f0f921"
             ]
            ],
            "type": "heatmap"
           }
          ],
          "heatmapgl": [
           {
            "colorbar": {
             "outlinewidth": 0,
             "ticks": ""
            },
            "colorscale": [
             [
              0,
              "#0d0887"
             ],
             [
              0.1111111111111111,
              "#46039f"
             ],
             [
              0.2222222222222222,
              "#7201a8"
             ],
             [
              0.3333333333333333,
              "#9c179e"
             ],
             [
              0.4444444444444444,
              "#bd3786"
             ],
             [
              0.5555555555555556,
              "#d8576b"
             ],
             [
              0.6666666666666666,
              "#ed7953"
             ],
             [
              0.7777777777777778,
              "#fb9f3a"
             ],
             [
              0.8888888888888888,
              "#fdca26"
             ],
             [
              1,
              "#f0f921"
             ]
            ],
            "type": "heatmapgl"
           }
          ],
          "histogram": [
           {
            "marker": {
             "pattern": {
              "fillmode": "overlay",
              "size": 10,
              "solidity": 0.2
             }
            },
            "type": "histogram"
           }
          ],
          "histogram2d": [
           {
            "colorbar": {
             "outlinewidth": 0,
             "ticks": ""
            },
            "colorscale": [
             [
              0,
              "#0d0887"
             ],
             [
              0.1111111111111111,
              "#46039f"
             ],
             [
              0.2222222222222222,
              "#7201a8"
             ],
             [
              0.3333333333333333,
              "#9c179e"
             ],
             [
              0.4444444444444444,
              "#bd3786"
             ],
             [
              0.5555555555555556,
              "#d8576b"
             ],
             [
              0.6666666666666666,
              "#ed7953"
             ],
             [
              0.7777777777777778,
              "#fb9f3a"
             ],
             [
              0.8888888888888888,
              "#fdca26"
             ],
             [
              1,
              "#f0f921"
             ]
            ],
            "type": "histogram2d"
           }
          ],
          "histogram2dcontour": [
           {
            "colorbar": {
             "outlinewidth": 0,
             "ticks": ""
            },
            "colorscale": [
             [
              0,
              "#0d0887"
             ],
             [
              0.1111111111111111,
              "#46039f"
             ],
             [
              0.2222222222222222,
              "#7201a8"
             ],
             [
              0.3333333333333333,
              "#9c179e"
             ],
             [
              0.4444444444444444,
              "#bd3786"
             ],
             [
              0.5555555555555556,
              "#d8576b"
             ],
             [
              0.6666666666666666,
              "#ed7953"
             ],
             [
              0.7777777777777778,
              "#fb9f3a"
             ],
             [
              0.8888888888888888,
              "#fdca26"
             ],
             [
              1,
              "#f0f921"
             ]
            ],
            "type": "histogram2dcontour"
           }
          ],
          "mesh3d": [
           {
            "colorbar": {
             "outlinewidth": 0,
             "ticks": ""
            },
            "type": "mesh3d"
           }
          ],
          "parcoords": [
           {
            "line": {
             "colorbar": {
              "outlinewidth": 0,
              "ticks": ""
             }
            },
            "type": "parcoords"
           }
          ],
          "pie": [
           {
            "automargin": true,
            "type": "pie"
           }
          ],
          "scatter": [
           {
            "fillpattern": {
             "fillmode": "overlay",
             "size": 10,
             "solidity": 0.2
            },
            "type": "scatter"
           }
          ],
          "scatter3d": [
           {
            "line": {
             "colorbar": {
              "outlinewidth": 0,
              "ticks": ""
             }
            },
            "marker": {
             "colorbar": {
              "outlinewidth": 0,
              "ticks": ""
             }
            },
            "type": "scatter3d"
           }
          ],
          "scattercarpet": [
           {
            "marker": {
             "colorbar": {
              "outlinewidth": 0,
              "ticks": ""
             }
            },
            "type": "scattercarpet"
           }
          ],
          "scattergeo": [
           {
            "marker": {
             "colorbar": {
              "outlinewidth": 0,
              "ticks": ""
             }
            },
            "type": "scattergeo"
           }
          ],
          "scattergl": [
           {
            "marker": {
             "colorbar": {
              "outlinewidth": 0,
              "ticks": ""
             }
            },
            "type": "scattergl"
           }
          ],
          "scattermapbox": [
           {
            "marker": {
             "colorbar": {
              "outlinewidth": 0,
              "ticks": ""
             }
            },
            "type": "scattermapbox"
           }
          ],
          "scatterpolar": [
           {
            "marker": {
             "colorbar": {
              "outlinewidth": 0,
              "ticks": ""
             }
            },
            "type": "scatterpolar"
           }
          ],
          "scatterpolargl": [
           {
            "marker": {
             "colorbar": {
              "outlinewidth": 0,
              "ticks": ""
             }
            },
            "type": "scatterpolargl"
           }
          ],
          "scatterternary": [
           {
            "marker": {
             "colorbar": {
              "outlinewidth": 0,
              "ticks": ""
             }
            },
            "type": "scatterternary"
           }
          ],
          "surface": [
           {
            "colorbar": {
             "outlinewidth": 0,
             "ticks": ""
            },
            "colorscale": [
             [
              0,
              "#0d0887"
             ],
             [
              0.1111111111111111,
              "#46039f"
             ],
             [
              0.2222222222222222,
              "#7201a8"
             ],
             [
              0.3333333333333333,
              "#9c179e"
             ],
             [
              0.4444444444444444,
              "#bd3786"
             ],
             [
              0.5555555555555556,
              "#d8576b"
             ],
             [
              0.6666666666666666,
              "#ed7953"
             ],
             [
              0.7777777777777778,
              "#fb9f3a"
             ],
             [
              0.8888888888888888,
              "#fdca26"
             ],
             [
              1,
              "#f0f921"
             ]
            ],
            "type": "surface"
           }
          ],
          "table": [
           {
            "cells": {
             "fill": {
              "color": "#EBF0F8"
             },
             "line": {
              "color": "white"
             }
            },
            "header": {
             "fill": {
              "color": "#C8D4E3"
             },
             "line": {
              "color": "white"
             }
            },
            "type": "table"
           }
          ]
         },
         "layout": {
          "annotationdefaults": {
           "arrowcolor": "#2a3f5f",
           "arrowhead": 0,
           "arrowwidth": 1
          },
          "autotypenumbers": "strict",
          "coloraxis": {
           "colorbar": {
            "outlinewidth": 0,
            "ticks": ""
           }
          },
          "colorscale": {
           "diverging": [
            [
             0,
             "#8e0152"
            ],
            [
             0.1,
             "#c51b7d"
            ],
            [
             0.2,
             "#de77ae"
            ],
            [
             0.3,
             "#f1b6da"
            ],
            [
             0.4,
             "#fde0ef"
            ],
            [
             0.5,
             "#f7f7f7"
            ],
            [
             0.6,
             "#e6f5d0"
            ],
            [
             0.7,
             "#b8e186"
            ],
            [
             0.8,
             "#7fbc41"
            ],
            [
             0.9,
             "#4d9221"
            ],
            [
             1,
             "#276419"
            ]
           ],
           "sequential": [
            [
             0,
             "#0d0887"
            ],
            [
             0.1111111111111111,
             "#46039f"
            ],
            [
             0.2222222222222222,
             "#7201a8"
            ],
            [
             0.3333333333333333,
             "#9c179e"
            ],
            [
             0.4444444444444444,
             "#bd3786"
            ],
            [
             0.5555555555555556,
             "#d8576b"
            ],
            [
             0.6666666666666666,
             "#ed7953"
            ],
            [
             0.7777777777777778,
             "#fb9f3a"
            ],
            [
             0.8888888888888888,
             "#fdca26"
            ],
            [
             1,
             "#f0f921"
            ]
           ],
           "sequentialminus": [
            [
             0,
             "#0d0887"
            ],
            [
             0.1111111111111111,
             "#46039f"
            ],
            [
             0.2222222222222222,
             "#7201a8"
            ],
            [
             0.3333333333333333,
             "#9c179e"
            ],
            [
             0.4444444444444444,
             "#bd3786"
            ],
            [
             0.5555555555555556,
             "#d8576b"
            ],
            [
             0.6666666666666666,
             "#ed7953"
            ],
            [
             0.7777777777777778,
             "#fb9f3a"
            ],
            [
             0.8888888888888888,
             "#fdca26"
            ],
            [
             1,
             "#f0f921"
            ]
           ]
          },
          "colorway": [
           "#636efa",
           "#EF553B",
           "#00cc96",
           "#ab63fa",
           "#FFA15A",
           "#19d3f3",
           "#FF6692",
           "#B6E880",
           "#FF97FF",
           "#FECB52"
          ],
          "font": {
           "color": "#2a3f5f"
          },
          "geo": {
           "bgcolor": "white",
           "lakecolor": "white",
           "landcolor": "#E5ECF6",
           "showlakes": true,
           "showland": true,
           "subunitcolor": "white"
          },
          "hoverlabel": {
           "align": "left"
          },
          "hovermode": "closest",
          "mapbox": {
           "style": "light"
          },
          "paper_bgcolor": "white",
          "plot_bgcolor": "#E5ECF6",
          "polar": {
           "angularaxis": {
            "gridcolor": "white",
            "linecolor": "white",
            "ticks": ""
           },
           "bgcolor": "#E5ECF6",
           "radialaxis": {
            "gridcolor": "white",
            "linecolor": "white",
            "ticks": ""
           }
          },
          "scene": {
           "xaxis": {
            "backgroundcolor": "#E5ECF6",
            "gridcolor": "white",
            "gridwidth": 2,
            "linecolor": "white",
            "showbackground": true,
            "ticks": "",
            "zerolinecolor": "white"
           },
           "yaxis": {
            "backgroundcolor": "#E5ECF6",
            "gridcolor": "white",
            "gridwidth": 2,
            "linecolor": "white",
            "showbackground": true,
            "ticks": "",
            "zerolinecolor": "white"
           },
           "zaxis": {
            "backgroundcolor": "#E5ECF6",
            "gridcolor": "white",
            "gridwidth": 2,
            "linecolor": "white",
            "showbackground": true,
            "ticks": "",
            "zerolinecolor": "white"
           }
          },
          "shapedefaults": {
           "line": {
            "color": "#2a3f5f"
           }
          },
          "ternary": {
           "aaxis": {
            "gridcolor": "white",
            "linecolor": "white",
            "ticks": ""
           },
           "baxis": {
            "gridcolor": "white",
            "linecolor": "white",
            "ticks": ""
           },
           "bgcolor": "#E5ECF6",
           "caxis": {
            "gridcolor": "white",
            "linecolor": "white",
            "ticks": ""
           }
          },
          "title": {
           "x": 0.05
          },
          "xaxis": {
           "automargin": true,
           "gridcolor": "white",
           "linecolor": "white",
           "ticks": "",
           "title": {
            "standoff": 15
           },
           "zerolinecolor": "white",
           "zerolinewidth": 2
          },
          "yaxis": {
           "automargin": true,
           "gridcolor": "white",
           "linecolor": "white",
           "ticks": "",
           "title": {
            "standoff": 15
           },
           "zerolinecolor": "white",
           "zerolinewidth": 2
          }
         }
        },
        "title": {
         "text": "Top 10 Country with Number of Youtubers"
        },
        "xaxis": {
         "anchor": "y",
         "domain": [
          0,
          1
         ],
         "title": {
          "text": "Country"
         }
        },
        "yaxis": {
         "anchor": "x",
         "domain": [
          0,
          1
         ],
         "title": {
          "text": "Number of Youtubers"
         }
        }
       }
      }
     },
     "metadata": {},
     "output_type": "display_data"
    }
   ],
   "source": [
    "number_of_youtubers = df.groupby('Country')['Youtuber'].count().sort_values(ascending=False)\n",
    "\n",
    "top_youtubers = number_of_youtubers.head(10)\n",
    "\n",
    "fig = go.Figure(data = px.bar(x = top_youtubers.index , y = top_youtubers.values , color = top_youtubers.index ,title = \"Top 10 Country with Number of Youtubers\" , text = top_youtubers.values))\n",
    "\n",
    "fig.data[0].marker.line.width = 2\n",
    "fig.data[0].marker.line.color = 'black'\n",
    "\n",
    "fig.update_layout(xaxis_title = 'Country' , yaxis_title = 'Number of Youtubers')\n",
    "\n",
    "fig.show()"
   ]
  }
 ],
 "metadata": {
  "kernelspec": {
   "display_name": "base",
   "language": "python",
   "name": "python3"
  },
  "language_info": {
   "codemirror_mode": {
    "name": "ipython",
    "version": 3
   },
   "file_extension": ".py",
   "mimetype": "text/x-python",
   "name": "python",
   "nbconvert_exporter": "python",
   "pygments_lexer": "ipython3",
   "version": "3.11.7"
  }
 },
 "nbformat": 4,
 "nbformat_minor": 2
}
